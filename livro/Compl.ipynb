{
  "cells": [
    {
      "cell_type": "markdown",
      "metadata": {
        "id": "view-in-github",
        "colab_type": "text"
      },
      "source": [
        "<a href=\"https://colab.research.google.com/github/menotti/ld/blob/main/Livro.ipynb\" target=\"_parent\"><img src=\"https://colab.research.google.com/assets/colab-badge.svg\" alt=\"Open In Colab\"/></a>"
      ]
    },
    {
      "cell_type": "code",
      "execution_count": 1,
      "metadata": {
        "cellView": "form",
        "collapsed": true,
        "id": "UQQgqTajCbaw"
      },
      "outputs": [],
      "source": [
        "#@title Instalações (_executar antes de qualquer outro exemplo_)\n",
        "!pip install git+https://github.com/lesc-ufv/cad4u/ &> /dev/null\n",
        "!git clone https://github.com/lesc-ufv/cad4u/ &> /dev/null\n",
        "%load_ext plugin\n",
        "!sudo apt update &> /dev/null\n",
        "!sudo apt install imagemagick pdf2svg texlive-latex-extra &> /dev/null\n",
        "!pip install git+https://github.com/mkrphys/ipython-tikzmagic.git &> /dev/null\n",
        "%load_ext tikzmagic\n",
        "#!pip install schemdraw[matplotlib]==0.14 &> /dev/null\n",
        "!pip install schemdraw[svgmath]  &> /dev/null\n",
        "!pip install truth-table-generator &> /dev/null\n",
        "\n",
        "import ipywidgets as widgets\n",
        "from ipywidgets import interact, interactive, fixed, interact_manual\n",
        "from ipywidgets.widgets.widget_string import Label\n",
        "from IPython.display import display\n",
        "\n",
        "import random\n",
        "import ttg\n",
        "\n",
        "import schemdraw\n",
        "from schemdraw import elements as elm\n",
        "from schemdraw import logic\n",
        "from schemdraw import flow\n",
        "from schemdraw.parsing import logicparse\n",
        "\n",
        "import numpy as np\n",
        "import pandas as pd\n",
        "import matplotlib.pyplot as plt\n",
        "\n",
        "def questao_aleatorio_lista_dropdown(l,cabecalho=\"\"):\n",
        "  x = random.randrange(len(l))\n",
        "  print(cabecalho+l[x][0]+\"?\")\n",
        "\n",
        "  r = [\"Selecione\"]\n",
        "  for i in l:\n",
        "    r.append(i[1])\n",
        "\n",
        "  def op(resposta):\n",
        "    if (resposta== l[x][1]):\n",
        "      return \"Correto !\"\n",
        "    else:\n",
        "      return \"Tente novamente !\"\n",
        "\n",
        "  interact(op,resposta=r)\n"
      ]
    },
    {
      "cell_type": "markdown",
      "source": [
        "<font color='red'>Esta é uma versão preliminar do livro. Apesar de completa, ela ainda não estão revisada. Esperamos que possa aproveitar o conteúdo e nos fornecer <i>feedback</i> na forma de comentários nas respectivas células.</font>"
      ],
      "metadata": {
        "id": "YIOCFnqPpWUJ"
      }
    },
    {
      "cell_type": "markdown",
      "metadata": {
        "id": "kl06sYOYP77e"
      },
      "source": [
        "# Introdução à Lógica Digital com Verilog\n",
        "\n",
        "## Professores: [Ricardo dos Santos Ferreira - UFV](mailto:ricardo@ufv.br) e [Ricardo Menotti - UFSCar](mailto:menotti@ufscar.br)\n",
        "\n"
      ]
    },
    {
      "cell_type": "markdown",
      "source": [
        "Neste livro tratamos especificamente de Circuitos Digitais, sem nos preocupar com a conversão de/para analógico. Usamos a linguagem de descrição de hardware (HDL) Verilog para implementar e testar os circuitos usando simulações. Não é necessário ter qualquer tipo de hardware  para usar o livro, apenas um computador conectado à Internet. Estamos planejando um versão baseada em um kit didático de FPGAs, no qual todas as práticas poderão ser feitas em laboratório. Se você tem interesse em comercializar um kit de baixo custo com o livro, entre em contato pelos e-mails acima."
      ],
      "metadata": {
        "id": "W7IRXl-ZqXFL"
      }
    },
    {
      "cell_type": "markdown",
      "metadata": {
        "id": "_vbRbIc3Qf1_"
      },
      "source": [
        "## Informação analógica e digital\n",
        "\n",
        "Os sistemas digitais são a base dos dispositivos eletrônicos modernos que usamos em nosso cotidiano, tais como computadores, *smartphones* e eletrodomésticos em geral. Com o advento da Internet das Coisas, eles passaram também a serem embarcados em veículos e em diversos pontos das casas e cidades em geral, formando o conceito de Cidades Inteligentes.\n",
        "\n",
        "No entanto, a maioria dos fenômenos que notamos ao nosso redor tem características analógicas e precisam ser digitalizadas para serem processadas. Este processo também pode ser chamado de discretização e, apesar da desvantagem de se perder a precisão ou continuidade da informação, apresenta a vantagem de a tornar mais tolerante aos ruídos e mais fácil de manipular e armazenar. A figura a seguir mostra o exemplo de uma informação analógica (linha pontilhada) e sua discretização para armazenamento e/ou processamento digital."
      ]
    },
    {
      "cell_type": "code",
      "execution_count": 2,
      "metadata": {
        "cellView": "form",
        "colab": {
          "base_uri": "https://localhost:8080/",
          "height": 430
        },
        "id": "Ine95EVb4fw6",
        "outputId": "755ad785-7fdb-47c4-d435-a8342cfb2fa2"
      },
      "outputs": [
        {
          "output_type": "display_data",
          "data": {
            "text/plain": [
              "<Figure size 640x480 with 1 Axes>"
            ],
            "image/png": "[encoded data removed]"
          },
          "metadata": {}
        }
      ],
      "source": [
        "#@title\n",
        "x = np.arange(14)\n",
        "y = np.sin(x / 2)\n",
        "\n",
        "plt.step(x, y, where='post', label='post')\n",
        "plt.plot(x, y, 'o--', color='grey', alpha=0.5)\n",
        "\n",
        "plt.grid(axis='x', color='0.9')\n",
        "plt.show()"
      ]
    },
    {
      "cell_type": "markdown",
      "metadata": {
        "id": "047X0KXS9kjc"
      },
      "source": [
        "## Variáveis lógicas\n",
        "\n",
        "Para os sistemas digitais, a menor unidade de informação é o **bit** (acrônimo para ***binary digit***) que pode assumir valor **0** ou **1**. Usaremos diagramas de Venn para representar variáveis e funções lógicas, também chamadas de booleanas (a seguir detalharemos o termo). Dizemos que uma variável tem o nível lógico **0** ou **baixo** quando tem o valor **falso** e que tem o nível lógico **1** ou **alto** quando tem o valor **verdadeiro**. No par de diagramas de Venn a seguir representamos $x=1$ e $y=0$, respectivamente. Usamos uma barra superior para demonstar a negação de uma variável, ou seja, seu inverso. Portanto, neste caso, $\\bar{x}=0$ e $\\bar{y}=1$."
      ]
    },
    {
      "cell_type": "code",
      "execution_count": 3,
      "metadata": {
        "cellView": "form",
        "colab": {
          "base_uri": "https://localhost:8080/",
          "height": 261
        },
        "id": "mANT86kn_KQh",
        "outputId": "71130822-8fd2-4625-927f-04ed79d1d334"
      },
      "outputs": [
        {
          "output_type": "display_data",
          "data": {
            "image/svg+xml": "<svg xmlns=\"http://www.w3.org/2000/svg\" xmlns:xlink=\"http://www.w3.org/1999/xlink\" width=\"400px\" height=\"240px\" viewBox=\"0 0 127.957 57.21\" version=\"1.1\">\n<defs>\n<g>\n<symbol overflow=\"visible\" id=\"glyph0-0\">\n<path style=\"stroke:none;\" d=\"\"/>\n</symbol>\n<symbol overflow=\"visible\" id=\"glyph0-1\">\n<path style=\"stroke:none;\" d=\"M 3.328125 -3.015625 C 3.390625 -3.265625 3.625 -4.1875 4.3125 -4.1875 C 4.359375 -4.1875 4.609375 -4.1875 4.8125 -4.0625 C 4.53125 -4 4.34375 -3.765625 4.34375 -3.515625 C 4.34375 -3.359375 4.453125 -3.171875 4.71875 -3.171875 C 4.9375 -3.171875 5.25 -3.34375 5.25 -3.75 C 5.25 -4.265625 4.671875 -4.40625 4.328125 -4.40625 C 3.75 -4.40625 3.40625 -3.875 3.28125 -3.65625 C 3.03125 -4.3125 2.5 -4.40625 2.203125 -4.40625 C 1.171875 -4.40625 0.59375 -3.125 0.59375 -2.875 C 0.59375 -2.765625 0.703125 -2.765625 0.71875 -2.765625 C 0.796875 -2.765625 0.828125 -2.796875 0.84375 -2.875 C 1.1875 -3.9375 1.84375 -4.1875 2.1875 -4.1875 C 2.375 -4.1875 2.71875 -4.09375 2.71875 -3.515625 C 2.71875 -3.203125 2.546875 -2.546875 2.1875 -1.140625 C 2.03125 -0.53125 1.671875 -0.109375 1.234375 -0.109375 C 1.171875 -0.109375 0.953125 -0.109375 0.734375 -0.234375 C 0.984375 -0.296875 1.203125 -0.5 1.203125 -0.78125 C 1.203125 -1.046875 0.984375 -1.125 0.84375 -1.125 C 0.53125 -1.125 0.296875 -0.875 0.296875 -0.546875 C 0.296875 -0.09375 0.78125 0.109375 1.21875 0.109375 C 1.890625 0.109375 2.25 -0.59375 2.265625 -0.640625 C 2.390625 -0.28125 2.75 0.109375 3.34375 0.109375 C 4.375 0.109375 4.9375 -1.171875 4.9375 -1.421875 C 4.9375 -1.53125 4.859375 -1.53125 4.828125 -1.53125 C 4.734375 -1.53125 4.71875 -1.484375 4.6875 -1.421875 C 4.359375 -0.34375 3.6875 -0.109375 3.375 -0.109375 C 2.984375 -0.109375 2.828125 -0.421875 2.828125 -0.765625 C 2.828125 -0.984375 2.875 -1.203125 2.984375 -1.640625 Z M 3.328125 -3.015625 \"/>\n</symbol>\n<symbol overflow=\"visible\" id=\"glyph0-2\">\n<path style=\"stroke:none;\" d=\"M 4.84375 -3.796875 C 4.890625 -3.9375 4.890625 -3.953125 4.890625 -4.03125 C 4.890625 -4.203125 4.75 -4.296875 4.59375 -4.296875 C 4.5 -4.296875 4.34375 -4.234375 4.25 -4.09375 C 4.234375 -4.03125 4.140625 -3.734375 4.109375 -3.546875 C 4.03125 -3.296875 3.96875 -3.015625 3.90625 -2.75 L 3.453125 -0.953125 C 3.421875 -0.8125 2.984375 -0.109375 2.328125 -0.109375 C 1.828125 -0.109375 1.71875 -0.546875 1.71875 -0.921875 C 1.71875 -1.375 1.890625 -2 2.21875 -2.875 C 2.375 -3.28125 2.421875 -3.390625 2.421875 -3.59375 C 2.421875 -4.03125 2.109375 -4.40625 1.609375 -4.40625 C 0.65625 -4.40625 0.296875 -2.953125 0.296875 -2.875 C 0.296875 -2.765625 0.390625 -2.765625 0.40625 -2.765625 C 0.515625 -2.765625 0.515625 -2.796875 0.5625 -2.953125 C 0.84375 -3.890625 1.234375 -4.1875 1.578125 -4.1875 C 1.65625 -4.1875 1.828125 -4.1875 1.828125 -3.875 C 1.828125 -3.625 1.71875 -3.359375 1.65625 -3.171875 C 1.25 -2.109375 1.078125 -1.546875 1.078125 -1.078125 C 1.078125 -0.1875 1.703125 0.109375 2.296875 0.109375 C 2.6875 0.109375 3.015625 -0.0625 3.296875 -0.34375 C 3.171875 0.171875 3.046875 0.671875 2.65625 1.203125 C 2.390625 1.53125 2.015625 1.828125 1.5625 1.828125 C 1.421875 1.828125 0.96875 1.796875 0.796875 1.40625 C 0.953125 1.40625 1.09375 1.40625 1.21875 1.28125 C 1.328125 1.203125 1.421875 1.0625 1.421875 0.875 C 1.421875 0.5625 1.15625 0.53125 1.0625 0.53125 C 0.828125 0.53125 0.5 0.6875 0.5 1.171875 C 0.5 1.671875 0.9375 2.046875 1.5625 2.046875 C 2.578125 2.046875 3.609375 1.140625 3.890625 0.015625 Z M 4.84375 -3.796875 \"/>\n</symbol>\n<symbol overflow=\"visible\" id=\"glyph1-0\">\n<path style=\"stroke:none;\" d=\"\"/>\n</symbol>\n<symbol overflow=\"visible\" id=\"glyph1-1\">\n<path style=\"stroke:none;\" d=\"M 4.28125 -5.578125 L 4.28125 -5.875 L 0.6875 -5.875 L 0.6875 -5.578125 Z M 4.28125 -5.578125 \"/>\n</symbol>\n</g>\n<clipPath id=\"clip1\">\n  <path d=\"M 0 0 L 58 0 L 58 57.210938 L 0 57.210938 Z M 0 0 \"/>\n</clipPath>\n<clipPath id=\"clip2\">\n  <path d=\"M 71 0 L 127.957031 0 L 127.957031 57 L 71 57 Z M 71 0 \"/>\n</clipPath>\n<clipPath id=\"clip3\">\n  <path d=\"M 70 0 L 127.957031 0 L 127.957031 57.210938 L 70 57.210938 Z M 70 0 \"/>\n</clipPath>\n</defs>\n<g id=\"surface1\">\n<path style=\" stroke:none;fill-rule:nonzero;fill:rgb(100%,100%,100%);fill-opacity:1;\" d=\"M 0.199219 56.894531 L 0.199219 0.199219 L 56.894531 0.199219 L 56.894531 56.894531 Z M 0.199219 56.894531 \"/>\n<g clip-path=\"url(#clip1)\" clip-rule=\"nonzero\">\n<path style=\"fill:none;stroke-width:0.3985;stroke-linecap:butt;stroke-linejoin:miter;stroke:rgb(0%,0%,0%);stroke-opacity:1;stroke-miterlimit:10;\" d=\"M -28.346781 -28.348531 L -28.346781 28.346781 L 28.348531 28.346781 L 28.348531 -28.348531 Z M -28.346781 -28.348531 \" transform=\"matrix(1,0,0,-1,28.546,28.546)\"/>\n</g>\n<path style=\"fill-rule:nonzero;fill:rgb(50%,100%,50%);fill-opacity:1;stroke-width:0.3985;stroke-linecap:butt;stroke-linejoin:miter;stroke:rgb(0%,0%,0%);stroke-opacity:1;stroke-miterlimit:10;\" d=\"M 19.926656 -0.000875 C 19.926656 11.003031 11.004781 19.924906 0.000875 19.924906 C -11.003031 19.924906 -19.924906 11.003031 -19.924906 -0.000875 C -19.924906 -11.004781 -11.003031 -19.926656 0.000875 -19.926656 C 11.004781 -19.926656 19.926656 -11.004781 19.926656 -0.000875 Z M 19.926656 -0.000875 \" transform=\"matrix(1,0,0,-1,28.546,28.546)\"/>\n<g style=\"fill:rgb(0%,0%,0%);fill-opacity:1;\">\n  <use xlink:href=\"#glyph0-1\" x=\"25.699\" y=\"30.691\"/>\n</g>\n<g style=\"fill:rgb(0%,0%,0%);fill-opacity:1;\">\n  <use xlink:href=\"#glyph1-1\" x=\"5.735\" y=\"51.952\"/>\n</g>\n<g style=\"fill:rgb(0%,0%,0%);fill-opacity:1;\">\n  <use xlink:href=\"#glyph0-1\" x=\"5.102\" y=\"51.952\"/>\n</g>\n<g clip-path=\"url(#clip2)\" clip-rule=\"nonzero\">\n<path style=\" stroke:none;fill-rule:nonzero;fill:rgb(50%,100%,50%);fill-opacity:1;\" d=\"M 71.066406 56.894531 L 71.066406 0.199219 L 127.761719 0.199219 L 127.761719 56.894531 Z M 71.066406 56.894531 \"/>\n</g>\n<g clip-path=\"url(#clip3)\" clip-rule=\"nonzero\">\n<path style=\"fill:none;stroke-width:0.3985;stroke-linecap:butt;stroke-linejoin:miter;stroke:rgb(0%,0%,0%);stroke-opacity:1;stroke-miterlimit:10;\" d=\"M 42.520406 -28.348531 L 42.520406 28.346781 L 99.215719 28.346781 L 99.215719 -28.348531 Z M 42.520406 -28.348531 \" transform=\"matrix(1,0,0,-1,28.546,28.546)\"/>\n</g>\n<path style=\"fill-rule:nonzero;fill:rgb(100%,100%,100%);fill-opacity:1;stroke-width:0.3985;stroke-linecap:butt;stroke-linejoin:miter;stroke:rgb(0%,0%,0%);stroke-opacity:1;stroke-miterlimit:10;\" d=\"M 90.793844 -0.000875 C 90.793844 11.003031 81.871969 19.924906 70.868063 19.924906 C 59.864156 19.924906 50.942281 11.003031 50.942281 -0.000875 C 50.942281 -11.004781 59.864156 -19.926656 70.868063 -19.926656 C 81.871969 -19.926656 90.793844 -11.004781 90.793844 -0.000875 Z M 90.793844 -0.000875 \" transform=\"matrix(1,0,0,-1,28.546,28.546)\"/>\n<g style=\"fill:rgb(0%,0%,0%);fill-opacity:1;\">\n  <use xlink:href=\"#glyph0-2\" x=\"96.791\" y=\"29.722\"/>\n</g>\n<g style=\"fill:rgb(0%,0%,0%);fill-opacity:1;\">\n  <use xlink:href=\"#glyph1-1\" x=\"77.104\" y=\"51.952\"/>\n</g>\n<g style=\"fill:rgb(0%,0%,0%);fill-opacity:1;\">\n  <use xlink:href=\"#glyph0-2\" x=\"76.42\" y=\"51.952\"/>\n</g>\n</g>\n</svg>"
          },
          "metadata": {
            "isolated": "true"
          }
        }
      ],
      "source": [
        "#@title\n",
        "%%tikz -S test_output.tikz -f svg\n",
        "\n",
        "\\filldraw[fill=white] (-1,-1) rectangle (1,1);\n",
        "\\node[fill=green!50,draw,circle,label=below left:$\\bar{x}$,minimum size=40pt] at (0,0) {$x$};\n",
        "\n",
        "\\filldraw[fill=green!50] (1.5,-1) rectangle (3.5,1);\n",
        "\\node[fill=white,draw,circle,label=below left:$\\bar{y}$,minimum size=40pt] at (2.5,0) {$y$};"
      ]
    },
    {
      "cell_type": "code",
      "execution_count": 4,
      "metadata": {
        "cellView": "form",
        "colab": {
          "base_uri": "https://localhost:8080/",
          "height": 95
        },
        "id": "L-h99cKLV5MT",
        "outputId": "3b79c9fa-a5b8-4f61-9ead-bbf9348f0f19"
      },
      "outputs": [
        {
          "output_type": "display_data",
          "data": {
            "text/plain": [
              "<schemdraw.backends.mpl.Figure object at 0x7b5ad4e66da0>"
            ],
            "image/svg+xml": "<?xml version=\"1.0\" encoding=\"utf-8\" standalone=\"no\"?>\n<!DOCTYPE svg PUBLIC \"-//W3C//DTD SVG 1.1//EN\"\n  \"http://www.w3.org/Graphics/SVG/1.1/DTD/svg11.dtd\">\n<svg xmlns:xlink=\"http://www.w3.org/1999/xlink\" width=\"363.6pt\" height=\"55.844407pt\" viewBox=\"0 0 363.6 55.844407\" xmlns=\"http://www.w3.org/2000/svg\" version=\"1.1\">\n <metadata>\n  <rdf:RDF xmlns:dc=\"http://purl.org/dc/elements/1.1/\" xmlns:cc=\"http://creativecommons.org/ns#\" xmlns:rdf=\"http://www.w3.org/1999/02/22-rdf-syntax-ns#\">\n   <cc:Work>\n    <dc:type rdf:resource=\"http://purl.org/dc/dcmitype/StillImage\"/>\n    <dc:date>2023-11-24T15:16:46.319410</dc:date>\n    <dc:format>image/svg+xml</dc:format>\n    <dc:creator>\n     <cc:Agent>\n      <dc:title>Matplotlib v3.7.1, https://matplotlib.org/</dc:title>\n     </cc:Agent>\n    </dc:creator>\n   </cc:Work>\n  </rdf:RDF>\n </metadata>\n <defs>\n  <style type=\"text/css\">*{stroke-linejoin: round; stroke-linecap: butt}</style>\n </defs>\n <g id=\"figure_1\">\n  <g id=\"patch_1\">\n   <path d=\"M 0 55.844407 \nL 363.6 55.844407 \nL 363.6 0 \nL 0 0 \nz\n\" style=\"fill: #ffffff\"/>\n  </g>\n  <g id=\"axes_1\">\n   <g id=\"patch_2\">\n    <path d=\"M 79.138455 32.722842 \nC 79.34803 30.048586 79.019489 27.34046 78.195284 24.948387 \nC 77.37108 22.556314 76.088308 20.587959 74.512718 19.297656 \n\" clip-path=\"url(#pe968429530)\" style=\"fill: none; stroke: #000000; stroke-width: 2; stroke-linejoin: miter\"/>\n   </g>\n   <g id=\"patch_3\">\n    <path d=\"M 78.045698 42.018835 \nL 76.414889 32.765162 \nL 79.078549 33.078278 \nL 79.120578 32.72074 \nL 79.156332 32.724943 \nL 79.114303 33.082481 \nL 81.777962 33.395598 \nz\n\" clip-path=\"url(#pe968429530)\" style=\"stroke: #000000; stroke-linejoin: miter\"/>\n   </g>\n   <g id=\"patch_4\">\n    <path d=\"M 295.138455 38.122842 \nC 295.34803 35.448586 295.019489 32.74046 294.195284 30.348387 \nC 293.37108 27.956314 292.088308 25.987959 290.512718 24.697656 \n\" clip-path=\"url(#pe968429530)\" style=\"fill: none; stroke: #000000; stroke-width: 2; stroke-linejoin: miter\"/>\n   </g>\n   <g id=\"patch_5\">\n    <path d=\"M 281.810923 21.306802 \nL 291.17706 22.058783 \nL 290.203277 24.557757 \nL 290.519253 24.680885 \nL 290.506182 24.714428 \nL 290.190206 24.591301 \nL 289.216424 27.090275 \nz\n\" clip-path=\"url(#pe968429530)\" style=\"stroke: #000000; stroke-linejoin: miter\"/>\n   </g>\n   <g id=\"line2d_1\">\n    <path d=\"M 19.8 40.146751 \nL 55.8 40.146751 \nM 64.44 36.546751 \nL 84.6 23.946751 \nM 91.8 40.146751 \nL 127.8 40.146751 \n\" clip-path=\"url(#pe968429530)\" style=\"fill: none; stroke: #000000; stroke-width: 2; stroke-linecap: round\"/>\n   </g>\n   <g id=\"line2d_2\">\n    <path d=\"M 235.8 40.146751 \nL 271.8 40.146751 \nM 280.44 36.546751 \nL 300.6 23.946751 \nM 307.8 40.146751 \nL 343.8 40.146751 \n\" clip-path=\"url(#pe968429530)\" style=\"fill: none; stroke: #000000; stroke-width: 2; stroke-linecap: round\"/>\n   </g>\n   <g id=\"patch_6\">\n    <path d=\"M 60.12 44.466751 \nC 61.265677 44.466751 62.364585 44.011569 63.174701 43.201452 \nC 63.984818 42.391336 64.44 41.292428 64.44 40.146751 \nC 64.44 39.001074 63.984818 37.902166 63.174701 37.09205 \nC 62.364585 36.281933 61.265677 35.826751 60.12 35.826751 \nC 58.974323 35.826751 57.875415 36.281933 57.065299 37.09205 \nC 56.255182 37.902166 55.8 39.001074 55.8 40.146751 \nC 55.8 41.292428 56.255182 42.391336 57.065299 43.201452 \nC 57.875415 44.011569 58.974323 44.466751 60.12 44.466751 \nz\n\" clip-path=\"url(#pe968429530)\" style=\"fill: #ffffff; stroke: #000000; stroke-width: 2; stroke-linejoin: miter\"/>\n   </g>\n   <g id=\"patch_7\">\n    <path d=\"M 87.48 44.466751 \nC 88.625677 44.466751 89.724585 44.011569 90.534701 43.201452 \nC 91.344818 42.391336 91.8 41.292428 91.8 40.146751 \nC 91.8 39.001074 91.344818 37.902166 90.534701 37.09205 \nC 89.724585 36.281933 88.625677 35.826751 87.48 35.826751 \nC 86.334323 35.826751 85.235415 36.281933 84.425299 37.09205 \nC 83.615182 37.902166 83.16 39.001074 83.16 40.146751 \nC 83.16 41.292428 83.615182 42.391336 84.425299 43.201452 \nC 85.235415 44.011569 86.334323 44.466751 87.48 44.466751 \nz\n\" clip-path=\"url(#pe968429530)\" style=\"fill: #ffffff; stroke: #000000; stroke-width: 2; stroke-linejoin: miter\"/>\n   </g>\n   <g id=\"text_1\">\n    <!-- x = 1 -->\n    <g transform=\"translate(56.914258 13.098047) scale(0.125 -0.125)\">\n     <defs>\n      <path id=\"DejaVuSans-78\" d=\"M 3513 3500 \nL 2247 1797 \nL 3578 0 \nL 2900 0 \nL 1881 1375 \nL 863 0 \nL 184 0 \nL 1544 1831 \nL 300 3500 \nL 978 3500 \nL 1906 2253 \nL 2834 3500 \nL 3513 3500 \nz\n\" transform=\"scale(0.015625)\"/>\n      <path id=\"DejaVuSans-20\" transform=\"scale(0.015625)\"/>\n      <path id=\"DejaVuSans-3d\" d=\"M 678 2906 \nL 4684 2906 \nL 4684 2381 \nL 678 2381 \nL 678 2906 \nz\nM 678 1631 \nL 4684 1631 \nL 4684 1100 \nL 678 1100 \nL 678 1631 \nz\n\" transform=\"scale(0.015625)\"/>\n      <path id=\"DejaVuSans-31\" d=\"M 794 531 \nL 1825 531 \nL 1825 4091 \nL 703 3866 \nL 703 4441 \nL 1819 4666 \nL 2450 4666 \nL 2450 531 \nL 3481 531 \nL 3481 0 \nL 794 0 \nL 794 531 \nz\n\" transform=\"scale(0.015625)\"/>\n     </defs>\n     <use xlink:href=\"#DejaVuSans-78\"/>\n     <use xlink:href=\"#DejaVuSans-20\" x=\"59.179688\"/>\n     <use xlink:href=\"#DejaVuSans-3d\" x=\"90.966797\"/>\n     <use xlink:href=\"#DejaVuSans-20\" x=\"174.755859\"/>\n     <use xlink:href=\"#DejaVuSans-31\" x=\"206.542969\"/>\n    </g>\n   </g>\n   <g id=\"text_2\">\n    <!--   -->\n    <g transform=\"translate(179.813672 49.644798) scale(0.125 -0.125)\">\n     <use xlink:href=\"#DejaVuSans-20\"/>\n    </g>\n   </g>\n   <g id=\"patch_8\">\n    <path d=\"M 276.12 44.466751 \nC 277.265677 44.466751 278.364585 44.011569 279.174701 43.201452 \nC 279.984818 42.391336 280.44 41.292428 280.44 40.146751 \nC 280.44 39.001074 279.984818 37.902166 279.174701 37.09205 \nC 278.364585 36.281933 277.265677 35.826751 276.12 35.826751 \nC 274.974323 35.826751 273.875415 36.281933 273.065299 37.09205 \nC 272.255182 37.902166 271.8 39.001074 271.8 40.146751 \nC 271.8 41.292428 272.255182 42.391336 273.065299 43.201452 \nC 273.875415 44.011569 274.974323 44.466751 276.12 44.466751 \nz\n\" clip-path=\"url(#pe968429530)\" style=\"fill: #ffffff; stroke: #000000; stroke-width: 2; stroke-linejoin: miter\"/>\n   </g>\n   <g id=\"patch_9\">\n    <path d=\"M 303.48 44.466751 \nC 304.625677 44.466751 305.724585 44.011569 306.534701 43.201452 \nC 307.344818 42.391336 307.8 41.292428 307.8 40.146751 \nC 307.8 39.001074 307.344818 37.902166 306.534701 37.09205 \nC 305.724585 36.281933 304.625677 35.826751 303.48 35.826751 \nC 302.334323 35.826751 301.235415 36.281933 300.425299 37.09205 \nC 299.615182 37.902166 299.16 39.001074 299.16 40.146751 \nC 299.16 41.292428 299.615182 42.391336 300.425299 43.201452 \nC 301.235415 44.011569 302.334323 44.466751 303.48 44.466751 \nz\n\" clip-path=\"url(#pe968429530)\" style=\"fill: #ffffff; stroke: #000000; stroke-width: 2; stroke-linejoin: miter\"/>\n   </g>\n   <g id=\"text_3\">\n    <!-- y = 0 -->\n    <g transform=\"translate(272.914258 17.747142) scale(0.125 -0.125)\">\n     <defs>\n      <path id=\"DejaVuSans-79\" d=\"M 2059 -325 \nQ 1816 -950 1584 -1140 \nQ 1353 -1331 966 -1331 \nL 506 -1331 \nL 506 -850 \nL 844 -850 \nQ 1081 -850 1212 -737 \nQ 1344 -625 1503 -206 \nL 1606 56 \nL 191 3500 \nL 800 3500 \nL 1894 763 \nL 2988 3500 \nL 3597 3500 \nL 2059 -325 \nz\n\" transform=\"scale(0.015625)\"/>\n      <path id=\"DejaVuSans-30\" d=\"M 2034 4250 \nQ 1547 4250 1301 3770 \nQ 1056 3291 1056 2328 \nQ 1056 1369 1301 889 \nQ 1547 409 2034 409 \nQ 2525 409 2770 889 \nQ 3016 1369 3016 2328 \nQ 3016 3291 2770 3770 \nQ 2525 4250 2034 4250 \nz\nM 2034 4750 \nQ 2819 4750 3233 4129 \nQ 3647 3509 3647 2328 \nQ 3647 1150 3233 529 \nQ 2819 -91 2034 -91 \nQ 1250 -91 836 529 \nQ 422 1150 422 2328 \nQ 422 3509 836 4129 \nQ 1250 4750 2034 4750 \nz\n\" transform=\"scale(0.015625)\"/>\n     </defs>\n     <use xlink:href=\"#DejaVuSans-79\"/>\n     <use xlink:href=\"#DejaVuSans-20\" x=\"59.179688\"/>\n     <use xlink:href=\"#DejaVuSans-3d\" x=\"90.966797\"/>\n     <use xlink:href=\"#DejaVuSans-20\" x=\"174.755859\"/>\n     <use xlink:href=\"#DejaVuSans-30\" x=\"206.542969\"/>\n    </g>\n   </g>\n  </g>\n </g>\n <defs>\n  <clipPath id=\"pe968429530\">\n   <rect x=\"3.6\" y=\"18.039202\" width=\"356.4\" height=\"27.686004\"/>\n  </clipPath>\n </defs>\n</svg>\n",
            "image/png": "[encoded data removed]"
          },
          "metadata": {}
        }
      ],
      "source": [
        "#@title\n",
        "with schemdraw.Drawing() as d:\n",
        "    d += elm.Switch(action='close').label('x = 1')\n",
        "    d += elm.Gap(label=' ')\n",
        "    d += elm.Switch(action='open').label('y = 0')"
      ]
    },
    {
      "cell_type": "markdown",
      "metadata": {
        "id": "2UCo4Gzc0P3C"
      },
      "source": [
        "## Implementação em Verilog\n",
        "\n",
        "**Verilog** é uma **linguagem de descrição de hardware (HDL)** e será adotada neste livro para implementação e testes dos circuitos digitais. Apesar de sua sintaxe lembrar a da linguagem C em alguns aspectos, Verilog não é uma linguagem de programação. Trata-se de outro paradigma, pois enquanto um programa em uma linguagem imperativa como C remete a uma sequência de instruções (carater temporal), uma linguagem de descrição de hardware descreve componentes e ligações entre eles (carater espacial). Um projeto digital em Verilog possui um ou mais módulos. A seguir está a descrição de um módulo com uma entrada que é apenas propagada para sua saída. O comando de célula `%%print_verilog` é usado para desenhar o circuito e pode ser útil para conferir a sintaxe da linguagem, que será ensinada a medida que avançamos."
      ]
    },
    {
      "cell_type": "code",
      "execution_count": null,
      "metadata": {
        "colab": {
          "base_uri": "https://localhost:8080/"
        },
        "id": "FbVU_zbF0nEF",
        "outputId": "48e3d374-a295-45f5-8c1b-5374a43af812"
      },
      "outputs": [
        {
          "output_type": "stream",
          "name": "stdout",
          "text": [
            "Installing. Please wait... "
          ]
        }
      ],
      "source": [
        "%%print_verilog\n",
        "\n",
        "module foo(input in, output out);\n",
        "  // isso é um comentário\n",
        "  assign out = in;\n",
        "endmodule"
      ]
    },
    {
      "cell_type": "markdown",
      "metadata": {
        "id": "QM0Wccxlamf0"
      },
      "source": [
        "## Funções lógicas\n",
        "\n",
        "As variáveis lógicas podem ser usadas como entradas nas funções lógicas, gerando novas variáveis. As funções básicas são **AND**, **OR** e **NOT**, como veremos a seguir.\n",
        "\n",
        "### Função **AND** (E)\n",
        "\n",
        "A função lógica **AND** resulta em uma saída verdadeira quando **todas suas entradas são verdadeiras**. Ela pode ser representada pelo símbolo $\\&$, por um ponto, (e.g. $a.b$) ou sua representação pode ser simplesmente omitida. A seguir é listada a tabela verdade com todas as combinações possíveis entre duas variáveis lógicas $a$ e $b$. Note que a tabela tem $2^n$ linhas, onde $n$ é o número de entradas, e que ela está ordenada pelos valores das variáveis de entrada $a$ e $b$.\n",
        "\n",
        "$a$|$b$|$a\\&b$\n",
        "---|---|---\n",
        " 0 | 0 | 0\n",
        " 0 | 1 | 0\n",
        " 1 | 0 | 0\n",
        " 1 | 1 | 1\n",
        "\n",
        "Nos diagramas de Venn, a função **AND** é calculada com a operação de ***intersecção*** entre as variáveis. No diagrama a seguir é apresentada a operação **AND** entre as variáveis $a$ e $b$. Note que, assim como a tabela verdade, o diagrama tem tem $2^n$ regiões, onde $n$ é o número de variáveis."
      ]
    },
    {
      "cell_type": "code",
      "execution_count": null,
      "metadata": {
        "cellView": "form",
        "id": "Z4k3TR7cigl0"
      },
      "outputs": [],
      "source": [
        "#@title\n",
        "%%tikz -S test_output.tikz -f svg\n",
        "\\filldraw[fill=white] (-1,-1) rectangle (2,1);\n",
        "\\begin{scope}\n",
        "  \\clip (0,0) circle (20pt);\n",
        "  \\filldraw[green!50] (1,0) circle (20pt);\n",
        "\\end{scope}\n",
        "\\node[draw,circle,minimum size=40pt] at (0,0) {$a$};\n",
        "\\node[draw,circle,minimum size=40pt] at (1,0) {$b$};"
      ]
    },
    {
      "cell_type": "markdown",
      "metadata": {
        "id": "LfXZ5XUSqjos"
      },
      "source": [
        "A função lógica **AND** pode ser melhor compreendida pela ligação de duas ou mais chaves em série, ou seja, sua saída será verdadeira quando ***todas as chaves estiverem ligadas***. A implementação desta função em um circuito é feita por meio de sua respectiva **porta lógica**, cuja representação gráfica é a seguinte:"
      ]
    },
    {
      "cell_type": "code",
      "execution_count": null,
      "metadata": {
        "cellView": "form",
        "id": "YK7j3EL_rORN"
      },
      "outputs": [],
      "source": [
        "#@title\n",
        "with schemdraw.Drawing() as d:\n",
        "    d += elm.Switch().label('a')\n",
        "    d += elm.Switch().label('b')\n",
        "\n",
        "from schemdraw.parsing import logicparse\n",
        "logicparse('a and b', outlabel='s=a.b')"
      ]
    },
    {
      "cell_type": "markdown",
      "metadata": {
        "id": "8_iGpLwHM44b"
      },
      "source": [
        "Por fim, cabe ressaltar que esta função é N-ária, onde o número de entradas é maior ou igual a 2. A seguir estão as diferentes representações da função **AND** na forma ternária.\n",
        "\n",
        "$a$|$b$|$c$|$\\mbox{$a$.$b$.$c$}$\n",
        "---|---|---|---\n",
        " 0 | 0 | 0 | 0\n",
        " 0 | 0 | 1 | 0\n",
        " 0 | 1 | 0 | 0\n",
        " 0 | 1 | 1 | 0\n",
        " 1 | 0 | 0 | 0\n",
        " 1 | 0 | 1 | 0\n",
        " 1 | 1 | 0 | 0\n",
        " 1 | 1 | 1 | 1"
      ]
    },
    {
      "cell_type": "code",
      "execution_count": null,
      "metadata": {
        "cellView": "form",
        "id": "NFNTu-Y6Im11"
      },
      "outputs": [],
      "source": [
        "#@title\n",
        "%%tikz -S test_output.tikz -f svg\n",
        "\\filldraw[fill=white] (-1,-1) rectangle (2,1.8);\n",
        "\\begin{scope}\n",
        "  \\clip (0,0) circle (20pt);\n",
        "  \\clip (1,0) circle (20pt);\n",
        "  \\filldraw[green!50] (0.5,0.85) circle (20pt);\n",
        "\\end{scope}\n",
        "\\node[draw,circle,minimum size=40pt] at (0,0) {$a$};\n",
        "\\node[draw,circle,minimum size=40pt] at (1,0) {$b$};\n",
        "\\node[draw,circle,minimum size=40pt] at (0.5,0.85) {$c$};"
      ]
    },
    {
      "cell_type": "code",
      "execution_count": null,
      "metadata": {
        "cellView": "form",
        "id": "uVE9RDHAJ3mK"
      },
      "outputs": [],
      "source": [
        "#@title\n",
        "from schemdraw import elements as elm\n",
        "\n",
        "with schemdraw.Drawing() as d:\n",
        "    d += elm.Switch().label('a')\n",
        "    d += elm.Switch().label('b')\n",
        "    d += elm.Switch().label('c')\n",
        "\n",
        "from schemdraw.parsing import logicparse\n",
        "logicparse('a and b and c', outlabel='s=a.b.c')"
      ]
    },
    {
      "cell_type": "markdown",
      "metadata": {
        "id": "S8zZh8YKzkex"
      },
      "source": [
        "Para implementar uma função lógica AND em Verilog podemos usar seu operador (`&`) entre os operandos em uma atribuição contínua (`assign`) ou instanciar uma primitiva básica `and` que pode ter duas ou mais entradas. Note que, por conter um número variável de entradas, a primeira porta das primitivas básicas é sempre a saída. Vejamos sua implementação em Verilog (o parâmetro `-n and3.v` usado na célula, indica que vamos salvar o arquivo com este nome para usar posteriormente):"
      ]
    },
    {
      "cell_type": "code",
      "execution_count": null,
      "metadata": {
        "id": "kD4F1Om3q-Ef"
      },
      "outputs": [],
      "source": [
        "%%print_verilog -n and3.v\n",
        "\n",
        "module and3(\n",
        "  input a, b, c,\n",
        "  output s);\n",
        "  // atribuição contínua usando o operador &\n",
        "  assign s = a & b & c;\n",
        "  // alternativa em Verilog Estrutural (instanciando a primitiva básica)\n",
        "  // and (s, a, b, c);\n",
        "endmodule"
      ]
    },
    {
      "cell_type": "markdown",
      "source": [
        "Vejamos sua simulação a seguir. Para isso, vamos escrever um ***test bench*** que fornece todas as entradas possíveis, já que neste caso são apenas $2^3$. Um ***test bench*** é um módulo que instancia outro módulo a ser testado, normalmente com o nome de `dut` (*design under test*) ou `uut` (*unit under test*) e fornece estímulos a ele. O teste pode também verificar automaticamente se as saídas obtidas são as esperadas, mas por enquanto vamos fazer isso visualmente do diagrama de formas de onda (*waveform*) que geraremos com o comando de célula `%%wavedrom`. Podemos notar as seguintes particularidades:\n",
        "\n",
        "  1. O arquivo que contém o módulo a ser testado (`dut`) é incluído (linha 2);\n",
        "  1. O módulo `tb_and3` não tem portas, pois ele mesmo gera os estímulos (linha 4);\n",
        "  1. As entradas devem ser declaradas como `reg`, pois vamos atribuir valores a elas ao longo do teste (linha 5);\n",
        "  1. As saídas devem ser declaradas como `wire`, pois apenas conduzem o valores obtido do `dut` (linha 6);\n",
        "  1. O `dut` é instanciado, usamos a mesma ordem das portas da declaração original do módulo (linha 7);\n",
        "  1. Um bloco `initial` é disparado uma única vez no início da simulação, `begin/end` delimitam seu alcance (linhas 9-22);\n",
        "  1. A função `$dumpvars` é usada para gerar um arquivo `.vcd` com a saída da simulação (linha 11);\n",
        "  1. O comando `#5` indica um atraso antes de atribuir os valores às entradas, por isso no início da simulação elas aparecem hachuradas (linhas 12-19);\n",
        "  1. Todos os valores possíveis para a função são informados na mesma ordem da tabela verdade (linhas 12-19);\n",
        "  1. A função `$finish` termina a simulação;"
      ],
      "metadata": {
        "id": "uxyCLRNL5UQV"
      }
    },
    {
      "cell_type": "code",
      "source": [
        "%%wavedrom\n",
        "`include \"and3.v\"\n",
        "\n",
        "module tb_and3;\n",
        "  reg a, b, c;\n",
        "  wire s;\n",
        "  and3 dut(a, b, c, s);\n",
        "\n",
        "  initial\n",
        "  begin\n",
        "    $dumpvars(0);\n",
        "    #5 a=0; b=0; c=0;\n",
        "    #5 a=0; b=0; c=1;\n",
        "    #5 a=0; b=1; c=0;\n",
        "    #5 a=0; b=1; c=1;\n",
        "    #5 a=1; b=0; c=0;\n",
        "    #5 a=1; b=0; c=1;\n",
        "    #5 a=1; b=1; c=0;\n",
        "    #5 a=1; b=1; c=1;\n",
        "    $finish;\n",
        "  end\n",
        "endmodule"
      ],
      "metadata": {
        "id": "H9dSZLSa6Fqh"
      },
      "execution_count": null,
      "outputs": []
    },
    {
      "cell_type": "markdown",
      "metadata": {
        "id": "t_-O4bnxLDlg"
      },
      "source": [
        "<h3>Função <b>OR</b> (OU)</h3>\n",
        "\n",
        "A função lógica **OR** resulta em uma saída verdadeira quando **ao menos uma de suas entradas é verdadeira**. Ela pode ser representada pelo símbolo  $+$ ou $|$. A seguir é listada a tabela verdade com todas as combinações possíveis entre duas variáveis lógicas $a$ e $b$. Note que a tabela tem $2^n$ linhas, onde $n$ é o número de entradas, e que ela está ordenada pelos valores das variáveis de entrada $a$ e $b$.\n",
        "\n",
        "$a$|$b$|$\\mbox{$a$+$b$}$\n",
        "---|---|---\n",
        " 0 | 0 | 0\n",
        " 0 | 1 | 1\n",
        " 1 | 0 | 1\n",
        " 1 | 1 | 1\n",
        "\n",
        "Nos diagramas de Venn, a função **OR** é calculada com a operação de ***união*** entre as variáveis. No diagrama a seguir é apresentada a operação **OR** entre as variáveis $a$ e $b$. Note que, assim como a tabela verdade, o diagrama tem tem $2^n$ regiões, onde $n$ é o número de variáveis.\n"
      ]
    },
    {
      "cell_type": "code",
      "execution_count": null,
      "metadata": {
        "cellView": "form",
        "id": "VV_QlzbhNIGK"
      },
      "outputs": [],
      "source": [
        "#@title\n",
        "%%tikz -S test_output.tikz -f svg\n",
        "\\filldraw[fill=white] (-1,-1) rectangle (2,1);\n",
        "\\filldraw[green!50] (1,0) circle (20pt); % fundo B verde\n",
        "\\node[fill=green!50,draw,circle,minimum size=40pt] at (0,0) {$a$}; % A sobrescrevendo B\n",
        "\\node[draw,circle,minimum size=40pt] at (1,0) {$b$}; % B sem preenchimento para repor a linha"
      ]
    },
    {
      "cell_type": "markdown",
      "metadata": {
        "id": "hf4G8yBzNxxT"
      },
      "source": [
        "A função lógica **OR** pode ser melhor compreendida pela ligação de duas ou mais chaves em paralelo, ou seja, sua saída será verdadeira quando ***qualquer uma das chaves estiver ligada***. A representação gráfica da respectiva **porta lógica** é a seguinte:"
      ]
    },
    {
      "cell_type": "code",
      "execution_count": null,
      "metadata": {
        "cellView": "form",
        "id": "OLFCE9_zOH1M"
      },
      "outputs": [],
      "source": [
        "#@title\n",
        "with schemdraw.Drawing() as d:\n",
        "    d.config(unit=1.5)\n",
        "    d += elm.Line().dot()\n",
        "    d.push()\n",
        "    d += elm.Line().up()\n",
        "    d += elm.Switch().right().label('a')\n",
        "    d += elm.Line().down()\n",
        "    d.pop()\n",
        "    d += elm.Line().down()\n",
        "    d += elm.Switch().right().label('b')\n",
        "    d += elm.Line().up().dot()\n",
        "    d += elm.Line().right()\n",
        "\n",
        "from schemdraw.parsing import logicparse\n",
        "logicparse('a or b', outlabel='s=a+b')"
      ]
    },
    {
      "cell_type": "markdown",
      "metadata": {
        "id": "PJCHninhQW3f"
      },
      "source": [
        "Por fim, cabe ressaltar que esta função é também N-ária, onde o número de entradas é maior ou igual a 2. A seguir estão as diferentes representações da função **OR** na forma ternária.\n",
        "\n",
        "$a$|$b$|$c$|$\\mbox{$a$+$b$+$c$}$\n",
        "---|---|---|:-:\n",
        " 0 | 0 | 0 | 0\n",
        " 0 | 0 | 1 | 1\n",
        " 0 | 1 | 0 | 1\n",
        " 0 | 1 | 1 | 1\n",
        " 1 | 0 | 0 | 1\n",
        " 1 | 0 | 1 | 1\n",
        " 1 | 1 | 0 | 1\n",
        " 1 | 1 | 1 | 1"
      ]
    },
    {
      "cell_type": "code",
      "execution_count": null,
      "metadata": {
        "cellView": "form",
        "id": "pPiMv4tgQlnu"
      },
      "outputs": [],
      "source": [
        "#@title\n",
        "%%tikz -S test_output.tikz -f svg\n",
        "\\filldraw[fill=white] (-1,-1) rectangle (2,1.8);\n",
        "\\filldraw[green!50] (0,0) circle (20pt); % fundo verde A\n",
        "\\filldraw[green!50] (1,0) circle (20pt); % fundo verde B\n",
        "\\node[fill=green!50,draw,circle,minimum size=40pt] at (0.5,0.85) {$c$}; % C sobrescrevendo ambos\n",
        "\\node[draw,circle,minimum size=40pt] at (1,0) {$b$}; % B sem preechimento para repor a linha\n",
        "\\node[draw,circle,minimum size=40pt] at (0,0) {$a$}; % A sem preechimento para repor a linha"
      ]
    },
    {
      "cell_type": "code",
      "execution_count": null,
      "metadata": {
        "cellView": "form",
        "id": "IaU37qFUSbgV"
      },
      "outputs": [],
      "source": [
        "#@title\n",
        "with schemdraw.Drawing() as d:\n",
        "    d.config(unit=1.5)\n",
        "    d += elm.Line().dot()\n",
        "    d.push()\n",
        "    d.push()\n",
        "    d += elm.Line().up()\n",
        "    d += elm.Switch().right().label('a')\n",
        "    d += elm.Line().down()\n",
        "    d.pop()\n",
        "    d += elm.Switch().label('b')\n",
        "    d.pop()\n",
        "    d += elm.Line().down()\n",
        "    d += elm.Switch().right().label('c')\n",
        "    d += elm.Line().up().dot()\n",
        "    d += elm.Line().right()\n",
        "\n",
        "from schemdraw.parsing import logicparse\n",
        "logicparse('a or b or c', outlabel='s=a+b+c')"
      ]
    },
    {
      "cell_type": "markdown",
      "metadata": {
        "id": "xHUqvj8m-jz8"
      },
      "source": [
        "O operador lógico OR em Verilog é denotado pelo caracter `|`. Vamos aproveitar a ocasião para aprender dois novos conceitos em Verilog. O primeiro é o de barramento (*bus*). No exemplo a seguir construimos uma porta OR de três entradas, no entanto, declaramos uma única porta de entrada com 3 fios. Os colchetes com o intervalo são usados na declaração antes do nome da porta para especificar a largura `[2:0]`. Eles também são usados para acessar uma parte do barramento (e. g. `[1:0]`) ou cada fio individualmente. O segundo conceito apresentado é que os operadores lógicos podem ser usados na forma de redução em um barramento. Na linha 9 escrevemos `|a`, o que quer dizer OR entre todos os bits de `a`."
      ]
    },
    {
      "cell_type": "code",
      "execution_count": null,
      "metadata": {
        "id": "N-q2MZWV-zEJ"
      },
      "outputs": [],
      "source": [
        "%%print_verilog -n or3.v\n",
        "\n",
        "module or3(\n",
        "  input [2:0] a,\n",
        "  output s);\n",
        "  // atribuição usando o operador |\n",
        "  assign s = a[0] | a[1] | a[2];\n",
        "  // atribuição usando o operador de redução |\n",
        "  // assign s = |a;\n",
        "  // estrutural\n",
        "  // or G(s,a[0],a[1],a[2]);\n",
        "endmodule"
      ]
    },
    {
      "cell_type": "markdown",
      "source": [
        "Vamos testar este módulo de forma um pouco diferente, usando o comando de célula `%%verilog`, para aprender duas novas funções de console da linguagem. O ***test bench*** usado é praticamente o mesmo da função AND com as seguintes diferenças:\n",
        "  1. Usamos as mesmas variáveis de entrada/saída (linhas 5-6), mas ao instanciar o `dut` concatenamos as variáveis `{a, b, c}` para obter um barramento com 3 fios, conforme a entrada esperada;\n",
        "  1. Não precisamos da função `$dumpvars` já que não vamos plotar o diagrama de formas de onda;\n",
        "  1. Usamos a função `$display` para imprimir um cabeçalho na console (linha 11);\n",
        "  1. Usamos a função `$monitor` para imprimir as variáveis sempre que alguma delas mudar de valor (linha 12);\n",
        "  1. Removemos o atraso da primeira linha para que as entradas já comecem com valor definidos ao invés de `x` (linha 13)."
      ],
      "metadata": {
        "id": "o26DFDbdOvo_"
      }
    },
    {
      "cell_type": "code",
      "source": [
        "%%verilog\n",
        "`include \"or3.v\"\n",
        "\n",
        "module tb_or3;\n",
        "  reg a, b, c;\n",
        "  wire s;\n",
        "  or3 dut({a, b, c}, s);\n",
        "\n",
        "  initial\n",
        "  begin\n",
        "    $display(\"a|b|c||s\\n-+-+-++-\");\n",
        "    $monitor(\"%b|%b|%b||%b\", a, b, c, s);\n",
        "       a=0; b=0; c=0;\n",
        "    #5 a=0; b=0; c=1;\n",
        "    #5 a=0; b=1; c=0;\n",
        "    #5 a=0; b=1; c=1;\n",
        "    #5 a=1; b=0; c=0;\n",
        "    #5 a=1; b=0; c=1;\n",
        "    #5 a=1; b=1; c=0;\n",
        "    #5 a=1; b=1; c=1;\n",
        "    $finish;\n",
        "  end\n",
        "endmodule"
      ],
      "metadata": {
        "id": "DYIzu_5vOym7"
      },
      "execution_count": null,
      "outputs": []
    },
    {
      "cell_type": "markdown",
      "metadata": {
        "id": "5dlQCJO5ens9"
      },
      "source": [
        "<h3>Função <b>NOT</b> (NÃO)</h3>\n",
        "\n",
        "A função lógica **NOT** possui uma única entrada ou operando (função unária) e resulta no inverso ou complemento da sua entrada. Ela pode ser representada pelo símbolo  $\\sim$ ou $!$ antes da variável, pelo símbolo $'$ após ela, ou ainda por um barra sobre o que se deseja negar/inverter. Portanto, sua tabela verdade tem apenas duas possibilidades:\n",
        "\n",
        "$a$|$\\bar{a}$\n",
        "---|---\n",
        " 0 | 1\n",
        " 1 | 0\n",
        "\n",
        "Supondo que deseja-se obter o inverso da função $a+b$, podemos escrever $\\sim(a+b)$ ou $!(a+b)$ ou $(a+b)'$ ou ainda $\\overline{a+b}$, neste caso, sem a necessidade de parênteses.\n",
        "\n",
        "Como veremos a seguir, se aplicamos esta função em um diagrama de Venn invertemos suas regiões, assim como acontece em uma tabela verdade (invertemos a coluna inteira). Também veremos, mais adiante, que inverter a saída de uma função nem sempre equivale a inverter suas entradas.\n",
        "\n",
        "A representação gráfica desta função como **porta lógica** é apresentada a seguir."
      ]
    },
    {
      "cell_type": "code",
      "execution_count": null,
      "metadata": {
        "cellView": "form",
        "id": "5Hk2Z_vnjl2F"
      },
      "outputs": [],
      "source": [
        "#@title\n",
        "logicparse('not a', outlabel='$s=\\overline{a}$')"
      ]
    },
    {
      "cell_type": "markdown",
      "metadata": {
        "id": "8Dp3xYLblOOg"
      },
      "source": [
        "Quando aplicada a entrada ou saída de outra porta lógica no circuito pode ser abreviada, incluindo somente a $\\circ$ (bolinha)."
      ]
    },
    {
      "cell_type": "code",
      "execution_count": null,
      "metadata": {
        "cellView": "form",
        "id": "MR_H-Dh8lO9C"
      },
      "outputs": [],
      "source": [
        "#@title\n",
        "with schemdraw.Drawing() as d:\n",
        "    d += logic.Nand(inputs=3, inputnots=[2]).label('x', loc='in1').label('y', loc='in2').label('z', loc='in3').label('$s=\\overline{x\\overline{y}z}$', loc='out')"
      ]
    },
    {
      "cell_type": "markdown",
      "metadata": {
        "id": "s29LnL1mCTGo"
      },
      "source": [
        "Em Verilog podemos usar tanto `!` quanto `~` para o operador NOT. Podemos declarar sinais internos usando a palavra `wire` e fazer ligações com eles."
      ]
    },
    {
      "cell_type": "code",
      "execution_count": null,
      "metadata": {
        "id": "JbKtUnJaCeGg"
      },
      "outputs": [],
      "source": [
        "%%print_verilog -n not_xnyz.v\n",
        "\n",
        "module not_xnyz(\n",
        "  input x, y, z,\n",
        "  output s);\n",
        "  // declaramos um fio e o atribuimos\n",
        "  wire not_y;\n",
        "  assign not_y = !y;\n",
        "  // atribuição usando o operador ~\n",
        "  assign s = ~(x & not_y & z);\n",
        "endmodule"
      ]
    },
    {
      "cell_type": "markdown",
      "source": [
        "Vamos usar praticamente o mesmo ***test bench*** com esta função, mas note que ela tem entradas com nomes diferentes. Podemos instanciar o módulo normalmente (`dut`), a ligação é feita pela posição, não importam os nomes (linha 7). Ou podemos usar uma notação alternativa, na qual escolhemos explicitamente quais portas serão ligadas em quais sinais (linha 8). Nesta segunda notação usamos um `.` seguido do nome original da porta (interno) e escevemos a seguir entre parênteses o nome do sinal (externo) a ser ligado nesta porta. Nela as portas podem ser ligadas em qualquer ordem, inclusive podemos omitir portas que não desejarmos ligar. Note que usamos um nome de instância diferente (`uut`) já que este não pode se repetir. Note também que os dois módulos compartilham as mesmas entradas, mas precisamos de saídas distintas para eles, senão causaríamos um curto-circuito entre as saídas."
      ],
      "metadata": {
        "id": "VJW98GzFVObW"
      }
    },
    {
      "cell_type": "code",
      "source": [
        "%%verilog\n",
        "`include \"not_xnyz.v\"\n",
        "\n",
        "module tb_not_xnyz;\n",
        "  reg a, b, c;\n",
        "  wire s, t;\n",
        "  not_xnyz dut(a, b, c, s);\n",
        "  not_xnyz uut(.s(t), .x(a), .y(b), .z(c));\n",
        "\n",
        "  initial\n",
        "  begin\n",
        "    $display(\"x|y|z||s|t\\n-+-+-++-+-\");\n",
        "    $monitor(\"%b|%b|%b||%b|%b\", a, b, c, s, t);\n",
        "       a=0; b=0; c=0;\n",
        "    #5 a=0; b=0; c=1;\n",
        "    #5 a=0; b=1; c=0;\n",
        "    #5 a=0; b=1; c=1;\n",
        "    #5 a=1; b=0; c=0;\n",
        "    #5 a=1; b=0; c=1;\n",
        "    #5 a=1; b=1; c=0;\n",
        "    #5 a=1; b=1; c=1;\n",
        "    $finish;\n",
        "  end\n",
        "endmodule"
      ],
      "metadata": {
        "id": "ei9u0jTXUVRz"
      },
      "execution_count": null,
      "outputs": []
    },
    {
      "cell_type": "markdown",
      "metadata": {
        "id": "aXN430EVhsqs"
      },
      "source": [
        "<h3>Demais funções lógicas (XOR, NAND, NOR e XNOR)</h3>\n",
        "\n",
        "<h4>Portas lógicas universais</h4>\n",
        "\n",
        "Além das portas lógicas relativas às funções **NOT**, **AND** e **OR**, consideradas primitivas básicas, há também as variações **NAND** e **NOR**, negações das duas últimas. Elas são chamadas portas universais, pois a partir delas podemos construir as outras três, como veremos adiante. A seguir é apresentada uma tabela verdade com as suas respectivas saídas para duas entradas (compare com as tabelas originais das funções **AND** e **OR**):\n",
        "\n",
        "$a$|$b$|$\\overline{\\mbox{$a$.$b$}}$|$\\overline{\\mbox{$a$+$b$}}$\n",
        "---|---|---|---\n",
        " 0 | 0 | 1 | 1\n",
        " 0 | 1 | 1 | 0\n",
        " 1 | 0 | 1 | 0\n",
        " 1 | 1 | 0 | 0\n",
        "\n",
        "Suas portas lógicas são representadas das seguintes formas:"
      ]
    },
    {
      "cell_type": "code",
      "execution_count": null,
      "metadata": {
        "cellView": "form",
        "id": "cErMugDwqPxw"
      },
      "outputs": [],
      "source": [
        "#@title\n",
        "d = logicparse('a nand b', outlabel='$\\overline{a.b}$')\n",
        "d += elm.Gap(label=' ')\n",
        "\n",
        "e = logicparse('a nor b', outlabel='$\\overline{a+b}$')\n",
        "e += elm.Gap(label=' ')\n",
        "\n",
        "display(d, e)"
      ]
    },
    {
      "cell_type": "markdown",
      "metadata": {
        "id": "vMegR_Uuwrfp"
      },
      "source": [
        "As portas universais são úteis aos fabricantes de semicondutores, pois assim só precisam fabricar um único tipo de porta lógica e podem usá-las para obter as demais. A seguir está a construção das primitivas **NOT**, **AND** e **OR** a partir das portas universais **NAND** e **NOR**:"
      ]
    },
    {
      "cell_type": "code",
      "execution_count": null,
      "metadata": {
        "id": "jtTH7Kkqwur9",
        "cellView": "form"
      },
      "outputs": [],
      "source": [
        "#@title\n",
        "with schemdraw.Drawing() as d:\n",
        "    # not\n",
        "    d.config(unit=0.5)\n",
        "    d += elm.Line().dot().label('a', loc='left')\n",
        "    d.push()\n",
        "    d.push()\n",
        "    d += elm.Line().up().length(0.25)\n",
        "    d.pop()\n",
        "    d += elm.Line().down().length(0.25)\n",
        "    d.pop()\n",
        "    d += logic.Nand().label('$\\overline{a}$', loc='right')\n",
        "    # and\n",
        "    d.here = (7,0)\n",
        "    d += logic.Nand().label('a', loc='in1').label('b', loc='in2')\n",
        "    d += elm.Line().dot()\n",
        "    d.push()\n",
        "    d.push()\n",
        "    d += elm.Line().up().length(0.25)\n",
        "    d.pop()\n",
        "    d += elm.Line().down().length(0.25)\n",
        "    d.pop()\n",
        "    d += logic.Nand().label('a.b', loc='right')\n",
        "    d += elm.Gap(label=' ').length(5)\n",
        "    # or\n",
        "    d.here = (15,-0.6)\n",
        "    d += elm.Line().dot().label('b', loc='left')\n",
        "    d.push()\n",
        "    d.push()\n",
        "    d += elm.Line().up().length(0.25)\n",
        "    d.pop()\n",
        "    d += elm.Line().down().length(0.25)\n",
        "    d.pop()\n",
        "    d += (p1 := logic.Nand())\n",
        "    d.push()\n",
        "    d += elm.Line().up().length(0.35)\n",
        "    d.pop()\n",
        "    d.here = (15,0.6)\n",
        "    d += elm.Line().dot().label('a', loc='left')\n",
        "    d.push()\n",
        "    d.push()\n",
        "    d += elm.Line().up().length(0.25)\n",
        "    d.pop()\n",
        "    d += elm.Line().down().length(0.25)\n",
        "    d.pop()\n",
        "    d += (p2 := logic.Nand())\n",
        "    d.push()\n",
        "    d += elm.Line().down().length(0.35)\n",
        "    d.pop()\n",
        "    d.here = (17.4,0)\n",
        "    d += logic.Nand().label('a+b', loc='right')\n",
        "\n",
        "with schemdraw.Drawing() as d:\n",
        "    # not\n",
        "    d.config(unit=0.5)\n",
        "    d += elm.Line().dot().label('a', loc='left')\n",
        "    d.push()\n",
        "    d.push()\n",
        "    d += elm.Line().up().length(0.25)\n",
        "    d.pop()\n",
        "    d += elm.Line().down().length(0.25)\n",
        "    d.pop()\n",
        "    d += logic.Nor().label('$\\overline{a}$', loc='right')\n",
        "    # or\n",
        "    d.here = (15,0)\n",
        "    d += logic.Nor().label('a', loc='in1').label('b', loc='in2')\n",
        "    d += elm.Line().dot()\n",
        "    d.push()\n",
        "    d.push()\n",
        "    d += elm.Line().up().length(0.25)\n",
        "    d.pop()\n",
        "    d += elm.Line().down().length(0.25)\n",
        "    d.pop()\n",
        "    d += logic.Nor().label('a+b', loc='right')\n",
        "    d += elm.Gap(label=' ').length(5)\n",
        "    # and\n",
        "    d.here = (7,-0.6)\n",
        "    d += elm.Line().dot().label('b', loc='left')\n",
        "    d.push()\n",
        "    d.push()\n",
        "    d += elm.Line().up().length(0.25)\n",
        "    d.pop()\n",
        "    d += elm.Line().down().length(0.25)\n",
        "    d.pop()\n",
        "    d += (p1 := logic.Nor())\n",
        "    d.push()\n",
        "    d += elm.Line().up().length(0.35)\n",
        "    d.pop()\n",
        "    d.here = (7,0.6)\n",
        "    d += elm.Line().dot().label('a', loc='left')\n",
        "    d.push()\n",
        "    d.push()\n",
        "    d += elm.Line().up().length(0.25)\n",
        "    d.pop()\n",
        "    d += elm.Line().down().length(0.25)\n",
        "    d.pop()\n",
        "    d += (p2 := logic.Nor())\n",
        "    d.push()\n",
        "    d += elm.Line().down().length(0.35)\n",
        "    d.pop()\n",
        "    d.here = (9.4,0)\n",
        "    d += logic.Nor().label('a.b', loc='right')\n",
        "\n",
        "with schemdraw.Drawing() as d:\n",
        "    # not\n",
        "    d += elm.Annotate().label('INV / NOT').delta(dx=0, dy=-0.5).linewidth(1).color('blue')\n",
        "    # and\n",
        "    d.here = (9,0)\n",
        "    d += elm.Annotate().label('AND').delta(dx=0, dy=-0.5).linewidth(1).color('blue')\n",
        "    # or\n",
        "    d.here = (16,0)\n",
        "    d += elm.Annotate().label('OR').delta(dx=0, dy=-0.5).linewidth(1).color('blue')\n"
      ]
    },
    {
      "cell_type": "markdown",
      "metadata": {
        "id": "wCeA-0KWHjE8"
      },
      "source": [
        "Embora nossa ferramenta não use os símbolos próprios dessas portas para contruir o desenho do circuito, ela reconhece as primitivas básicas `nand` e `nor` da linguagem Verilog. No exemplo a seguir usamos também o operador de concatenação `{}` para unir dois fios e gerar um barramento."
      ]
    },
    {
      "cell_type": "code",
      "execution_count": null,
      "metadata": {
        "id": "t2co5Z7rFZEx"
      },
      "outputs": [],
      "source": [
        "%%print_verilog -n nandnor.v\n",
        "\n",
        "module nandnor(\n",
        "  input a, o,\n",
        "  output na, no,\n",
        "  output [1:0] nano);\n",
        "  nand (na, a, o);\n",
        "  nor (no, a, o);\n",
        "  assign nano = {na,no};\n",
        "endmodule"
      ]
    },
    {
      "cell_type": "markdown",
      "source": [
        "Escreva um ***test bench*** para esta função na célula abaixo, combinando os conceitos aprendidos para plotar a forma de onda e também para imprimir na console, compare sua saída com a do gabarito logo abaixo. Note que ele usa vetores para a saída `nano`, então os valores são plotados em hexadecimal."
      ],
      "metadata": {
        "id": "u8c4bDNRZU3q"
      }
    },
    {
      "cell_type": "code",
      "source": [
        "%%wavedrom\n",
        "`include \"nandnor.v\"\n",
        "\n",
        "// escreva seu test bench aqui"
      ],
      "metadata": {
        "id": "_Qz6OzhWZnIv"
      },
      "execution_count": null,
      "outputs": []
    },
    {
      "cell_type": "code",
      "source": [
        "#@title\n",
        "%%wavedrom\n",
        "`include \"nandnor.v\"\n",
        "\n",
        "module tb_nandnor;\n",
        "  reg a, o;\n",
        "  wire na, no;\n",
        "  wire [1:0] nano;\n",
        "  nandnor dut(a, o, na, no, nano);\n",
        "\n",
        "  initial\n",
        "  begin\n",
        "    $dumpvars(0);\n",
        "    $display(\"a|o||na|no|nano\\n-+-++--+--+----\");\n",
        "    $monitor(\"%b|%b||%2b|%2b|%3d\", a, o, na, no, nano);\n",
        "    #5 a=0; o=0;\n",
        "    #5 a=0; o=1;\n",
        "    #5 a=1; o=0;\n",
        "    #5 a=1; o=1;\n",
        "    $finish;\n",
        "  end\n",
        "endmodule"
      ],
      "metadata": {
        "cellView": "form",
        "id": "OFMJYCkxZtcK"
      },
      "execution_count": null,
      "outputs": []
    },
    {
      "cell_type": "markdown",
      "metadata": {
        "id": "0XsWMN9PqeJK"
      },
      "source": [
        "<h4>Portas lógicas aritméticas</h4>\n",
        "\n",
        "A função lógica **XOR** (OU exclusivo), representada pelos símbolos $\\oplus$ ou $\\underline{\\lor}$ e sua complementar **XNOR** são  chamadas portas artiméticas. Por definição, a saída da função lógica **XOR** é verdadeira ***se e somente se apenas uma das entradas forem verdadeiras***\\*. A partir desta definição, podemos obter sua tabela verdade:\n",
        "\n",
        "$a$|$b$|$a$ $\\oplus$ $b$\n",
        "---|---|:-:\n",
        " 0 | 0 | 0\n",
        " 0 | 1 | 1\n",
        " 1 | 0 | 1\n",
        " 1 | 1 | 0\n",
        "\n",
        " A representação gráfica das portas lógicas XOR e XNOR são as seguintes:"
      ]
    },
    {
      "cell_type": "code",
      "execution_count": null,
      "metadata": {
        "cellView": "form",
        "id": "wKL8rVdj-G6C"
      },
      "outputs": [],
      "source": [
        "#@title\n",
        "d = logicparse('a xor b', outlabel='$a \\oplus b$')\n",
        "d += elm.Gap(label=' ')\n",
        "\n",
        "e = logicparse('a xnor b', outlabel='$\\overline{a \\oplus b}$')\n",
        "e += elm.Gap(label=' ')\n",
        "\n",
        "display(d, e)"
      ]
    },
    {
      "cell_type": "markdown",
      "metadata": {
        "id": "IN2N1tKL-nJd"
      },
      "source": [
        "A porta **XOR**, quando construída com mais de duas entradas, pode ser interpretada de duas formas distintas:\n",
        "\n",
        "1. Conforme a definição anterior\\*;\n",
        "2. Como uma geradora de paridade ímpar, ou seja, sua saída será verdadeira quando o número de entradas verdadeiras for ímpar.\n",
        "\n",
        "O mesmo acontece com a porta **XNOR**, porém com o inverso das saídas nos dois casos.\n",
        "\n",
        "A primeira interpretação está mais ligada ao rigor matemático e não é seguida pelas linguagens de descrição de hardware e seus simuladores, que costumam implementar portas de várias entradas pela cascata de portas de duas entradas, resultando nos geradores de paridade mencionados.\n",
        "\n",
        "Estranhamente nossa ferramenta de desenho tem símbolos próprios para essas duas portas lógicas."
      ]
    },
    {
      "cell_type": "code",
      "execution_count": null,
      "metadata": {
        "id": "i82GNYzxFSE2"
      },
      "outputs": [],
      "source": [
        "%%print_verilog\n",
        "\n",
        "module exnor(\n",
        "  input x, y,\n",
        "  output sxor, sxnor);\n",
        "  assign sxor = x ^ y;\n",
        "  assign sxnor = x ~^ y;\n",
        "endmodule"
      ]
    },
    {
      "cell_type": "markdown",
      "metadata": {
        "id": "OL9CLUB2OTOA"
      },
      "source": [
        "<h2>Gere uma tabela verdade com n entradas para as funções lógicas e observe cada uma delas para ver se compreendeu:</h2>"
      ]
    },
    {
      "cell_type": "code",
      "execution_count": null,
      "metadata": {
        "cellView": "form",
        "id": "DJ9hKGhpSUhx"
      },
      "outputs": [],
      "source": [
        "#@title\n",
        "def n_bits_table(n,op):\n",
        "  if ( int(n) > 7 ):\n",
        "    print(\"A tabela cresce exponencialmente, use valores pequenos de n\")\n",
        "    return\n",
        "  vars = []\n",
        "  eq = \"\"\n",
        "  pre = \"\"\n",
        "  suf = \"\"\n",
        "  if op== 'nand' or op== 'nor':\n",
        "    pre = \"not(\"\n",
        "    op = op[1:]\n",
        "    suf = \")\"\n",
        "  eq = pre\n",
        "  for i in range(int(n)):\n",
        "    vars.append(\"a\"+str(i))\n",
        "    eq += \" a\"+str(i)+\" \"+op\n",
        "  vars.reverse()\n",
        "  eq = eq[:-3]\n",
        "  eq += suf\n",
        "  leq = []\n",
        "  leq.append(eq)\n",
        "  table = ttg.Truths(vars,leq)\n",
        "# table.as_pandas().style.set_properties(**{'text-align':'center'}).hide_index()\n",
        "  pd = table.as_pandas()\n",
        "  pd = pd.reindex(index=pd.index[::-1])\n",
        "  l = []\n",
        "  for i in range(pd.shape[0]):\n",
        "    l.append(i)\n",
        "  pd['linha'] = l\n",
        "  pd = pd.set_index('linha')\n",
        "  print (pd.to_string(justify='center'))\n",
        "\n",
        "print(\"Selecione a operação lógica e digite um valor para n\")\n",
        "dummy = interact(n_bits_table,n=\"3\",op=['and','or','xor','nand','nor'])\n"
      ]
    },
    {
      "cell_type": "markdown",
      "metadata": {
        "id": "A0yS9FFPo4uy"
      },
      "source": [
        "## Formas de Representação\n",
        "\n",
        "Como já vimos, uma função lógica ou Booleana pode ter diversas formas de representação: equação, tabela verdade, portas lógicas e circuitos com chaves em série e paralelo. Existem outras formas que veremos a seguir.\n",
        "\n",
        "Cada representação tem vantagens e desvantagens para especificação e manipulação. Por exemplo, a tabela verdade é a espeficação completa da função. A tabela pode ser usada para verificar a equivalência de duas funções.  Porém o número de linhas cresce exponencialmente com o número de entradas. Uma tabela com $n$ variáveis terá $2^n$ linhas.\n",
        "\n",
        "Uma equação pode ser uma forma mais compacta que a tabela. Além disso, permite usar álgebra booleana para manipulá-la e simplificá-la.\n",
        "\n",
        "Para exemplificar os conceitos aprendidos até agora, vamos considerar a função lógica $f$ dada (qual foi o critério para obter esta função não vem ao caso agora) pela tabela a seguir:\n",
        "\n",
        " a | b | c ||$f$\n",
        "---|---|---||---\n",
        " 0 | 0 | 0 || 0\n",
        " 0 | 0 | 1 || 0\n",
        " 0 | 1 | 0 || 0\n",
        " 0 | 1 | 1 || 0\n",
        " 1 | 0 | 0 || 1\n",
        " 1 | 0 | 1 || 1\n",
        " 1 | 1 | 0 || 1\n",
        " 1 | 1 | 1 || 0\n",
        "\n",
        "A partir desta tabela, podemos obter o diagrama de Venn correspondente:\n",
        "\n",
        "\n",
        "\n",
        "\n",
        "\n"
      ]
    },
    {
      "cell_type": "code",
      "execution_count": null,
      "metadata": {
        "cellView": "form",
        "id": "5MssVLfER8jx"
      },
      "outputs": [],
      "source": [
        "#@title\n",
        "%%tikz -S test_output.tikz -f svg\n",
        "\\filldraw[fill=white] (-1,-1) rectangle (2,1.8);\n",
        "\\filldraw[green!50] (0,0) circle (20pt);\n",
        "\\begin{scope}\n",
        "  \\clip (0,0) circle (20pt);\n",
        "  \\clip (1,0) circle (20pt);\n",
        "  \\filldraw[white] (0.5,0.85) circle (20pt);\n",
        "\\end{scope}\n",
        "\\node[draw,circle,minimum size=40pt] at (0,0) {$a$};\n",
        "\\node[draw,circle,minimum size=40pt] at (1,0) {$b$};\n",
        "\\node[draw,circle,minimum size=40pt] at (0.5,0.85) {$c$};"
      ]
    },
    {
      "cell_type": "markdown",
      "metadata": {
        "id": "JVjzAMlyUZ9p"
      },
      "source": [
        "Note que há uma correspondência exata entre as duas representações, pois cada linha da tabela verdade tem uma área correspondente no diagrama de Venn e vice-versa.\n",
        "\n",
        "Se quisermos uma expressão possível para esta função lógica, podemos olhar para suas saídas verdadeiras e fazer uma união entre elas (veremos como isso se chama mais adiante). Obtemos a expressão $a\\bar{b}\\bar{c}+a\\bar{b}c+ab\\bar{c}$, que corresponde ao circuito:"
      ]
    },
    {
      "cell_type": "code",
      "execution_count": null,
      "metadata": {
        "cellView": "form",
        "id": "1HbPghOhWI54"
      },
      "outputs": [],
      "source": [
        "#@title\n",
        "logicparse('a and not b and not c or a and not b and c or a and b and not c', outlabel='$f$')"
      ]
    },
    {
      "cell_type": "markdown",
      "metadata": {
        "id": "ZYjtsSqNXFhG"
      },
      "source": [
        "No entanto, esta não é a única forma de implementar esta função lógica e, se observarmos a tabela verdade atentamente, podemos concluir que as expressões $a(\\bar{b}+\\bar{c})$ e $a\\bar{b}+a\\bar{c}$ apresentam exatamente a mesma saídas e seus circuitos correspondentes são muito mais simples:"
      ]
    },
    {
      "cell_type": "code",
      "execution_count": null,
      "metadata": {
        "cellView": "form",
        "id": "W7zL-JfYX1Up"
      },
      "outputs": [],
      "source": [
        "#@title\n",
        "x=logicparse('a and (not b or not c)', outlabel=\"$f'$\")\n",
        "y=logicparse('a and not b or a and not c', outlabel=\"$f''$\")\n",
        "display(x,y)"
      ]
    },
    {
      "cell_type": "markdown",
      "metadata": {
        "id": "XTiNvk5tYp6k"
      },
      "source": [
        "Podemos usar Diagramas de Venn ou Tabelas Verdade para conferir se a funções são realmente equivalentes. No caso dos diagramas, pegamos cada uma das variáveis separadamente, em sua forma original ou negada, e as combinamos por meio da união (OR) ou intersecção (AND) das áreas até obter a função resultante. Embora os diagramas intermediários possam ser diferentes, o resultante deve ser exatamente igual ao que apresentamos no início desta seção. Usando a Tabela Verdade o processo é similar, vamos adicionando colunas para os termos da expressão até obter a expressão final:\n",
        "\n",
        "a|b|c||$f$||$\\bar{b}$|$\\bar{c}$|$\\mbox{$\\bar{b}$+$\\bar{c}$}$|$\\mbox{$a(\\bar{b}$+$\\bar{c}$)}$|$a\\bar{b}$|$a\\bar{c}$|$a\\bar{b}+a\\bar{c}$|\n",
        "-|-|-||------------||---|---|:-:|:-:|:-:|:-:|:-:|\n",
        "0|0|0||$\\textbf{0}$||1|1|1|$\\textbf{0}$|0|0|$\\textbf{0}$|\n",
        "0|0|1||$\\textbf{0}$||1|0|1|$\\textbf{0}$|0|0|$\\textbf{0}$|\n",
        "0|1|0||$\\textbf{0}$||0|1|1|$\\textbf{0}$|0|0|$\\textbf{0}$|\n",
        "0|1|1||$\\textbf{0}$||0|0|0|$\\textbf{0}$|0|0|$\\textbf{0}$|\n",
        "1|0|0||$\\textbf{1}$||1|1|1|$\\textbf{1}$|1|1|$\\textbf{1}$|\n",
        "1|0|1||$\\textbf{1}$||1|0|1|$\\textbf{1}$|1|0|$\\textbf{1}$|\n",
        "1|1|0||$\\textbf{1}$||0|1|1|$\\textbf{1}$|0|1|$\\textbf{1}$|\n",
        "1|1|1||$\\textbf{0}$||0|0|0|$\\textbf{0}$|0|0|$\\textbf{0}$|\n",
        "\n",
        "Vejamos suas implementações a seguir para provar também a equivalencia:"
      ]
    },
    {
      "cell_type": "code",
      "source": [
        "%%print_verilog -n fabc.v\n",
        "\n",
        "module fabc(input a, b, c, output f);\n",
        "  assign f = (a & ~b & ~c) | (a & ~b & c) | (a & b & ~c);\n",
        "endmodule\n",
        "\n",
        "module fabc1(input a, b, c, output f);\n",
        "  assign f = a & (~b | ~c);\n",
        "endmodule\n",
        "\n",
        "module fabc2(input a, b, c, output f);\n",
        "  assign f = (a & ~b) | (a & ~c);\n",
        "endmodule"
      ],
      "metadata": {
        "id": "dLJaWRCBeJDW"
      },
      "execution_count": null,
      "outputs": []
    },
    {
      "cell_type": "markdown",
      "source": [
        "Em nosso teste, vamos usar um arquivo texto (`values.tv`) contendo o que chamamos de **vetores de teste** (*tv = test vectors*). Nele colocamos os valores em binário ou hexadecimal de acordo com a tabela verdade da função. As três primeiras colunas correspondem às entradas `a`, `b` e `c` e a última coluna é a saída esperada, ou seja, $\\sum m(4,5,6)$. O caracter `_` é ignorado neste tipo de arquivo e foi usado apenas para separar as entradas da saída esperada."
      ],
      "metadata": {
        "id": "2MAizJNBVOZi"
      }
    },
    {
      "cell_type": "code",
      "source": [
        "%%writefile values.tv\n",
        "000_0\n",
        "001_0\n",
        "010_0\n",
        "011_0\n",
        "100_1\n",
        "101_1\n",
        "110_1\n",
        "111_0\n"
      ],
      "metadata": {
        "id": "BoiI1Z98S2-9"
      },
      "execution_count": null,
      "outputs": []
    },
    {
      "cell_type": "markdown",
      "source": [
        "Por conter um arquivo externo com os estímulos e as saídas esperadas, o teste a seguir tem algumas novas particularidades:\n",
        "  1. Além das entradas, declaramos um `reg` para a saída esperada `e` (linha 5);\n",
        "  1. Para carregar os valores do arquivo, declaramos um vetor de barramentos, algo como uma matriz, chamada `values` (linha 7). Nesta declaração temos um primeiro índice antes do nome `[3:0]` que especifica a largura do arquivo que vamos ler. O segundo índice, que fica depois do nome `[0:7]`, indica o número de linhas do arquivo e tem o seu intervalo especificado em ordem crescente (ao contrário da largura);\n",
        "  1. Declaramos um variável inteira, que em Verilog tem 32 bits, para percorrer os casos de teste (linha 8);\n",
        "  1. Instanciamos as três funções, note que cada uma precisa de um nome de instância diferente (linhas 10-12);\n",
        "  1. Usamos a função `$readmemb` para carregar o conteúdo do arquivo para o vetor de testes (linha 17);\n",
        "  1. Usamos um bloco de repetição `for` para:\n",
        "\n",
        "      a) Carregar as entradas das funções e a saída esperada do vetor de testes (linhas 20-23);    \n",
        "      b) Aguardar `#5`;  \n",
        "      c) Verificar se a saída de cada uma das funções corresponde à saída esperada (linhas 25-30).\n",
        "\n",
        "Nós criamos este arquivo externo de vetor de testes especialmente para informar as saídas esperadas, pois as entradas poderiam ser obtidas diretamente a partir dos bits da variável `i`, conforme os comentários no código:"
      ],
      "metadata": {
        "id": "bMkJ7O3weXYE"
      }
    },
    {
      "cell_type": "code",
      "source": [
        "%%wavedrom\n",
        "`include \"fabc.v\"\n",
        "\n",
        "module tb_fabc;\n",
        "  reg a, b, c, e;\n",
        "  wire f, f1, f2;\n",
        "  reg [3:0] values [0:7];\n",
        "  integer i;\n",
        "\n",
        "  fabc  dut (a, b, c, f);\n",
        "  fabc1 dut1(a, b, c, f1);\n",
        "  fabc2 dut2(a, b, c, f2);\n",
        "\n",
        "  initial\n",
        "  begin\n",
        "    $dumpvars(1);\n",
        "    $readmemb(\"values.tv\", values);\n",
        "    for (i=0; i<8; i=i+1)\n",
        "    begin\n",
        "      a = values[i][3]; // o mesmo que i[2];\n",
        "      b = values[i][2]; // o mesmo que i[1];\n",
        "      c = values[i][1]; // o mesmo que i[0];\n",
        "      e = values[i][0];\n",
        "      #5;\n",
        "      if (f != e)\n",
        "        $display(\"Erro no vetor %0d da função fabc, esperado %b, obtido %b!\", i, e, f);\n",
        "      if (f1 != e)\n",
        "        $display(\"Erro no vetor %0d da função fabc1, esperado %b, obtido %b!\", i, e, f);\n",
        "      if (f2 != e)\n",
        "        $display(\"Erro no vetor %0d da função fabc2, esperado %b, obtido %b!\", i, e, f);\n",
        "    end\n",
        "    $finish;\n",
        "  end\n",
        "endmodule"
      ],
      "metadata": {
        "id": "KzauasqhSslB"
      },
      "execution_count": null,
      "outputs": []
    },
    {
      "cell_type": "markdown",
      "metadata": {
        "id": "izcu4y_mqnTo"
      },
      "source": [
        "## Formas canônicas (*mintermos* e *maxtermos*)\n",
        "\n",
        "Chamamos de **forma canônica** da função lógica aquela que tem todos termos completos (com todas as variáveis). Ela pode ser gerada pela soma dos produtos (**SOP**), realizando um **somatório dos *mintermos***  (saidas 1) ou pelo produto das somas (**POS**), realizando o **produto dos *maxtermos*** (saidas 0). Vejamos a lista completa desses termos para uma função de três entradas:\n",
        "\n",
        "\\#|a|b|c||*mintermo*|*maxtermo*|\n",
        "-|-|-|-||:-:|:-:|\n",
        "0|0|0|0||$\\bar{a}\\bar{b}\\bar{c}$|$\\mbox{$a$+$b$+$c$}$|\n",
        "1|0|0|1||$\\bar{a}\\bar{b}c$      |$\\mbox{$a$+$b$+$\\bar{c}$}$|\n",
        "2|0|1|0||$\\bar{a}b\\bar{c}$      |$\\mbox{$a$+$\\bar{b}$+$c$}$|\n",
        "3|0|1|1||$\\bar{a}bc$            |$\\mbox{$a$+$\\bar{b}$+$\\bar{c}$}$|\n",
        "4|1|0|0||$a\\bar{b}\\bar{c}$      |$\\mbox{$\\bar{a}$+$b$+$c$}$|\n",
        "5|1|0|1||$a\\bar{b}c$            |$\\mbox{$\\bar{a}$+$b$+$\\bar{c}$}$|\n",
        "6|1|1|0||$ab\\bar{c}$            |$\\mbox{$\\bar{a}$+$\\bar{b}$+$c$}$|\n",
        "7|1|1|1||$abc$                  |$\\mbox{$\\bar{a}$+$\\bar{b}$+$\\bar{c}$}$|\n",
        "\n",
        "Voltando à nossa função do exemplo anterior $a\\bar{b}\\bar{c}+a\\bar{b}c+ab\\bar{c}$, notamos que ela está na forma canônica de SOP e podemos escrevê-la assim: $f(a,b,c) = \\sum m(4,5,6)$, ou seja, uma soma (OR) das saídas **1**. Também podemos escrevê-la na forma canônica de POS como $(a+b+c)(a+b+\\bar{c})(a+\\bar{b}+c)(a+\\bar{b}+\\bar{c})(\\bar{a}+\\bar{b}+\\bar{c})$ ou assim: $f(a,b,c) = \\Pi M(0,1,2,3,7)$ que significa o produto (AND) das saídas **0**.\n",
        "\n"
      ]
    },
    {
      "cell_type": "markdown",
      "metadata": {
        "id": "ShNGb_0L4G2q"
      },
      "source": [
        "## Minimização de funções lógicas\n",
        "\n",
        "A partir da função do exemplo anterior, pudemos notar que a forma canônica não é a que apresenta o menor custo de implementação e que consegimos representar a mesma função com um número menor de portas lógicas. A seguir veremos algumas formas de simplificação de funções lógicas.\n",
        "\n"
      ]
    },
    {
      "cell_type": "markdown",
      "metadata": {
        "id": "ogVLJHsR4OxS"
      },
      "source": [
        "### Álgebra Booleana\n",
        "\n",
        "George Boole, um matemático inglês, introduziu em 1847 o sistema algébrico que mais tarde receberia o seu nome (**Álgebra de Boole**). A partir das funções lógicas básica já abordadas:\n",
        "\n",
        "* OU (OR)\n",
        "  - 0 + 0 = 0\n",
        "  - 0 + 1 = 1\n",
        "  - 1 + 0 = 1\n",
        "  - 1 + 1 = 1 $\\dagger$\n",
        "* E (AND)\n",
        "  - 0 . 0 = 0\n",
        "  - 0 . 1 = 0\n",
        "  - 1 . 0 = 0\n",
        "  - 1 . 1 = 1\n",
        "* NÃO (NOT)\n",
        "  - ~0 = 1\n",
        "  - ~1 = 0\n",
        "\n",
        "podemos inferir alguns dos seus teoremas fundamentais:\n",
        "\n",
        "* Idempotente\n",
        "  - a + a = a $\\dagger$\n",
        "  - a . a = a $\\dagger$\n",
        "* Absorvente\n",
        "  - a + 1 = 1 $\\dagger$\n",
        "  - a . 0 = 0\n",
        "* Neutro\n",
        "  - a + 0 = a\n",
        "  - a . 1 = a\n",
        "* Complementar\n",
        "  - a + ~a = 1\n",
        "  - a . ~a = 0\n",
        "* Dupla negação\n",
        "  - ~ (~a) = a\n",
        "\n",
        "e também alguns axiomas:\n",
        "\n",
        "* Comutatividade\n",
        "  - a + b = b + a\n",
        "  - a . b = b . a\n",
        "* Associatividade\n",
        "  - (a + b) + c = a + (b + c)\n",
        "  - (a . b) . c = a . (b . c)\n",
        "* Absortividade\n",
        "  - a + (a . b) = a $\\dagger$\n",
        "  - a . (a + b) = a $\\dagger$\n",
        "* Distributividade\n",
        "  - a + (b . c) = (a + b) . (a + c) $\\dagger$\n",
        "  - a . (b + c) = (a . b) + (a . c)\n",
        "* De Morgan\n",
        "  - ~a + ~b = ~(a . b)\n",
        "  - ~a . ~b = ~(a + b)\n",
        "\n",
        "$\\dagger$ note que estas propriedades não são válidas na álgebra convencional.\n",
        "\n",
        "### Manipulação algébrica de funções lógicas\n",
        "\n",
        "Podemos usar a Álgebra Booleana para simplificar expressões lógicas. Voltando ao nosso exemplo, podemos partir da expressão original, na forma canônica:\n",
        "\n",
        "$a\\bar{b}\\bar{c}+a\\bar{b}c+ab\\bar{c}$\n",
        "\n",
        "colocando $a$ em evidência a partir da **distributividade** temos\n",
        "\n",
        "$a(\\bar{b}\\bar{c}+\\bar{b}c+b\\bar{c})$\n",
        "\n",
        "replicamos o termo $\\bar{b}\\bar{c}$ usando a **idempotente** e temos\n",
        "\n",
        "$a(\\bar{b}\\bar{c}+\\bar{b}\\bar{c}+\\bar{b}c+b\\bar{c})$\n",
        "\n",
        "trocamos a ordem dos termos usando a **comutatividade** temos\n",
        "\n",
        "$a(\\bar{b}\\bar{c}+\\bar{b}c+\\bar{b}\\bar{c}+b\\bar{c})$\n",
        "\n",
        "trocamos a ordem das variáveis dos dois últimos termos usando **comutatividade** e temos\n",
        "\n",
        "$a(\\bar{b}\\bar{c}+\\bar{b}c+\\bar{c}\\bar{b}+\\bar{c}b)$\n",
        "\n",
        "usando novamente a **distributividade** dentro dos parênteses temos\n",
        "\n",
        "$a(\\bar{b}[\\bar{c}+c]+\\bar{c}[\\bar{b}+b])$\n",
        "\n",
        "a partir da **complementar** temos\n",
        "\n",
        "$a(\\bar{b}.1+\\bar{c}.1)$\n",
        "\n",
        "finalmente a partir do elemento **neutro** temos\n",
        "\n",
        "$a(\\bar{b}+\\bar{c})$\n",
        "\n",
        "que é justamente uma das funções equivalentes do nosso exemplo anterior, já demonstrado na tabela verdade. A outra função equivalente também listada na mesma tabela pode ser obtida usando a **distributividade** para obter\n",
        "\n",
        "$a\\bar{b}+a\\bar{c}$\n",
        "\n",
        "Embora a manipulação algébrica seja uma alternativa viável para simplificar expressões, nem sempre a ordem das transformações é evidente, pois a técnica requer um pouco de prática. Para demonstrar que duas funções são equivalente temos a mesma dificuldade, mas neste caso podemos levar ambos os lados para a forma canônica, ordenar os termos e eliminar os repetidos para facilitar a prova.\n",
        "\n",
        "\n",
        "Se você quiser fazer mais manipulações com a álgebra Booleana usando alguns pacotes em Python, [visite este Colab](https://colab.research.google.com/drive/1y31hX5Wq2WycFEMu-wza-aKWvCQWlSQw?usp=sharing).\n",
        "\n"
      ]
    },
    {
      "cell_type": "markdown",
      "metadata": {
        "id": "LLo9Qd994Sla"
      },
      "source": [
        "### Mapas de Karnaugh\n",
        "\n",
        "Os **Mapas de Karnaugh** são representações espaciais das funções lógicas que facilitam identificar variáveis irrelevantes nos termos e simplificá-los.\n",
        "\n",
        "Nos mapas de Karnaugh, quando temos duas variáveis em uma dimensão, as duas últimas colunas são invertidas, para que possamos notar as vizinhanças corretamente. Além disso, a primeira e a última coluna são consideradas vizinhas, como se o mapa formasse um cilindo. Assim, a ordem dos *mintermos* em um mapa de três variáveis é a seguinte:\n"
      ]
    },
    {
      "cell_type": "code",
      "execution_count": null,
      "metadata": {
        "cellView": "form",
        "id": "dsNGkzg34Vt_"
      },
      "outputs": [],
      "source": [
        "#@title\n",
        "logic.Kmap(names='abc',\n",
        "           truthtable=[('000', 'm0'),\n",
        "                       ('001', 'm1'),\n",
        "                       ('010', 'm2'),\n",
        "                       ('011', 'm3'),\n",
        "                       ('100', 'm4'),\n",
        "                       ('101', 'm5'),\n",
        "                       ('110', 'm6'),\n",
        "                       ('111', 'm7')])"
      ]
    },
    {
      "cell_type": "markdown",
      "metadata": {
        "id": "Iw1nOH6V-eYU"
      },
      "source": [
        "Vamos usar novamente nossa função $f(a,b,c) = \\sum m(4,5,6)$ para demonstrar sua simplificação em um mapa de 3 variáveis. Preenchendo a saída da tabela verdade no mapa temos:"
      ]
    },
    {
      "cell_type": "code",
      "execution_count": null,
      "metadata": {
        "cellView": "form",
        "id": "JecxJhte-mIk"
      },
      "outputs": [],
      "source": [
        "#@title\n",
        "logic.Kmap(names='abc',\n",
        "           truthtable=[('100', '1'),\n",
        "                       ('101', '1'),\n",
        "                       ('110', '1')])"
      ]
    },
    {
      "cell_type": "markdown",
      "metadata": {
        "id": "85lHuZk__TGg"
      },
      "source": [
        "Agora vamos listar alguns conceitos importantes para poder usar os Mapas de Karnaugh efetivamente:\n",
        "\n",
        "*   **Implicante**: conjunto contíguo de $2^n$ mintermos;\n",
        "*   **Implicante primo**: aquele que não pode ser expandido;\n",
        "*   **Implicante primo essencial**: aquele que tem ao menos um mintermo que não faz parte de nenhum outro implicante;\n",
        "*   **Cobertura**: conjunto de implicantes que define o valor 1 para a função.\n",
        "\n"
      ]
    },
    {
      "cell_type": "code",
      "execution_count": null,
      "metadata": {
        "cellView": "form",
        "id": "Gm_h0kUbEpAq"
      },
      "outputs": [],
      "source": [
        "#@title\n",
        "logic.Kmap(names='abc',\n",
        "           truthtable=[('100', '1'),\n",
        "                       ('101', '1'),\n",
        "                       ('110', '1')],\n",
        "           groups={'1.0': {'color' : 'green', 'fill': '#00ff0033'},\n",
        "                   '10.': {'color' : 'blue', 'fill': '#0000ff33'}})"
      ]
    },
    {
      "cell_type": "markdown",
      "metadata": {
        "id": "yj1L1UKYQlEg"
      },
      "source": [
        "$\\color{green}{a\\bar{b}}+\\color{blue}{a\\bar{c}}$\n",
        "\n",
        "Cada implicante no mapa corresponde a um termo da nossa função. Se ele só tem um mintermo, logo tem todas as variáveis. Se ele tem dois mintermos, verificamos qual a variável que muda de um para outro e a eliminamos. Assim, a cada expansão de um implicante uma variável é eliminada.\n",
        "\n",
        "Para minimizar a função usando um Mapa de Karnaugh, preenchemos suas saídas no mapa, de acordo com a posição correta de cada mintermo/maxtermo. Depois encontramos os **implicantes primos essenciais** e verificamos se eles oferecem a **cobertura da função**. Se necessário, incluimos **implicantes primos não essenciais** até obter a cobertura da função.\n",
        "\n",
        "O mesmo procedimento pode ser realizado para obter um **produto das somas** mínimo, **selecionando os maxtermos** ao invés dos mintermos e segundo os mesmos passos. Neste caso, os termos extraído são de soma e têm as variáveis invertidas."
      ]
    },
    {
      "cell_type": "code",
      "execution_count": null,
      "metadata": {
        "cellView": "form",
        "id": "5EZKcWn5TRK0"
      },
      "outputs": [],
      "source": [
        "#@title\n",
        "logic.Kmap(names='abc',\n",
        "           truthtable=[('100', '1'),\n",
        "                       ('101', '1'),\n",
        "                       ('110', '1')],\n",
        "           groups={'0..': {'color' : 'red', 'fill': '#ff000033'},\n",
        "                   '.11': {'color' : 'magenta', 'fill': '#ff00ff33'}})"
      ]
    },
    {
      "cell_type": "markdown",
      "metadata": {
        "id": "TfRNbgHgU7Pz"
      },
      "source": [
        "$\\color{red}{a}.\\color{magenta}{(\\bar{b}+\\bar{c})}$"
      ]
    },
    {
      "cell_type": "markdown",
      "metadata": {
        "id": "HZdFekVXtZqD"
      },
      "source": [
        "## Funções com especificações incompletas (*don't care*)\n",
        "\n",
        "Em alguma situações, podemos especificar funções lógicas em que a saída não importa para determinadas entradas. Pense, por exemplo, em um portão de correr com sensores de final de curso dos dois lados. Eles nunca seriam acionados ao mesmo tempo, já que o portão chegará ao final do trilho de um lado ou do outro em determinado momento, mas nunca aos dois lados ao mesmo tempo.\n",
        "\n",
        "Voltando a nossa função inicial, imagine que queremos garantir que ela seja 1 para os mesmos mintermos 4, 5 e 6, e 0 para os demais, porém a saída para as entradas em que ($b=1, c=1$) não nos importa, já que sabemos que elas nunca acontecem. Especificamos a função assim $f(a,b,c) = \\sum m(4,5,6)+d(3,7)$\n",
        "\n",
        "No Mapa de Karnaugh usamos a letra `d` neste mintermo, que se torna um curinga, ou seja, pode ou não ser usado de acordo com a conveniência."
      ]
    },
    {
      "cell_type": "code",
      "execution_count": null,
      "metadata": {
        "cellView": "form",
        "id": "xmGaVhtgMpgJ"
      },
      "outputs": [],
      "source": [
        "#@title\n",
        "logic.Kmap(names='abc',\n",
        "           truthtable=[('100', '1'),\n",
        "                       ('101', '1'),\n",
        "                       ('110', '1'),\n",
        "                       ('011', 'd'),\n",
        "                       ('111', 'd')],\n",
        "           groups={'1..': {'color' : 'orange', 'fill': '#ffcc0033'}})"
      ]
    },
    {
      "cell_type": "markdown",
      "metadata": {
        "id": "rGioOpNQOZXq"
      },
      "source": [
        "\n",
        "## Exercícios de fixação\n",
        "\n",
        "### Para cada uma das funções a seguir, forneça:\n",
        "\n",
        "- Sua tabela verdade com as colunas passo a passo;\n",
        "- Seu diagrama de Venn final, obtido a partir dos respectivos diagramas de cada termo;\n",
        "- Seu circuito correspondente;\n",
        "- Sua forma mínima em SOP ou POS;\n",
        "- Seu circuito correspondente (após simplificação);\n",
        "- Suas implementações em Verilog;\n",
        "- Um *test bench* que compare suas implementações.\n",
        "\n",
        "1. $f(x,y,z)=\\sum m(0,1,4,5)$\n",
        "2. $f(x,y,z)=\\sum m(0,1,2,3,4,6)$\n",
        "5. $f(x,y,z)=\\sum m(0,1,2,6)+D(3,4)$\n",
        "3. $f(x,y,z)=\\Pi M(0,1,4,5)$\n",
        "4. $f(x,y,z)=\\Pi M(0,1,2,4,5,7)$\n",
        "6. $f(x,y,z)=\\Pi M(0,1,2,4)+D(3,5,7)$\n",
        "\n",
        "Você pode usar a célula abaixo para corrigir parte dos exercícios, basta digitar a função lógica que obteve e conferir a tabela verdade (*se tiver dúvidas, confira na mão, pois a ferramenta usada tem problemas de associatividade*). Se preferir, você pode também usar este [Colab com tabelas verdade](https://colab.research.google.com/drive/1zQVrOKWSwL47gXALfVCIzidrcG3vXqq3?usp=sharing)."
      ]
    },
    {
      "cell_type": "code",
      "execution_count": null,
      "metadata": {
        "cellView": "form",
        "id": "xU-tncrRvDqZ"
      },
      "outputs": [],
      "source": [
        "#@title\n",
        "from IPython.display import Markdown\n",
        "from ipywidgets import interact, interactive, fixed, interact_manual\n",
        "import ipywidgets as widgets\n",
        "import pandas as pd\n",
        "\n",
        "def dm(s):\n",
        "  display(Markdown(s))\n",
        "\n",
        "def eqn_bits_table(n,eq):\n",
        "  if ( int(n) > 7 ):\n",
        "    print(\"A tabela cresce exponencialmente, use valores pequenos de n\")\n",
        "    return\n",
        "  vars = []\n",
        "  for i in range(int(n)):\n",
        "    vars.append(\"a\"+str(i))\n",
        "\n",
        "  vars.reverse()\n",
        "  leq = []\n",
        "  leq.append(eq)\n",
        "  table = ttg.Truths(vars,leq)\n",
        "# table.as_pandas().style.set_properties(**{'text-align':'center'}).hide_index()\n",
        "  pd = table.as_pandas()\n",
        "  pd = pd.reindex(index=pd.index[::-1])\n",
        "  l = []\n",
        "  for i in range(pd.shape[0]):\n",
        "    l.append(i)\n",
        "  pd['linha'] = l\n",
        "  pd = pd.set_index('linha')\n",
        "  print (pd.to_string(justify='center'))\n",
        "\n",
        "dm('## Gerando a tabela para uma equação com N variáveis')\n",
        "\n",
        "dm(\"Escreva uma equação com n variáveis\")\n",
        "dm(\"Exemplo n=3, equacao a0 or a1 and a2\")\n",
        "\n",
        "dummy = interact(eqn_bits_table,n=\"3\",eq=\"a0 or a1 and a2\")\n"
      ]
    },
    {
      "cell_type": "markdown",
      "metadata": {
        "id": "QJwGe2IwjqNP"
      },
      "source": [
        "# Sistemas de Numeração\n",
        "\n",
        "Estamos acostumados com o sistema decimal para contar coisas e fazer operações matemáticas. Os computadores, como já vimos, trabalham com o sistema binário (base dois). Algumas linguagens computacionais compreendem base oito e dezesseis, pois são potências de dois e podem ser representadas facilmente por conjuntos de bits. Vejamos a seguir como os sistemas de numeração funcionam, como converter numeros entre eles e como realizar operações aritméticas nos computadores.\n",
        "\n",
        "### Sistema Decimal\n",
        "Um número **decimal** é representado com a notação posicional, onde cada dígito tem um peso em potência de 10.\n",
        "\n",
        "Por exemplo, $x=251 = $ **2**  $\\cdot 10^2 + $ **5**  $\\cdot 10^1 +$ **1** $\\cdot 10^0$.\n",
        "\n",
        "Posição | 2 | 1 | 0\n",
        "--|--|--|--\n",
        "Potência | $10^2$ | $10^1$ | $10^0$\n",
        "numero | $\\boxed{2}$ | $\\boxed{5}$  | $\\boxed{1}$\n",
        "\n",
        "### Sistema Binário\n",
        "\n",
        "Em binário temos apenas 2 dígitos **0** e **1**. Podemos representar qualquer número na notação posicional com potências de 2.\n",
        "\n",
        "Posição | 4| 3 |2 | 1 | 0\n",
        "--|--|--|--|--|--\n",
        "Potência | $2^4$| $2^3$| $2^2$ | $2^1$ | $2^0$\n",
        "numero | $\\boxed{1}$ | $\\boxed{0}$  | $\\boxed{1}$ | $\\boxed{0}$  | $\\boxed{0}$\n",
        "bits | $b_4$ | $b_3$ | $b_2$ | $b_1$| $b_0$\n"
      ]
    },
    {
      "cell_type": "markdown",
      "metadata": {
        "id": "2eTFEqcvmrNm"
      },
      "source": [
        "<h3>Conversão de Binário para Decimal e vice-versa</h3>\n",
        "\n",
        "Para converter, multiplicamos cada dígito binário pela sua potência de 2 e somamos.\n",
        "\n",
        "Um número binário com $n$ bits terá o valor em decimal = $ \\sum_{i}^{n-1} b_i \\cdot 2^i = b_{n-1} \\cdot 2^{n-1}+ \\ldots + b_{1} \\cdot 2^{1}+b_{0} \\cdot 2^{0}$.\n",
        "\n",
        "\n",
        "Por exemplo:\n",
        "\n",
        "Posição | 4| 3 |2 | 1 | 0\n",
        "--|--|--|--|--|--\n",
        "Potência | $2^4$| $2^3$| $2^2$ | $2^1$ | $2^0$\n",
        "numero | $\\boxed{1}$ | $\\boxed{0}$  | $\\boxed{1}$ | $\\boxed{0}$  | $\\boxed{0}$\n",
        "bits | $b_4$ | $b_3$ | $b_2$ | $b_1$| $b_0$\n",
        "| 16 | 8 | 4 | 2 | 1\n",
        "decimal = 20 = | 1*16+ | 0+ | 1*4 +| 0+ | 0\n",
        "\n",
        "\n",
        "<h4>Conversão de Decimal para Binário</h4>\n",
        "\n",
        "A conversão de Decimal em binário pode ser feita pelo método da divisão. A cada divisão, descobrimos um dígito binário:\n",
        "\n",
        "$D = b_{n-1} \\cdot 2^{n-1}+ \\ldots + b_{1} \\cdot 2^{1}+b_{0} \\cdot 2^{0}$\n",
        "\n",
        "$D/2 = b_{n-1} \\cdot 2^{n-2}+ \\ldots + b_{1} \\cdot 2^{0}, \\mbox{resto da divisão} = b_{0}$\n",
        "\n",
        "$D/2/2 = b_{n-2} \\cdot 2^{n-3}+ \\ldots + b_{2} \\cdot 2^{0}, \\mbox{resto da divisão} = b_{1}$\n",
        "\n",
        "$\\ldots$\n",
        "\n",
        "A tabela abaixo ilustra a conversão do número 26. Lembre-se que é a divisão **inteira** e seu resto.\n",
        "\n",
        "D | Divisao | Resto | Bit\n",
        "--|--|--|--\n",
        "26 | 13 | $\\boxed{0}$ | $b_0$\n",
        "13 | 6  | $\\boxed{1}$ | $b_1$\n",
        "6  | 3 | $\\boxed{0}$ | $b_2$\n",
        "3 | 1 | $\\boxed{1}$ | $b_3$\n",
        "1 | 0 | $\\boxed{1}$ | $b_4$\n",
        "\n",
        "Portanto D em binário será a sequência gerada pelo resto das divisão na ordem invertida (da última linha para a primeira).\n",
        "\n",
        "$D = \\frac{b_4}{\\boxed{1}} \\frac{b_3}{\\boxed{1}} \\frac{b_2}{\\boxed{0}} \\frac{b_1}{\\boxed{1}} \\frac{b_0}{\\boxed{0}} = 26_{decimal}$\n",
        "\n",
        "\n",
        "\n",
        "\n",
        "\n"
      ]
    },
    {
      "cell_type": "code",
      "execution_count": null,
      "metadata": {
        "cellView": "form",
        "id": "afOX4g2IJYE9"
      },
      "outputs": [],
      "source": [
        "#@title\n",
        "def dm(s):\n",
        "  display(Markdown(s))\n",
        "\n",
        "from ipywidgets import interact, interactive, fixed, interact_manual\n",
        "def bin2dec(Decimal,Binario):\n",
        "  try:\n",
        "    decimal = int(Decimal)\n",
        "    binario = int(Binario, 2)\n",
        "    if (decimal == binario):\n",
        "      dm(\"Conversao correta!\")\n",
        "    else:\n",
        "      dm(\"O valor não corresponde, favor refazer.\")\n",
        "  except:\n",
        "    dm(\"Formato incorreto!\")\n",
        "\n",
        "dm('## Execute a célula para verificar a correspondência de números em  Decimal e Binario. Modifique os valores.')\n",
        "\n",
        "dm(\"Digite um valor em decimal e seu equivalente em binário\")\n",
        "dummy = interact(bin2dec, Decimal=\"269\",Binario='100001101');"
      ]
    },
    {
      "cell_type": "code",
      "execution_count": null,
      "metadata": {
        "cellView": "form",
        "id": "nv9ebOdENvx6"
      },
      "outputs": [],
      "source": [
        "#@title\n",
        "from ipywidgets import interact, interactive, fixed, interact_manual\n",
        "import ipywidgets as widgets\n",
        "import random\n",
        "from IPython.display import display, Markdown, Latex\n",
        "\n",
        "def questao_aleatorio_lista_dropdown(l,cabecalho=\"\"):\n",
        "  x = random.randrange(len(l))\n",
        "  display(Markdown(\"###\"+cabecalho+l[x][0]+\"?\"))\n",
        "\n",
        "  r = [\"Selecione\"]\n",
        "  for i in l:\n",
        "    r.append(i[1])\n",
        "\n",
        "  def op(resposta):\n",
        "    if (resposta== l[x][1]):\n",
        "      return \"Correto !\"\n",
        "    else:\n",
        "      return \"Tente novamente !\"\n",
        "\n",
        "  interact(op,resposta=r)\n",
        "\n",
        "\n",
        "cabecalho = \"Escolha a opção correta para converter decimal em binário para o número \"\n",
        "\n",
        "import random\n",
        "\n",
        "L = []\n",
        "for i in range(5):\n",
        "  l = random.randint(4,8)\n",
        "  s= \"\"\n",
        "  for j in range(l):\n",
        "    b = random.randint(0,1)\n",
        "    s+= str(b)\n",
        "  item = [str(int(s,2)),s]\n",
        "  L.append(item)\n",
        "\n",
        "dm('## A cada execução desta célula ela gera um exercício com auto-correção')\n",
        "\n",
        "questao_aleatorio_lista_dropdown(L,cabecalho)"
      ]
    },
    {
      "cell_type": "markdown",
      "metadata": {
        "id": "1zdV82r5P1rm"
      },
      "source": [
        "<h3>Hexadecimal e Binário</h3>\n",
        "\n",
        "\n",
        "A base hexadecimal (ou 16) é muito usado por ser bem fácil de converter de binário para hexadecimal e vice-versa. O número tem pesos com potência de 16. Por exemplo, o número $123_{hexadecimal} = 1 \\cdot 16^2 + 2 \\cdot  16^1 + 3 \\cdot 16^0 = 256 + 32 + 3 = 291_{decimal}$.\n",
        "\n",
        "Como precisamos de 16 dígitos, além dos 10 dígitos de $0,\\ldots,9$, se utiliza as letras $a,\\ldots,f$ para os valores de $10,\\ldots,15$, respectivamente.\n",
        "\n",
        "A tabela abaixo mostra a equivalência binário, decimal e hexadecimal de $0, \\ldots, 15$.\n",
        "\n",
        "binário | 0000 | 0001 | 0010 | 0011 | 0100 | 0101 | 0110 | 0111 | 1000 | 1001 | 1010 | 1011 | 1100 | 1101 | 1110 | 1111\n",
        "--|       :--:| :--:| :--:| :--:| :--:| :--:| :--:|:--:| :--:| :--: |  :--:| :--:| :--:| :--:| :--:| :--:\n",
        "hexadecimal | 0 | 1 | 2 | 3 | 4 | 5 | 6 | 7 | 8 | 9 | **a** | **b** | **c** | **d** | **e** |**f**\n",
        "decimal | 0 | 1 | 2 | 3 | 4 | 5 | 6 | 7 | 8 | 9 | 10 | 11 | 12 | 13 | 14 | 15\n",
        "\n",
        "<h4>Converter de Binário para Hexadecimal</h4>\n",
        "\n",
        "Basta agrupar os bits de 4 em 4 e completar com zero, o agrupamento mais a esquerda. Depois converter cada grupo de 4 bits no dígito hexadecimal. A conversão inversa transforma cada dígito hexadecimal em um grupo de 4 bits binário.\n",
        "\n",
        "Exemplo:\n",
        "\n",
        "$D = \\color{black}{\\text{10}} \\color{blue}{\\text{1101}}\\color{darkblue}{\\text{0011}}$\n",
        "\n",
        "$D = \\boxed{10}\\boxed{1101}\\boxed{0011}$\n",
        "\n",
        "$D = \\frac{\\boxed{0010}}{2}\\frac{\\boxed{1101}}{d}\\frac{\\boxed{0011}}{3}=2d3_{hexadecimal}$\n",
        "\n",
        "\n"
      ]
    },
    {
      "cell_type": "code",
      "execution_count": null,
      "metadata": {
        "cellView": "form",
        "id": "0JYz4I05UTVm"
      },
      "outputs": [],
      "source": [
        "#@title\n",
        "cabecalho = \"Escolha a opção correta para converter hexadecimal em binário para o número \"\n",
        "\n",
        "import random\n",
        "\n",
        "L = []\n",
        "for i in range(5):\n",
        "  l = random.randint(400,1200)\n",
        "  s= hex(l)\n",
        "  b = bin(l)\n",
        "  item = [s,b]\n",
        "  L.append(item)\n",
        "\n",
        "dm('## A cada execução desta célula ela gera um exercício com auto-correção')\n",
        "\n",
        "questao_aleatorio_lista_dropdown(L,cabecalho)"
      ]
    },
    {
      "cell_type": "markdown",
      "metadata": {
        "id": "5knPJj1tiepM"
      },
      "source": [
        "### Representação em Verilog\n",
        "\n",
        "Em Verilog podemos usar binário, octal, decimal e hexadecimal. Pode ser com ou sem sinal. Podemos usar float também, mas falaremos disso mais tarde.\n",
        "\n",
        "Qualquer número precisa ter definido a quantidade de bits que será alocada. Por exemplo, o número 5 com 4 bits em binário será $\\boxed{0}\\boxed{1}\\boxed{0}\\boxed{1}$.\n",
        "\n",
        "Ele pode ser declarado de várias formas, por exemplo:\n",
        "```verilog\n",
        "wire [3:0] num;\n",
        "assign num = 4'b0101;  // binario 4 bits\n",
        "```\n",
        "onde **4** é número de bits e **b** diz para interpretar os números seguintes como binário.\n",
        "\n",
        "Vejamos outro exemplo:\n",
        "```verilog\n",
        "wire [3:0] num;\n",
        "assign num = 4'b10;  // numero 2 decimal, 10 em binário\n",
        "```\n",
        "\n",
        "será o número 2 com 4 bits = $\\boxed{0}\\boxed{0}\\boxed{1}\\boxed{0}$.\n",
        "que é diferente de\n",
        "```verilog\n",
        "wire [3:0] num;\n",
        "assign num = 4'd10;  // numero 10 decimal, 1010 em binário\n",
        "```\n",
        "que diz que é para usar 4 bits mas o **d** diz para interpretar o numero **10** como um numero decimal. Portanto será  $\\boxed{1}\\boxed{0}\\boxed{1}\\boxed{0}=10_{decimal}$\n",
        "\n",
        "Já em hexadecimal, usaremos a letra **h**, por exemplo:\n",
        "```verilog\n",
        "wire [6:0] num;\n",
        "assign num = 7'h10;  // numero 10 hexacimal, 001 0000 em binário, 16 decimal\n",
        "```\n",
        "que diz que é para usar 7 bits e o **h** diz para interpretar o numero **10** como um numero hexacimal. Portanto será  $\\boxed{0}\\boxed{0}\\boxed{1} \\mbox{ }\\boxed{0}\\boxed{0}\\boxed{0}\\boxed{0}=16_{decimal}$\n",
        "\n",
        "\n",
        "Exemplos que geram muita confusão são\n",
        "```verilog\n",
        "assign a = 1'b0;  // a=0\n",
        "assign b = 1'b1;  // b=1\n",
        "assign c = 1'd0;  // c=0\n",
        "assign d = 1'd1;  // d=1\n",
        "```\n",
        "\n",
        "Então guarde a notação: $\\frac{\\mbox{w}}{\\boxed{3'}}\\frac{\\mbox{B}}{\\boxed{d}}\\frac{\\mbox{n}}{\\boxed{5}}$\n"
      ]
    },
    {
      "cell_type": "markdown",
      "metadata": {
        "id": "D1tP4Qm5VDOo"
      },
      "source": [
        "Para saber mais, você pode usar este [Colab com vários exercícios de sistema de numeração](https://colab.research.google.com/drive/1U654FtCg5_ZEtmObc8SZIfZl4vk2pxDS?usp=sharing) ou este outro [Colab com vários exercícios com potências de 2 e codificação binária](https://colab.research.google.com/drive/1TfEfRBnuUE460h_Oct4zSMh4G63yCGZr?usp=sharing)."
      ]
    },
    {
      "cell_type": "markdown",
      "metadata": {
        "id": "hWNoarKVazYg"
      },
      "source": [
        "## Aritmética Binária\n",
        "\n",
        "Vejamos agora como os números são manipulados nos computadores usando Aritmética Binária.\n",
        "\n",
        "### Números sem Sinal\n",
        "\n",
        "Suponha o exemplo da soma de 3+3 em binário, como ilustrado abaixo:\n",
        "\n",
        "$ \\begin{array}{cccc}\n",
        "& b_2 & b_1 & b_0 \\\\\n",
        "+ & 0 & 1 & 1 \\\\\n",
        "& 0 & 1 & 1 \\\\\n",
        "& - & - & - \\\\\n",
        "& ? & ? & ?  \\end{array} $\n",
        "\n",
        "A soma em binário é semelhante a soma em decimal, mas como a base é 2, portanto teremos 4 possibilidades e apenas a última (1+1) terá vai-um:\n",
        "\n",
        "$ \\begin{array}{ccccccccc}\n",
        "     &   &   &   &   &   & & 1 & \\leftarrow \\\\\n",
        "    & 0 &  & 0 &  & 1 &  & & 1 \\\\\n",
        "   + & 0 & + & 1 & + & 0 & + & & 1 \\\\\n",
        "    & - &  & - &  & - &  & - & - \\\\\n",
        "    & 0 & & 1 & & 1 & & 1 & 0\n",
        " \\end{array} $\n",
        "\n",
        "para soma 3+3 que é 6 em decimal, teremos em binário:\n",
        "\n",
        "\n",
        "$ \\begin{array}{ccrr}\n",
        "\\mbox{vai-um} & 1 & \\leftarrow 1 & \\leftarrow ~~ \\\\\n",
        "+ & 0 & 1 & 1 \\\\\n",
        "& 0 & 1 & 1 \\\\\n",
        "& - & - & - \\\\\n",
        "& 1 & 1 & 0  \\end{array} $\n",
        "\n",
        "observe que temos no bit $b_1$ a soma de 1 + 1 + 1 que tem o resultado 1 e vai-um.\n",
        "\n"
      ]
    },
    {
      "cell_type": "code",
      "execution_count": null,
      "metadata": {
        "cellView": "form",
        "id": "Vgh0qZO19CRq"
      },
      "outputs": [],
      "source": [
        "#@title\n",
        "from ipywidgets import interact, interactive, fixed, interact_manual\n",
        "def bin2dec(A,B,A_bin,B_bin,Soma_Bin):\n",
        "  abin = int(A_bin,2)\n",
        "  bbin = int(B_bin,2)\n",
        "  soma = int(A)+int(B)\n",
        "  if ( abin+bbin == int(A)+int(B) and (abin+bbin == int(Soma_Bin,2) )):\n",
        "    print(\"Conversao correta e a soma = \",soma)\n",
        "  else:\n",
        "    print(\"Os valores não correspondem, favor refazer.\")\n",
        "\n",
        "dm('## Execute a célula para verificar a correspondência dos valores em binario e sua soma')\n",
        "print(\"Modifique os valores de A e B em decimal e seus equivalentes em binário A, B e A+B\")\n",
        "interact(bin2dec, A=\"12\", A_bin=\"1100\", B=\"6\",B_bin=\"110\",Soma_Bin=\"10010\");"
      ]
    },
    {
      "cell_type": "code",
      "execution_count": null,
      "metadata": {
        "cellView": "form",
        "id": "WmGBNt_MG72H"
      },
      "outputs": [],
      "source": [
        "#@title\n",
        "cabecalho = \"Escolha a opção correta para somar de 2 numeros binarios \"\n",
        "\n",
        "import random\n",
        "\n",
        "L = []\n",
        "for i in range(5):\n",
        "  a = random.randint(4,20)\n",
        "  b = random.randint(4,20)\n",
        "  ba = bin(a)\n",
        "  bb = bin(b)\n",
        "  Len = len(ba)\n",
        "  if ( Len < len(bb)):\n",
        "    ba = \"0\"*(len(bb)-len(ba))+ba[2:]\n",
        "    bb = bb[2:]\n",
        "  else:\n",
        "    bb = \"0\"*(len(ba)-len(bb))+bb[2:]\n",
        "    ba = ba[2:]\n",
        "  s = \"\\n &nbsp; \"+ba+\"<br>\"+\"\\\\+\"+bb+\"<br>----------\"\n",
        "  r = bin(a+b)\n",
        "  item = [s,r[2:]]\n",
        "  L.append(item)\n",
        "\n",
        "dm('## Teste seus conhecimentos, cada execução gera um novo exercício')\n",
        "\n",
        "questao_aleatorio_lista_dropdown(L,cabecalho)"
      ]
    },
    {
      "cell_type": "markdown",
      "metadata": {
        "id": "mCRlq9JFa2ro"
      },
      "source": [
        "<h3>Complemento de dois</h3>\n",
        "\n",
        "<h4>Sinal e magnitude</h4>\n",
        "\n",
        "Em decimal, um número negativo é precedido por  um sinal, por exemplo $+2$ e $-2$ para representar o número $2$ positivo e negativo.\n",
        "\n",
        "Em binário podemos usar o mesmo padrão, colocando um \"bit\" a mais para representar o sinal. Supondo sinal=0 para positivos e o sinal=1 para negativos, para um número de 2 bits com sinal $ \\boxed{s}\\boxed{b_1}\\boxed{b_0}$, teriamos $ \\color{red}{\\text{+}}2 = \\boxed{\\color{red}{\\text{0}}}\\boxed{1}\\boxed{0}$ e $ \\color{red}{\\text{-}}2 = \\boxed{\\color{red}{\\text{1}}}\\boxed{1}\\boxed{0}$.\n",
        "\n",
        "Entretanto, esta representação não é simétrica em relação ao zero e possui duas representações para o número zero.\n",
        "\n",
        "<h4>Complemento de dois</h4>\n",
        "\n",
        "O complemento de dois é uma codificação binária de forma que problemas matemáticos comuns se tornem muito simples de implementar. A conversão de um número positivo em negativo (e vice-versa) é feita invertendo todos os bits do número e adicionando um. O complemento de dois é particularmente útil para operações aritméticas, pois permite realizar operações como adição e subtração usando apenas operações bit a bit sem se preocupar com o sinal.\n",
        "\n",
        "<h4>Conversão de sinal</h4>\n",
        "\n",
        "Para um número de 2 bits com sinal, teremos 3 bits: 1 bit sinal + 2 bits para representar o número ($ \\boxed{s}\\boxed{b_1}\\boxed{b_0}$).\n",
        "\n",
        "Suponha o número 2,  temos $ \\color{red}{\\text{+}}2 = \\boxed{\\color{red}{\\text{0}}}\\boxed{1}\\boxed{0}$ para o número positivo. Igual a representação que já estamos usando com um bit de sinal mais a esquerda. O sinal=0 é o padrão para número positivo.\n",
        "\n",
        "Para transformar para negativo, temos que inverter e somar um, portanto\n",
        " $ \\color{red}{\\text{-}}2 = Inverter(\\boxed{\\color{red}{\\text{0}}}\\boxed{1}\\boxed{0})+1 = \\boxed{\\color{red}{\\text{1}}}\\boxed{0}\\boxed{1}+1= \\boxed{\\color{red}{\\text{1}}}\\boxed{1}\\boxed{0} =  \\color{red}{\\text{-}}2 $.\n",
        "\n",
        "> *Existe um truque para facilitar o procedimento, basta copiar o número da direita para a esquerda até encontrar o primeiro 1 e depois copiar os demais números invertidos.*\n",
        "\n",
        "A tabela abaixo mostra todos os números que podem ser codificados com complemento de 2 em 3 bits, sendo um bit para o sinal:\n",
        "\n",
        "Decimal | Complemento de 2\n",
        "---|---\n",
        "$ \\color{red}{\\text{+}}0$ | $\\boxed{\\color{red}{\\text{0}}}\\boxed{0}\\boxed{0}$\n",
        "$ \\color{red}{\\text{+}}1$ | $\\boxed{\\color{red}{\\text{0}}}\\boxed{0}\\boxed{1}$\n",
        "$ \\color{red}{\\text{+}}2$ | $\\boxed{\\color{red}{\\text{0}}}\\boxed{1}\\boxed{0}$\n",
        "$ \\color{red}{\\text{+}}3$ | $\\boxed{\\color{red}{\\text{0}}}\\boxed{1}\\boxed{1}$\n",
        "$ \\color{red}{\\text{-}}4$ | $\\boxed{\\color{red}{\\text{1}}}\\boxed{0}\\boxed{0}$\n",
        "$ \\color{red}{\\text{-}}3$ | $\\boxed{\\color{red}{\\text{1}}}\\boxed{0}\\boxed{1}$\n",
        "$ \\color{red}{\\text{-}}2$ | $\\boxed{\\color{red}{\\text{1}}}\\boxed{1}\\boxed{0}$\n",
        "$ \\color{red}{\\text{-}}1$ | $\\boxed{\\color{red}{\\text{1}}}\\boxed{1}\\boxed{1}$\n",
        "\n",
        "<h4>Números com mais bits</h4>\n",
        "\n",
        "Se quisermos representar um número positivo com mais bits, basta adicionar **zeros** a esquerda. Por exemplo, o número +2 com 5 bits será $ \\color{red}{\\text{+}}2 = \\boxed{\\color{red}{\\text{0}}}\\boxed{0}\\boxed{0}\\boxed{1}\\boxed{0}$. Teremos 1 bit de sinal e 4 bits para representar o número. Então podemos representar de $0,+1,\\ldots,+15$ com 5 bits (sendo um bit de sinal) para os números positivos.\n",
        "\n",
        "Para converter em complemento de 2, usamos o mesmo procedimento de inverter e somar 1, teremos $ \\color{red}{\\text{-}}2 = Inverter(\\boxed{\\color{red}{\\text{0}}}\\boxed{0}\\boxed{0}\\boxed{1}\\boxed{0})+1 = \\boxed{\\color{red}{\\text{1}}}\\boxed{1}\\boxed{1}\\boxed{0}\\boxed{1}+1= \\boxed{\\color{red}{\\text{1}}}\\boxed{1}\\boxed{1}\\boxed{1}\\boxed{0} =  \\color{red}{\\text{-}}2 $.\n",
        "\n",
        "A tabela abaixo mostra alguns números que podem ser codificados com complemento de 2 em 5 bits, sendo um bit para o sinal\n",
        "\n",
        "Decimal | Complemento de 2\n",
        "--:|:-:\n",
        "$ \\color{red}{\\text{+}}0$ | $\\boxed{\\color{red}{\\text{0}}}\\boxed{0}\\boxed{0}\\boxed{0}\\boxed{0}$\n",
        "$ \\color{red}{\\text{+}}1$ | $\\boxed{\\color{red}{\\text{0}}}\\boxed{0}\\boxed{0}\\boxed{0}\\boxed{1}$\n",
        "$\\ldots$ | $\\ldots$\n",
        "$ \\color{red}{\\text{+}}15$ | $\\boxed{\\color{red}{\\text{0}}}\\boxed{1}\\boxed{1}\\boxed{1}\\boxed{1}$\n",
        "$ \\color{red}{\\text{-}}16$ | $\\boxed{\\color{red}{\\text{1}}}\\boxed{0}\\boxed{0}\\boxed{0}\\boxed{0}$\n",
        "$ \\color{red}{\\text{-}}15$ | $\\boxed{\\color{red}{\\text{1}}}\\boxed{0}\\boxed{0}\\boxed{0}\\boxed{1}$\n",
        "$\\ldots$ | $\\ldots$\n",
        "$ \\color{red}{\\text{-}}2$ | $\\boxed{\\color{red}{\\text{1}}}\\boxed{1}\\boxed{1}\\boxed{1}\\boxed{0}$\n",
        "$ \\color{red}{\\text{-}}1$ | $\\boxed{\\color{red}{\\text{1}}}\\boxed{1}\\boxed{1}\\boxed{1}\\boxed{1}$\n",
        "\n",
        "\n",
        "Ou seja, com $n$ bits (incluindo o sinal) é possível codificar de $-2^{n-1}, \\ldots, -1, 0, +1, \\ldots +2^{n-1}-1$. Para n=5, podemos representar de -16 a +15.\n",
        "\n",
        "Observe que o número -1 sempre terá todos os bits ligados. Temos 1 número negativo a mais, pois o zero está usando um código da parte positiva.\n"
      ]
    },
    {
      "cell_type": "code",
      "execution_count": null,
      "metadata": {
        "cellView": "form",
        "id": "eH8xTU8uBepF"
      },
      "outputs": [],
      "source": [
        "#@title\n",
        "from ipywidgets import interact, interactive, fixed, interact_manual\n",
        "def complemento2(positivo,negativo):\n",
        "  overflow = 15\n",
        "  decimal = int(positivo,2)\n",
        "  negnum = bin((decimal^overflow)+1)\n",
        "  if ( negativo == negnum[2:]):\n",
        "    print(\"Conversao correta !\")\n",
        "  else:\n",
        "    print(\"O valor não corresponde, favor refazer.\")\n",
        "\n",
        "dm('## Escreva o número positivo e negativo com complemento de 2 com 4 bits.')\n",
        "\n",
        "print(\"Modifique o valor em binário e seu complemento de 2 (4 bits)\")\n",
        "interact(complemento2, positivo=\"0110\",negativo='1010');"
      ]
    },
    {
      "cell_type": "code",
      "execution_count": null,
      "metadata": {
        "cellView": "form",
        "id": "7mUttHi6IyC9"
      },
      "outputs": [],
      "source": [
        "#@title\n",
        "\n",
        "from ipywidgets import interact, interactive, fixed, interact_manual\n",
        "def complemento2(numero_bits,positivo,negativo):\n",
        "  print(\"**\")\n",
        "  overflow = 2**int(numero_bits)-1\n",
        "  decimal = int(positivo,2)\n",
        "  negnum = bin((decimal^overflow)+1)\n",
        "  if ( negativo == negnum[2:]):\n",
        "    print(\"Conversao correta !\")\n",
        "  else:\n",
        "    print(\"O valor não corresponde, favor refazer.\")\n",
        "\n",
        "\n",
        "dm('## Agora com N bits')\n",
        "print(\"Selecione o número de bits da representação \\n Um valor em binário e seu complemento de 2\")\n",
        "interact(complemento2, numero_bits=4, positivo=\"0110\", negativo='1010');"
      ]
    },
    {
      "cell_type": "markdown",
      "metadata": {
        "id": "j6AZ8HzV_wJp"
      },
      "source": [
        "<h3>Aritmética com complemento de 2</h3>\n",
        "\n",
        "A grande vantagem da representação em complemento de 2 é que podemos realizar operações de soma sem se preocupar com o sinal dos operandos. Vamos considerar 3 bits para codificação, incluindo sinal. Vamos fazer a operação +1 + (-2) = -1.\n",
        "\n",
        "$ \\begin{array}{ccccc}\n",
        "& \\color{red}{\\text{s}} & b_1 & b_0 & Decimal\\\\\n",
        "+ & \\color{red}{\\text{0}} & 0 & 1 & +1\\\\\n",
        "& \\color{red}{\\text{1}} & 1 & 0 & -2 \\\\\n",
        "& - & - & - & - \\\\\n",
        "& ? & ? & ?  & -1\\end{array} $\n",
        "\n",
        "Então teremos\n",
        "\n",
        "$ \\begin{array}{ccccc}\n",
        "\\mbox{vai-um} & 0 & 0 &  & Decimal\\\\\n",
        "+ & \\color{red}{\\text{0}} & 0 & 1 & +1 \\\\\n",
        "& \\color{red}{\\text{1}} & 1 & 0 & -2\\\\\n",
        "& - & - & - & - \\\\\n",
        "& \\color{red}{\\text{1}} & 1 & 1  & -1 \\end{array} $\n",
        "\n",
        "<h4>+x + (-x) = 0 ?</h4>\n",
        "\n",
        "Sempre que somarmos o número e seu complemento teremos o resultado 0. Por exemplo:\n",
        "\n",
        "$ \\begin{array}{ccccc}\n",
        "\\mbox{vai-um} & 1 & \\leftarrow &  & Decimal\\\\\n",
        "+ & \\color{red}{\\text{0}} & 1 & 0 & +2 \\\\\n",
        "& \\color{red}{\\text{1}} & 1 & 0 & -2\\\\\n",
        "& - & - & - & - \\\\\n",
        "& \\color{red}{\\text{0}} & 0 & 0  & 0 \\end{array} $\n",
        "\n",
        "Observe que não consideramos o vai-um do bit de sinal, pois  a codificação é limitada a 3 bits, neste exemplo.\n",
        "\n",
        "Outro exemplo:\n",
        "\n",
        "$ \\begin{array}{ccccc}\n",
        "\\mbox{vai-um} & 1 & \\leftarrow 1 & \\leftarrow & Decimal\\\\\n",
        "+ & \\color{red}{\\text{0}} & 0 & 1 & +1 \\\\\n",
        "& \\color{red}{\\text{1}} & 1 & 1 & -1\\\\\n",
        "& - & - & - & - \\\\\n",
        "& \\color{red}{\\text{0}} & 0 & 0  & 0 \\end{array} $\n",
        "\n",
        "<h4>Overflow</h4>\n",
        "\n",
        "Chamamos *overflow* quando ocorre um estouro da capacidade de representação, o que só ocorre quando somamos números com o mesmo sinal. A forma mais simples de detectá-lo é fazer um ou exclusivo (XOR) entre os dois últimos vai um, pois se eles forem diferentes ocorreu o problema.\n",
        "\n",
        "No exemplo a seguir, vamos usar 4 bits, o que nos dá um campo de representação entre -8 e 7. Qualquer resultado fora deste intervalo terá os dois últimos vai um diferentes, indicando *overflow*.\n",
        "\n",
        "$ \\begin{array}{rrrrrc}\n",
        "\\color{red}{0} & \\leftarrow \\color{red}{1} & \\leftarrow 0 & \\leftarrow 0 & \\leftarrow ~~ & Decimal\\\\\n",
        "& 0 & 1 & 0 & 0 & +4 \\\\\n",
        "& +0 & 1 & 0 & 0 & +4 \\\\\n",
        "& - & - & - & - \\\\\n",
        "& 1 & 0 & 0  & 0 & \\color{red}{-8}\\end{array} $\n",
        "\n",
        "Note que o último vai um é 0, mas como é diferente do anterior, acusa o problema. Agora usando negativos:\n",
        "\n",
        "$ \\begin{array}{rrrrrc}\n",
        "\\color{red}{1} & \\leftarrow \\color{red}{0} & \\leftarrow 0 & \\leftarrow 0 & \\leftarrow ~~ & Decimal\\\\\n",
        "& 1 & 0 & 0  & 0 & \\color{red}{-8} \\\\\n",
        "& +1 & 1 & 1 & 1 & -1 \\\\\n",
        "& - & - & - & - \\\\\n",
        "& 0 & 1 & 1 & 1 & \\color{red}{+7} \\\\\n",
        "\\end{array} $\n",
        "\n",
        "Resumindo, se somamos dois números com o mesmo sinal e o resultado tem sinal diferente ocorreu *overlflow*. No hardware é mais fácil comparar os dois últimos vai um para detectar isso do que comparar os sinais das entradas e da saída."
      ]
    },
    {
      "cell_type": "code",
      "execution_count": null,
      "metadata": {
        "cellView": "form",
        "id": "32VBqcucKxdm"
      },
      "outputs": [],
      "source": [
        "#@title\n",
        "\n",
        "from ipywidgets import interact, interactive, fixed, interact_manual\n",
        "def somacomplemento2(a,b,soma):\n",
        "  na = int(a,2)\n",
        "  nb = int(b,2)\n",
        "  s = na+nb\n",
        "  bs = bin(s)\n",
        "  bs = bs[2:]\n",
        "  if (len(bs) < 4):\n",
        "    bs = \"0\"*(4-len(bs))+bs\n",
        "  bs = bs[-4:]\n",
        "  if ( bs == soma):\n",
        "     print(\"Conversao correta !\")\n",
        "  else:\n",
        "    print(\"O valor não corresponde, favor refazer.\")\n",
        "\n",
        "dm('## Usando números de 4 bits, escreva números A e B e sua soma')\n",
        "\n",
        "print(\"Modifique A, B e a soma em complemento 2\\nOs números podem ser positivos ou negativos.\")\n",
        "interact(somacomplemento2, a=\"0110\",b='1010', soma='0000');"
      ]
    },
    {
      "cell_type": "markdown",
      "metadata": {
        "id": "SO-zOk_ptoJq"
      },
      "source": [
        "## Circuitos Aritméticos\n",
        "\n",
        "### Meio somador (*half adder*)\n",
        "\n",
        "Vamos descrever a seguir alguns circuitos artiméticos básicos, começando pelo meio somador. Ele é assim chamado porque é capaz de somar dois bits (`a` e `b`), gerar o resultado da soma (`s`) e o vai-um (`c` = *carry*), mas não é capaz de receber o vem-um da soma anterior, ou seja, não pode ser encadeado para formar um somador de vários bits.\n",
        "\n",
        "a | b || c | s\n",
        "--|---||---|---\n",
        "0|0||0|0\n",
        "0|1||0|1\n",
        "1|0||0|1\n",
        "1|1||1|0\n"
      ]
    },
    {
      "cell_type": "code",
      "execution_count": null,
      "metadata": {
        "id": "sS3oXqku_z3h"
      },
      "outputs": [],
      "source": [
        "%%print_verilog -n half_adder.v\n",
        "\n",
        "module half_adder(\n",
        "    input a, b,\n",
        "    output s, c);\n",
        "\n",
        "    assign s = a ^ b;\n",
        "    assign c = a & b;\n",
        "endmodule"
      ]
    },
    {
      "cell_type": "markdown",
      "metadata": {
        "id": "k_arK-E1BXSp"
      },
      "source": [
        "<h2>Somador completo (<i>full adder</i>)</h2>\n",
        "\n",
        "Um somador completo pode ser combinado com outros para realizar a soma de vários bits, conforme [explicado anteriormente](#scrollTo=Aritm_tica_Bin_ria). Para isso adicionamos uma porta de entrada ($c_{in}$) para receber um bit adicional da soma anterior:\n",
        "\n",
        "a | b | $c_{in}$ || $c_{out}$ | s\n",
        "--|--|:-:||:-:|---\n",
        "0|0|0||0|0\n",
        "0|0|1||0|1\n",
        "0|1|0||0|1\n",
        "0|1|1||1|0\n",
        "1|0|0||0|1\n",
        "1|0|1||1|0\n",
        "1|1|0||1|0\n",
        "1|1|1||1|1\n",
        "\n",
        "Ele pode ser implementado a partir de dois meio somadores e uma porta OR adicional como a seguir. Aproveitamos a ocasião para explicar outra forma de especificar hardware em Verilog. O módulo `half_adder` está descrito em uma forma que podemos chamar **funcional** (ou **dataflow**) , ou seja, cada saída é uma função direta das entradas. Já o módulo `full_adder` está escrito na forma **estrutural**, que é quando criamos um módulo de forma hierárquica, instanciando módulos menores ou primitivas básicas (note o comando que inclui o módulo definido anteriormente `include \"half_adder.v\"`)."
      ]
    },
    {
      "cell_type": "code",
      "execution_count": null,
      "metadata": {
        "id": "ld4_Pw91Bd8M"
      },
      "outputs": [],
      "source": [
        "%%print_verilog -n full_adder.v\n",
        "`include \"half_adder.v\"\n",
        "\n",
        "module full_adder(\n",
        "    input a, b, cin,\n",
        "    output s, cout);\n",
        "\n",
        "    wire c0, c1, s0; // podem ser omitidas já que possuem um único bit\n",
        "\n",
        "    half_adder m0(a, b, s0, c0);\n",
        "    half_adder m1(s0, cin, s, c1);\n",
        "    or (cout, c0, c1);\n",
        "endmodule"
      ]
    },
    {
      "cell_type": "markdown",
      "source": [
        "Na simulação a seguir usamos os bits da própria variável de iteração `i` para fornecer os estímulos em todas as combinações possíveis:"
      ],
      "metadata": {
        "id": "aXbv6bsgmofR"
      }
    },
    {
      "cell_type": "code",
      "source": [
        "%%wavedrom\n",
        "`include \"full_adder.v\"\n",
        "\n",
        "module tb_full_adder;\n",
        "  reg a, b, cin;\n",
        "  wire s, cout;\n",
        "  integer i;\n",
        "\n",
        "  full_adder dut(a, b, cin, s, cout);\n",
        "\n",
        "  initial\n",
        "  begin\n",
        "    $dumpvars(1);\n",
        "    $display(\"i                        ...3210||a|b|c||c|s\");\n",
        "    $monitor(\"%3b||%b|%b|%b||%b|%b\", i, a, b, cin, cout, s);\n",
        "    for (i=0; i<8; i=i+1)\n",
        "    begin\n",
        "      cin = i[0];\n",
        "        b = i[1];\n",
        "        a = i[2];\n",
        "      #5;\n",
        "    end\n",
        "    $finish;\n",
        "  end\n",
        "endmodule"
      ],
      "metadata": {
        "id": "TzNtjhfHlSPH"
      },
      "execution_count": null,
      "outputs": []
    },
    {
      "cell_type": "markdown",
      "metadata": {
        "id": "urFhMUp7ANB4"
      },
      "source": [
        "<h2>Somador <i>ripple-carry</i></h2>\n",
        "\n",
        "Um somador *ripple-carry* é a forma mais simples de realizar uma soma de vários bits. Ele é construido a partir de vários somadores complentos encadeados.\n",
        "\n",
        "A seguir está o código Verilog e o respectivo circuito para um somador de 4 bits. Note que o caminho de propagação do sinal que vai de `cin` até `cout` é longo e vai aumentando a cada novo somador adicionado, esta é a sua desvantagem. A vantagem é a simplicidade, pois o circuito é uniforme, bastando um somador completo identico para cada novo bit."
      ]
    },
    {
      "cell_type": "code",
      "execution_count": null,
      "metadata": {
        "id": "0LNyK9YmHWYQ"
      },
      "outputs": [],
      "source": [
        "%%print_verilog -n adder4.v\n",
        "`include \"full_adder.v\"\n",
        "\n",
        "module adder4(\n",
        "    input [3:0] a, b,\n",
        "    input cin,\n",
        "    output [3:0] s,\n",
        "    output cout);\n",
        "\n",
        "    wire [4:0] c;\n",
        "\n",
        "    assign c[0] = cin;\n",
        "    full_adder a0(a[0], b[0], c[0], s[0], c[1]);\n",
        "    full_adder a1(a[1], b[1], c[1], s[1], c[2]);\n",
        "    full_adder a2(a[2], b[2], c[2], s[2], c[3]);\n",
        "    full_adder a3(a[3], b[3], c[3], s[3], c[4]);\n",
        "    assign cout = c[4];\n",
        "endmodule"
      ]
    },
    {
      "cell_type": "markdown",
      "source": [
        "No *test bench* a seguir usamos a mesma estratégia de atribuir partes do contador da iteração para as entadas, porém $2^9$ resultaria em 512 casos de teste, então estamos fazendo o incremento a cada 25 para reduzir o número de casos. Declaramos a saída `s` com um bit a mais e concatenamos o vai-um (`cout`) neste último bit para termos o número correto no resultado. No monitor informamos `%d` para obter os resultados em decimal, mas na simulação eles aparecem em hexadecimal.  "
      ],
      "metadata": {
        "id": "gH2PYyQLfMIP"
      }
    },
    {
      "cell_type": "code",
      "source": [
        "%%wavedrom\n",
        "`include \"adder4.v\"\n",
        "\n",
        "module tb_adder4;\n",
        "  reg [3:0] a, b;\n",
        "  reg cin;\n",
        "  wire [4:0] s;\n",
        "  integer i, j;\n",
        "\n",
        "  adder4 dut(a, b, cin, s[3:0], s[4]);\n",
        "\n",
        "  initial\n",
        "  begin\n",
        "    $dumpvars(1);\n",
        "    $display(\" a +  b + cin = {cout,s}\");\n",
        "    $monitor(\"%d + %d + %3b = %7d\", a, b, cin, s);\n",
        "    for (i=1; i<512; i=i+25)\n",
        "    begin\n",
        "      cin = i[0];\n",
        "        b = i[4:1];\n",
        "        a = i[8:5];\n",
        "      #5;\n",
        "    end\n",
        "    $finish;\n",
        "  end\n",
        "endmodule"
      ],
      "metadata": {
        "id": "abVsYiVna8jg"
      },
      "execution_count": null,
      "outputs": []
    },
    {
      "cell_type": "markdown",
      "metadata": {
        "id": "k28QLtJKSJa7"
      },
      "source": [
        "Para resolver o problema de atraso a cada bit adicionado é possível construir um circuito que antecipa o vai-um e dá o resultado mais rápido (*carry lookahead*), mas ele cresce a cada novo bit adicionado. Esta solução não será abordada aqui, você pode pesquisá-la por contra própria e testar nas células abaixo, trocando o código da implementação.\n",
        "\n",
        "<h3>Módulos parametrizados</h3>\n",
        "\n",
        "Vamos aproveitar a ocasião para introduzir o conceito de parâmetros em Verilog. Podemos definir um módulo, cujas propriedades são pametrizáveis, por exemplo, a largura de suas portas. Assim, quando ele for instanciado, podemos usá-lo com o valor padrão dos parâmetros ou modificar em cada instância para obter um módulo personalizado.\n",
        "\n",
        "No trecho de código a seguir as portas `a`, `b` e `s` do somandor terão sua largura definida de acordo com o parâmetro `width` declarado logo abaixo:\n",
        "\n",
        "```verilog\n",
        "module N_bits_adder(\n",
        "    input [width-1:0] a, b,\n",
        "    input cin,\n",
        "    output [width-1:0] s,\n",
        "    output cout);\n",
        "\n",
        "    parameter width = 8; //largura padrão\n",
        "    ...\n",
        "```\n",
        "\n",
        "Depois declaramos um fio `c` com um bit a mais e a variável de geração `i`.\n",
        "\n",
        "```verilog\n",
        "    wire [width:0] c;\n",
        "    genvar i;\n",
        "```\n",
        "\n",
        "Dentro de um bloco `generate`/`endgenerate` usamos o comando `for` para instanciar cada um dos somadores, usando o fio `c` para propagar os vai-uns.\n",
        "\n",
        "```verilog\n",
        "    generate\n",
        "        for (i=0; i<width; i=i+1)\n",
        "            full_adder bit(a[i], b[i], c[i], s[i], c[i+1]);\n",
        "    endgenerate\n",
        "```\n",
        "\n",
        "Cada bit do fio `c` foi ligado nas duas pontas, exceto o primeiro e o último, então tratamos isso fora do bloco.\n",
        "\n",
        "```verilog\n",
        "\n",
        "    assign c[0] = cin;\n",
        "    assign cout = c[width];\n",
        "```\n",
        "\n",
        "O código completo está a seguir:"
      ]
    },
    {
      "cell_type": "code",
      "execution_count": null,
      "metadata": {
        "id": "Zq-yhD12Ufmo"
      },
      "outputs": [],
      "source": [
        "%%verilog -n N_bits_adder.v\n",
        "`include \"full_adder.v\"\n",
        "\n",
        "module N_bits_adder(\n",
        "    input [width-1:0] a, b,\n",
        "    input cin,\n",
        "    output [width-1:0] s,\n",
        "    output cout);\n",
        "\n",
        "    parameter width = 8; //largura padrão\n",
        "\n",
        "    wire [width:0] c;\n",
        "    genvar i;\n",
        "\n",
        "    generate\n",
        "        for (i=0; i<width; i=i+1)\n",
        "            full_adder bit(a[i], b[i], c[i], s[i], c[i+1]);\n",
        "    endgenerate\n",
        "\n",
        "    assign c[0] = cin;\n",
        "    assign cout = c[width];\n",
        "endmodule\n"
      ]
    },
    {
      "cell_type": "markdown",
      "source": [
        "Assim conseguimos construir um somador de largura variável, bastando mudar o valor de `width` quando ele for instanciado. Isso pode ser feito de duas formas.\n",
        "\n",
        "* Na forma mais compacta, usamos um bloco `#()` e colocamos os parâmetros dentro, separando por vírgula se houver mais de um:\n",
        "\n",
        "```verilog\n",
        "    N_bits_adder #(4) dut4 (a[3:0], b[3:0], cin, s[3:0], c);\n",
        "```\n",
        "\n",
        "* Na forma mais explícita, usamos o comando `defparam` para indicar cada valor individualmente:\n",
        "\n",
        "```verilog\n",
        "    defparam dut2.width = 2;\n",
        "    N_bits_adder dut2 (a[5:4], b[5:4], c, s[5:4], cout);\n",
        "```\n",
        "\n"
      ],
      "metadata": {
        "id": "zRn-jvPBi41j"
      }
    },
    {
      "cell_type": "markdown",
      "source": [
        "Para demonstrar o conceito, vamos construir um somador de 6 bits a partir destas 2 instancias do somador parametrizável `N_bits_adder`.\n",
        "\n",
        "* A primeira vai somar os 4 bits menos significativos:\n",
        "* A segunda vai somar os 2 bits mais significativos:\n",
        "\n",
        "Elas estão encadeadas pelo sinal de vai-um (`c`)."
      ],
      "metadata": {
        "id": "O4elRp6mivyN"
      }
    },
    {
      "cell_type": "code",
      "source": [
        "%%verilog -n adder6bits.v\n",
        "`include \"N_bits_adder.v\"\n",
        "\n",
        "module adder6bits(\n",
        "    input [5:0] a, b,\n",
        "    input cin,\n",
        "    output [5:0] s,\n",
        "    output cout);\n",
        "\n",
        "    wire c;\n",
        "\n",
        "    N_bits_adder #(4) dut4 (a[3:0], b[3:0], cin, s[3:0], c);\n",
        "\n",
        "    defparam dut2.width = 2;\n",
        "    N_bits_adder dut2 (a[5:4], b[5:4], c, s[5:4], cout);\n",
        "endmodule"
      ],
      "metadata": {
        "id": "0W8pVPtHij5T"
      },
      "execution_count": null,
      "outputs": []
    },
    {
      "cell_type": "markdown",
      "source": [
        "A estrutura deste módulo não faz muito sentido, uma vez que poderiamos ter instanciado o nosso somador genérico com 6 bits uma única vez, mas já que o fizemos, vamos testar para provar que ele funciona:"
      ],
      "metadata": {
        "id": "0kXkhYQYjQjh"
      }
    },
    {
      "cell_type": "code",
      "source": [
        "%%verilog\n",
        "`include \"adder6bits.v\"\n",
        "\n",
        "module tb_adder6bits;\n",
        "  reg [5:0] a, b;\n",
        "  reg cin;\n",
        "  wire [6:0] s;\n",
        "  integer i, j;\n",
        "\n",
        "  adder6bits dut(a, b, cin, s[5:0], s[6]);\n",
        "\n",
        "  initial\n",
        "  begin\n",
        "    $dumpvars(1);\n",
        "    $display(\" a +  b + cin = {cout,s}\");\n",
        "    $monitor(\"%d + %d + %3b = %7d\", a, b, cin, s);\n",
        "    for (i=0; i<1<<13; i=i+1333)\n",
        "    begin\n",
        "      cin = i[0];\n",
        "        b = i[6:1];\n",
        "        a = i[12:7];\n",
        "      #5;\n",
        "    end\n",
        "    $finish;\n",
        "  end\n",
        "endmodule"
      ],
      "metadata": {
        "id": "eBrJX70kgyVq"
      },
      "execution_count": null,
      "outputs": []
    },
    {
      "cell_type": "markdown",
      "metadata": {
        "id": "yOvVKYqQIiaZ"
      },
      "source": [
        "A própria linguagem Verilog possui operadores aritméticos, então é possível construir um somador apenas usando este operador. Note que é possível usar o operador de concatenação `{}` do lado esquerdo da expressão de atribuição para pegar o bit excedente no `cout`."
      ]
    },
    {
      "cell_type": "code",
      "execution_count": null,
      "metadata": {
        "id": "CdS5NFzTGg-2"
      },
      "outputs": [],
      "source": [
        "%%print_verilog\n",
        "\n",
        "module adder(\n",
        "    input [N-1:0] a, b,\n",
        "    input cin,\n",
        "    output [N-1:0] s,\n",
        "    output cout);\n",
        "    parameter N = 32;\n",
        "    assign {cout, s} = a + b + cin;\n",
        "endmodule"
      ]
    },
    {
      "cell_type": "markdown",
      "metadata": {
        "id": "4zgJ59iYmNzj"
      },
      "source": [
        "# Circuitos combinacionais típicos\n",
        "\n",
        "Agora que já sabemos as formas de representação e manipulação de circuitos digitais, vamos conhecer alguns **circuitos combinacionais** típicos e suas respectivas construções em Verilog. Estes são chamados combinacionais porque suas saídas dependem exclusivamente das combinações de entradas, ou seja, sempre que uma determinada entrada é apresentada a saída correspondente a ela é a mesma. Posteriormente, veremos que **circuitos sequenciais** podem apresentar saídas diferentes com a mesma entrada, pois dependem também de um estado interno provido por elementos de memória.\n"
      ]
    },
    {
      "cell_type": "markdown",
      "metadata": {
        "id": "yDTvNVH-9Ayt"
      },
      "source": [
        "\n",
        "## Multiplexador\n",
        "\n",
        "Depois das portas lógicas básica, talvez seja o multiplexador (mux) o circuito mais conhecido e mais útil. Resumidamente ele é capaz de escolher entre duas (ou mais) entradas a partir de uma linha de seleção. Na tabela a seguir demonstramos o funcionamento de um mux de duas entradas de dados e uma de seleção. Note que a saída $f$ correponde à entrada $x_0$ quando $Sel=0$ e que quando $Sel=1$ a entrada $x_1$ é direcionada para a saída.\n",
        "\n",
        "$Sel$|$x_0$|$x_1$|$f$\n",
        ":-:|:-:|:-:|:-:\n",
        " 0 | **0** | 0 | **0** |\n",
        " 0 | **0** | 1 | **0** |\n",
        " 0 | **1** | 0 | **1** |\n",
        " 0 | **1** | 1 | **1** |\n",
        " 1 | 0 | **0** | **0** |\n",
        " 1 | 0 | **1** | **1** |\n",
        " 1 | 1 | **0** | **0** |\n",
        " 1 | 1 | **1** | **1** |\n",
        "\n",
        " Uma tabela resumida pode ser a seguinte:\n",
        "\n",
        " $Sel$|$f$\n",
        " :-:|:-:\n",
        " 0|$x_0$\n",
        " 1|$x_1$\n",
        "\n",
        "A implementação mais direta deste circuito pode ser obtida a partir da expressão $f =  x_1 Sel + x_0\\overline{Sel}$ demonstrada a seguir em Verilog."
      ]
    },
    {
      "cell_type": "code",
      "execution_count": null,
      "metadata": {
        "id": "mqgdXYRp9iK8"
      },
      "outputs": [],
      "source": [
        "%%print_verilog -n mux2.v\n",
        "\n",
        "module mux2(\n",
        "  input sel, x0, x1,\n",
        "  output f);\n",
        "  assign f = sel & x1 | ~sel & x0;\n",
        "endmodule"
      ]
    },
    {
      "cell_type": "markdown",
      "metadata": {
        "id": "KfuelbskUqWZ"
      },
      "source": [
        "Em sua simulação a seguir, podemos ver que a saída `f` copia a entrada `x0` inicialmente, enquanto `sel` está embaixo. Já na segunda metade da simulação, enquanto `sel` é acionado, a saída `f` fica igual a entrada `x1`."
      ]
    },
    {
      "cell_type": "code",
      "execution_count": null,
      "metadata": {
        "cellView": "form",
        "id": "OSK4gbWrL7VF"
      },
      "outputs": [],
      "source": [
        "#@title\n",
        "from schemdraw import logic\n",
        "logic.TimingDiagram(\n",
        "    {'signal': [\n",
        "        {'name': 'x0', 'wave': '0.1.0.1.0.1.0.1.'},\n",
        "        {'name': 'x1', 'wave': '0101010101010101'},\n",
        "        {'name': 'sel','wave': '0.......1.......'},\n",
        "        {'name': 'f',  'wave': '0.1.0.1.01010101'},\n",
        "    ],\n",
        "     'edge': ['[3^:0]+[3^:8] $sel=0, f=x0$',\n",
        "              '[3^:8]+[3^:16] $sel=1, f=x1$',\n",
        "             ]\n",
        "    }, ygap=.5, grid=False)"
      ]
    },
    {
      "cell_type": "markdown",
      "metadata": {
        "id": "2BsfbrnLK5yW"
      },
      "source": [
        "Outra forma usada para gerar multiplexadores é usando o operador ternário da linguagem,  que possou três partes:\n",
        "`condição ? verdadeiro : falso`. Ele pode ser lido na forma: se condição, então verdadeiro, senão falso. Notem que neste caso a ferramenta gráfica substitui sua representação por um trapézio, que é a forma mais comum de representar um multiplexador. Nesta forma simplificada de representar um mux as entradas são colocadas do lado maior, a saída do lado menor e o controle na lateral."
      ]
    },
    {
      "cell_type": "markdown",
      "metadata": {
        "id": "wV-gYH0eL3No"
      },
      "source": [
        "Podemos combinar multiplexadores menores para obter outro com um número maior de entradas. Eles devem ser organizados em camadas e devemos estar atentos às combinações da seleção do controle, principalmente se o número de entradas de dados não for uma potência de dois.\n",
        "\n",
        "A animação abaixo ilustra o funcionamento com a seleção variando da entrada 0 até a entrada 3. O bit $sel_0$ seleciona o primeiro nível entre os pares $x_0,x_1$ e $x_2,x_3$. O  bit $sel_1$ irá selecionar o mux de cima (0 ou 1) ou o mux de baixo (2 ou 3). Você pode testar visualmente este e outros exemplos [seguindo este link](https://github.dev/menotti/ld/digitaljs/).\n",
        "\n",
        "![](https://github.com/menotti/ld/blob/main/figs/mux4.gif?raw=true)\n",
        "\n",
        "A seguir o código Verilog usando operadores ternários aninhados:"
      ]
    },
    {
      "cell_type": "code",
      "execution_count": null,
      "metadata": {
        "id": "AATu28-IL2uj"
      },
      "outputs": [],
      "source": [
        "%%print_verilog\n",
        "\n",
        "module mux4(\n",
        "  input [1:0] sel,\n",
        "  input x0, x1, x2, x3,\n",
        "  output f);\n",
        "  assign f = sel[1] ? (sel[0] ? x3 : x2) : (sel[0] ? x1 : x0);\n",
        "endmodule"
      ]
    },
    {
      "cell_type": "markdown",
      "metadata": {
        "id": "JZ6krIzENCLV"
      },
      "source": [
        "Da mesma forma, sua representação pode ser simplificada em uma única forma trapezoidal com todas as entradas juntas."
      ]
    },
    {
      "cell_type": "code",
      "execution_count": null,
      "metadata": {
        "cellView": "form",
        "id": "ZWB6FkFl-z5r"
      },
      "outputs": [],
      "source": [
        "#@title\n",
        "import schemdraw\n",
        "from schemdraw import elements as elm\n",
        "\n",
        "elm.Multiplexer(\n",
        "    pins=[elm.IcPin(name='11', side='L', pin='x3'),\n",
        "          elm.IcPin(name='10', side='L', pin='x2'),\n",
        "          elm.IcPin(name='01', side='L', pin='x1'),\n",
        "          elm.IcPin(name='00', side='L', pin='x0'),\n",
        "          elm.IcPin(name='f', side='R'),\n",
        "          elm.IcPin(side='B')],edgepadH=-.5).label('sel[1:0]', 'bottom', fontsize=11)"
      ]
    },
    {
      "cell_type": "markdown",
      "metadata": {
        "id": "ZSs0W7C9Nb6S"
      },
      "source": [
        "<h3>Exercício</h3>\n",
        "\n",
        "No bloco de código abaixo, implementamos um mux de três entradas (a, b e c) de acordo com a seguinte tabela:\n",
        "\n",
        "s0|s1|f\n",
        ":-:|:-:|:-:\n",
        "0|0|a\n",
        "0|1|b\n",
        "1|x|c\n",
        "\n",
        "Ele foi implementado na forma funcional (`mux3f`) com operadores ternários aninhados (linha 11). Observe sua simulação na sequência do código, ela está na mesma ordem da tabela acima. Implemente uma versão estrutural (`mux3e`), a partir de dois `mux2` fornecidos. Para isso, preencha as portas correspondentes nas instancias das linhas 5 e 6. Depois execute a célula e veja se ele se comporta da mesma maneira, ou seja `tb_mux3.fe` = `tb_mux3.ff` ."
      ]
    },
    {
      "cell_type": "code",
      "execution_count": null,
      "metadata": {
        "id": "gtqMOK1YNyNv"
      },
      "outputs": [],
      "source": [
        "%%wavedrom\n",
        "`include \"mux2.v\"\n",
        "\n",
        "module mux3e(input a, b, c, s0, s1, output f);\n",
        "  // implemente sua versão estrutural:\n",
        "  mux2 interno(, , , );\n",
        "  mux2 externo(, , , );\n",
        "endmodule\n",
        "\n",
        "module mux3f(input a, b, c, s0, s1, output f);\n",
        "  // implementação funcional de referência:\n",
        "  assign f = s0 ? c : (s1 ? b : a);\n",
        "endmodule\n",
        "\n",
        "module tb_mux3;\n",
        "  reg a, b, c, s0, s1;\n",
        "  wire ff, fe;\n",
        "  integer i;\n",
        "\n",
        "  mux3f dutf(a, b, c, s0, s1, ff);\n",
        "  mux3e dute(a, b, c, s0, s1, fe);\n",
        "\n",
        "  initial\n",
        "  begin\n",
        "    $dumpvars(1);\n",
        "    for (i=0; i<32; i=i+1)\n",
        "    begin\n",
        "       a = i[0];\n",
        "       b = i[1];\n",
        "       c = i[2];\n",
        "      s1 = i[3];\n",
        "      s0 = i[4];\n",
        "      #5;\n",
        "    end\n",
        "  end\n",
        "endmodule"
      ]
    },
    {
      "cell_type": "markdown",
      "metadata": {
        "id": "FSCu_lu8QURK"
      },
      "source": [
        "## Conversores de código\n",
        "\n",
        "Também estão entre os circuitos combinacionais mais conhecidos os codificadores e decodificadores, chamados genericamente de conversores de código.\n",
        "\n",
        "### Decodificador\n",
        "\n",
        "Vamos começar com um decodificador simples, que recebe uma entrada codificada em 2 bits e a decodifica, ativando uma única saída ($y$), dependendo do código na entrada ($w$), conforme a tabela a seguir:\n",
        "\n",
        "|$w_1$|$w_0$||$y_3$|$y_2$|$y_1$|$y_0$|\n",
        "|-----|-----||-----|-----|-----|-----|\n",
        "| 0 | 0 || 0 | 0 | 0 | 1 |\n",
        "| 0 | 1 || 0 | 0 | 1 | 0 |\n",
        "| 1 | 0 || 0 | 1 | 0 | 0 |\n",
        "| 1 | 1 || 1 | 0 | 0 | 0 |\n",
        "\n",
        "Em sua implementação mais direta, podemos extrair a expressão correspondente a cada saída $y$ a partir das entradas $w$:\n"
      ]
    },
    {
      "cell_type": "code",
      "execution_count": null,
      "metadata": {
        "id": "6axMsNDDUEVu"
      },
      "outputs": [],
      "source": [
        "%%print_verilog -n dec2to4.v\n",
        "\n",
        "module dec2to4(\n",
        "  input w1, w0,\n",
        "  output y3, y2, y1, y0);\n",
        "  assign y0 = ~w1 & ~w0;\n",
        "  assign y1 = ~w1 &  w0;\n",
        "  assign y2 =  w1 & ~w0;\n",
        "  assign y3 =  w1 &  w0;\n",
        "endmodule"
      ]
    },
    {
      "cell_type": "code",
      "execution_count": null,
      "metadata": {
        "id": "r6Labb6IWXmJ"
      },
      "outputs": [],
      "source": [
        "#@title\n",
        "%%wavedrom\n",
        "`include \"dec2to4.v\"\n",
        "\n",
        "module tb_dec2to4;\n",
        "  reg w1, w0;\n",
        "  wire y3, y2, y1, y0;\n",
        "\n",
        "  dec2to4 uut(w1, w0, y3, y2, y1, y0);\n",
        "\n",
        "  initial begin\n",
        "    $dumpvars(1);\n",
        "       w1 = 0; w0 = 0;\n",
        "    #5 w1 = 0; w0 = 1;\n",
        "    #5 w1 = 1; w0 = 0;\n",
        "    #5 w1 = 1; w0 = 1;\n",
        "    #5 ;\n",
        "  end\n",
        "endmodule"
      ]
    },
    {
      "cell_type": "markdown",
      "metadata": {
        "id": "f_eTfVtN272R"
      },
      "source": [
        "Note que neste decodificador há sempre uma saída habilitada, pois todas as combinações de entrada são usadas. Podemos usar um sinal de habilita *(**En**able)* para que a saída só seja ativada enquanto ele estiver permitindo. Para isso, vamos usar um comando `case` que por sua vez só pode ser usado dentro de um bloco `always`. A lista que segue o início do bloco `@(W, En)` é chamada lista sensitiva e, como inclui todas as entradas, ainda gera um circuito combinacional. Usamos o operador de concatenação `{En,W}` para comparar as entradas juntas e incluimos a opção `default` que vai abranger todas as entradas em que o sinal habilita é falso. Note ainda que não precisamos usar um bloco `begin/end` no comando `always` já que ele só possui um único comando `case` que forma um bloco até o `endcase`.\n",
        "\n",
        "A especificação comportamental é muito útil, mas devemos tomar cuidado com espeficicações incompletas que podem resultar em hardware completamente diferente do esperado. Por exemplo, experimente remover a opção `default` do `case` (linha 14) e observe o circuito gerado. A ferramente precisa introduzir elementos de memória (que veremos a seguir) para manter a saída anterior quando a entrada não é contemplada no `case`."
      ]
    },
    {
      "cell_type": "code",
      "execution_count": null,
      "metadata": {
        "id": "Uz7bMM9vFGWt"
      },
      "outputs": [],
      "source": [
        "%%print_verilog -n dec2to4en.v\n",
        "\n",
        "module dec2to4en (W, En, Y);\n",
        "\tinput [1:0] W;\n",
        "\tinput En;\n",
        "\toutput reg [0:3] Y;\n",
        "\n",
        "\talways @(W, En)\n",
        "\t\tcase ({En,W})\n",
        "\t\t\t3'b100: Y = 4'b1000;\n",
        "\t\t\t3'b101: Y = 4'b0100;\n",
        "\t\t\t3'b110: Y = 4'b0010;\n",
        "\t\t\t3'b111: Y = 4'b0001;\n",
        "\t\t\tdefault: Y = 4'b0000;\n",
        "\t\tendcase\n",
        "endmodule"
      ]
    },
    {
      "cell_type": "markdown",
      "metadata": {
        "id": "vVkD5ycNqfii"
      },
      "source": [
        "Para termos uma idéia melhor do circuito resultante, especificamos ele na forma funcional:"
      ]
    },
    {
      "cell_type": "code",
      "execution_count": null,
      "metadata": {
        "id": "scSFhR7amqBF"
      },
      "outputs": [],
      "source": [
        "%%print_verilog\n",
        "\n",
        "module dec2to4enW (\n",
        "\tinput w1, w0, En,\n",
        "\toutput y3, y2, y1, y0);\n",
        "\n",
        "  assign y0 = ~w1 & ~w0 & En;\n",
        "  assign y1 = ~w1 &  w0 & En;\n",
        "  assign y2 =  w1 & ~w0 & En;\n",
        "  assign y3 =  w1 &  w0 & En;\n",
        "endmodule"
      ]
    },
    {
      "cell_type": "markdown",
      "metadata": {
        "id": "mLPo1rpQ7Rvt"
      },
      "source": [
        "\n",
        "\n",
        " O circuito resultante parece bem mais complexo do que o anterior, mas as ferramentas de síntese são capazes de simplificá-lo internamente, tornando-o muito parecido com o anterior. A tabela a seguir demonstra o seu funcionamento:\n",
        "\n",
        " En| w0| w1|| y3| y2| y1| y0\n",
        ":-:|:-:|:-:||:-:|:-:|:-:|:-:\n",
        " 0 | x | x || 0 | 0 | 0 | 0\n",
        " 1 | 0 | 0 || 0 | 0 | 0 | 1\n",
        " 1 | 0 | 1 || 0 | 0 | 1 | 0\n",
        " 1 | 1 | 0 || 0 | 1 | 0 | 0\n",
        " 1 | 1 | 1 || 1 | 0 | 0 | 0\n",
        "\n",
        "Vejamos sua simulação usando usando usando barramentos:"
      ]
    },
    {
      "cell_type": "code",
      "execution_count": null,
      "metadata": {
        "id": "RJchfRp4YSQ4"
      },
      "outputs": [],
      "source": [
        "%%wavedrom\n",
        "`include \"dec2to4en.v\"\n",
        "\n",
        "module tb_dec2to4en;\n",
        "\treg w1, w0, En;\n",
        "\twire y3, y2, y1, y0;\n",
        "\n",
        "  dec2to4en dut({w1,w0}, En, {y3, y2, y1, y0});\n",
        "\n",
        "  initial begin\n",
        "    $dumpvars(0);\n",
        "       En = 0;\n",
        "       w1 = 0; w0 = 0;\n",
        "    #5 w1 = 0; w0 = 1;\n",
        "    #5 w1 = 1; w0 = 0;\n",
        "    #5 w1 = 1; w0 = 1;\n",
        "    #5 En = 1;\n",
        "       w1 = 0; w0 = 0;\n",
        "    #5 w1 = 0; w0 = 1;\n",
        "    #5 w1 = 1; w0 = 0;\n",
        "    #5 w1 = 1; w0 = 1;\n",
        "    #5;\n",
        "  end\n",
        "endmodule"
      ]
    },
    {
      "cell_type": "markdown",
      "metadata": {
        "id": "TNZE0B8bq6ZW"
      },
      "source": [
        " <h3>Codificador</h3>\n",
        "\n",
        " Um codificador faz exatamente o contrário de um decodificador 🤓, mas deixamos ele para depois porque há uma dificuldade adicional em seu projeto. Uma prioridade entre as entradas deve ser estabelecida, uma vez que cada uma delas aciona um código na saída.\n",
        "\n",
        " Na implementação a seguir estabelecemos os bits mais significativos como prioritários. Para isso, usamos o comando `casex`, capaz de fazer comparações com *don't cares*. Quando o bit mais significativo é `1`, não importa o valor dos demais e o código retornado é o mais alto. No caso seguinte ele é `0`, o bit seguinte é `1` e os demais não importam, assim fazemos sucessivamente até o último. Note que aqui também é necessário incluir um `default` para o caso de nenhum bit de entrada ser apresentado. Usamos uma saída `valid_data` para indicar que ao menos uma entrada foi apresentada, já que o caso `default` deixa a ferramenta escolher livremente a saída `code` no caso contrário."
      ]
    },
    {
      "cell_type": "code",
      "execution_count": null,
      "metadata": {
        "id": "FLhmW6KI8rPo"
      },
      "outputs": [],
      "source": [
        "%%print_verilog -n priority_encoder.v\n",
        "\n",
        "module priority_encoder (\n",
        "  input [3:0] data,\n",
        "  output reg [1:0] code,\n",
        "  output valid_data);\n",
        "\n",
        "  always @(data)\n",
        "    casex (data)\n",
        "      4'b1xxx : code=3;\n",
        "      4'b01xx : code=2;\n",
        "      4'b001x : code=1;\n",
        "      4'b0001 : code=0;\n",
        "      default : code=2'bx;\n",
        "    endcase\n",
        "  assign valid_data = |data; // Operador de redução\n",
        "endmodule"
      ]
    },
    {
      "cell_type": "markdown",
      "metadata": {
        "id": "jrRv-XJI8K3y"
      },
      "source": [
        "No teste abaixo instanciamos nosso codificador e o testamos com todas as entradas possíveis para ter certeza de que a prioridade funciona. Apesar da especificação comportamental ser mais fácil de escrever e compreender, ela pode gerar circuitos inesperados caso não se especifique corretamente o hardware desejado. Além disso, a expressão para implementação funcional não é difícil de ser obtida, veja na linha 11 do nosso teste. Note que a única diferença nas saídas é o X para a entrada 0."
      ]
    },
    {
      "cell_type": "code",
      "execution_count": null,
      "metadata": {
        "id": "jJS5b4df7mmh"
      },
      "outputs": [],
      "source": [
        "%%wavedrom\n",
        "`include \"priority_encoder.v\"\n",
        "\n",
        "module tb_priority_encoder;\n",
        "  reg [3:0] data;\n",
        "  wire [1:0] behav, funct;\n",
        "  wire valid;\n",
        "  integer i;\n",
        "\n",
        "  priority_encoder dut(data, behav, valid);\n",
        "  assign funct = {data[3] | data[2], ~data[3] & ~data[2] & data[1] | data[3]};\n",
        "\n",
        "  initial\n",
        "  begin\n",
        "    $dumpvars(1);\n",
        "    for (i=0; i<16; i=i+1)\n",
        "    begin\n",
        "      data = i; #5;\n",
        "    end\n",
        "  end\n",
        "endmodule"
      ]
    },
    {
      "cell_type": "markdown",
      "metadata": {
        "id": "vFGkl0UYbnMT"
      },
      "source": [
        "Abaixo um exemplo com uma implementação funcional de um codificador de 8 bits para 3:"
      ]
    },
    {
      "cell_type": "code",
      "execution_count": null,
      "metadata": {
        "id": "zb8GkF9PcfVG"
      },
      "outputs": [],
      "source": [
        "%%print_verilog\n",
        "module encoder (\n",
        "\t\tinput  [7:0] d, // definir as entradas\n",
        "    output [2:0] q);  // definir as saidas\n",
        "\n",
        "    assign q[0] = (~d[6] & (~d[4] & ~d[2] & d[1] | ~d[4] & d[3] | d[5])| d[7]);\n",
        "    assign q[1] = (~d[5] & ~d[4] & (d[2] | d[3]) | d[6] |d[7]);\n",
        "    assign q[2] = (d[4] | d[5] | d[6] | d[7]);\n",
        "endmodule"
      ]
    },
    {
      "cell_type": "markdown",
      "metadata": {
        "id": "Gq44KiQPcmFh"
      },
      "source": [
        "Abaixo a simulação do circuito acima:"
      ]
    },
    {
      "cell_type": "code",
      "execution_count": null,
      "metadata": {
        "cellView": "form",
        "id": "5P2h_LbacrFB"
      },
      "outputs": [],
      "source": [
        "#@title\n",
        "\n",
        "head = \"\"\"\n",
        "module encoder(\n",
        "\t\tinput  [7:0]d, // definir as entradas\n",
        "    output [2:0] q  // definir as saidas\n",
        "    );\n",
        "assign q[0]=(~d[6] & (~d[4] & ~d[2] & d[1] | ~d[4] & d[3] | d[5])| d[7]);\n",
        "assign q[1]=(~d[5] & ~d[4] & (d[2] | d[3]) | d[6] |d[7]);\n",
        "assign q[2]=(d[4] | d[5] | d[6] | d[7]);\n",
        "endmodule\n",
        "\n",
        "\n",
        "\n",
        "\n",
        "module logic_testbench();  // Esta parte do codigo é para gerar os 16 valores\n",
        "reg [7:0] A;\n",
        "wire [2:0] z;\n",
        "integer k;\n",
        "\tencoder p(A,z);\n",
        "\tinitial begin\n",
        "\t\t$display(\"A 76543210 | z \");\n",
        "\t\t$monitor(\"  %8b | %d\", A,  z);\n",
        "\"\"\"\n",
        "\n",
        "\n",
        "tail =\"\"\"\n",
        "    #1;\n",
        "\t\t$finish;\n",
        "\tend\n",
        "\n",
        "endmodule\n",
        "\"\"\"\n",
        "import ipywidgets as widgets\n",
        "from IPython.display import display, clear_output\n",
        "from ipywidgets import interact\n",
        "import subprocess\n",
        "\n",
        "def geraverilog(A7,A6,A5,A4,A3,A2,A1,A0):\n",
        "    # Função que recebe os valores dos sliders e faz algo com eles\n",
        "    clear_output()  # Limpa a saída anterior\n",
        "    # Adicione aqui a lógica para gerar o Verilog\n",
        "    f = open(\"test_comp.v\",\"w\")\n",
        "    f.write(head)\n",
        "    to_string = lambda value: \"1\" if value else \"0\"\n",
        "    s = \"A[7] = \"+to_string(A7)+\"; \"\n",
        "    s += \"A[6] = \"+to_string(A6)+\"; \"\n",
        "    s += \"A[5] = \"+to_string(A5)+\"; \"\n",
        "    s += \"A[4] = \"+to_string(A4)+\";\"\n",
        "    s += \"A[3] = \"+to_string(A3)+\"; \"\n",
        "    s += \"A[2] = \"+to_string(A2)+\"; \"\n",
        "    s += \"A[1] = \"+to_string(A1)+\"; \"\n",
        "    s += \"A[0] = \"+to_string(A0)+\";\\n\"\n",
        "    f.write(s)\n",
        "    f.write(tail)\n",
        "    f.close()\n",
        "    command = f\"iverilog test_comp.v\"\n",
        "    output = subprocess.check_output(command, shell=True)\n",
        "    command = f\"./a.out\"\n",
        "    output = subprocess.check_output(command, shell=True)\n",
        "    output_lines = output.decode('utf-8').split('\\n')\n",
        "    for line in output_lines:\n",
        "      print(line)\n",
        "\n",
        "# Criação dos sliders\n",
        "a7 = widgets.Checkbox(description='A7:', value=False)\n",
        "a6 = widgets.Checkbox(description='A6:', value=False)\n",
        "a5 = widgets.Checkbox(description='A5:', value=False)\n",
        "a4 = widgets.Checkbox(description='A4:', value=False)\n",
        "a3 = widgets.Checkbox(description='A3:', value=False)\n",
        "a2 = widgets.Checkbox(description='A2:', value=False)\n",
        "a1 = widgets.Checkbox(description='A1:', value=False)\n",
        "a0 = widgets.Checkbox(description='A0:', value=False)\n",
        "\n",
        "# Vincula a função geraverilog ao interact\n",
        "dummy = interact(geraverilog, A7=a7,A6=a6,A5=a5,A4=a4,A3=a3,A2=a2,A1=a1,A0=a0)\n",
        "\n"
      ]
    },
    {
      "cell_type": "markdown",
      "metadata": {
        "id": "IS7RPaGF_yqC"
      },
      "source": [
        "Codificadores e decodificadores são os conversores de código mais comuns, mas existem muitos outros possíveis de serem construidos de acordo com as necessidades de cada sistema digital. Você certamente já viu um equipamento (antigo?) com um display de sete segmentos como o da figura a seguir (execute a célula abaixo e deslize o comando para ver os digitos todos):"
      ]
    },
    {
      "cell_type": "code",
      "execution_count": null,
      "metadata": {
        "cellView": "form",
        "id": "Hs-EMsEuAaIs"
      },
      "outputs": [],
      "source": [
        "#@title\n",
        "import schemdraw\n",
        "import ipywidgets as widgets\n",
        "from ipywidgets import interact\n",
        "from schemdraw import elements as elm\n",
        "\n",
        "def geradig(A):\n",
        "  h=hex(A)[2]\n",
        "  print('Hexadecimal:', h)\n",
        "  display(elm.SevenSegment(segcolor='green', tilt=0, digit=h))\n",
        "\n",
        "slider_A = widgets.IntSlider(min=0, max=15, description='Decimal:')\n",
        "dummy = interact(geradig, A=slider_A)"
      ]
    },
    {
      "cell_type": "markdown",
      "metadata": {
        "id": "yESAw-x7Pby4"
      },
      "source": [
        "Cada dígito deste componente possui um segmento de LED independente que pode estar ou não aceso de acordo com um código de entrada. Mais uma vez vamos usar o comando `case`, pois facilita a construção do circuito, uma vez que teríamos que calcular as expressões para cada um dos sete segmentos separadamente. A implementação a seguir só funciona para os dígitos de 0 a 9, mas você pode completá-la para funcionar com hexadecimal (adicionando A, b, C, d, E, F). Depois, é só executar as células abaixo para gravar o arquivo e simular novamente."
      ]
    },
    {
      "cell_type": "code",
      "execution_count": null,
      "metadata": {
        "id": "8q-g_lsZQVnB"
      },
      "outputs": [],
      "source": [
        "%%verilog -n disp7seg.v\n",
        "module disp7seg (\n",
        "  input [3:0] dig,\n",
        "  output reg [6:0] segs);\n",
        "\n",
        "  always@(dig)\n",
        "    case (dig)   // abcdefg\n",
        "      0 : segs = 7'b1111110;\n",
        "      1 : segs = 7'b0110000;\n",
        "      2 : segs = 7'b1101101;\n",
        "      3 : segs = 7'b1111001;\n",
        "      4 : segs = 7'b0110011;\n",
        "      5 : segs = 7'b1011011;\n",
        "      6 : segs = 7'b1011111;\n",
        "      7 : segs = 7'b1110000;\n",
        "      8 : segs = 7'b1111111;\n",
        "      9 : segs = 7'b1111011;\n",
        "      // complete para os dígito de A..F\n",
        "      default : segs = 7'b0000000;\n",
        "    endcase\n",
        "endmodule"
      ]
    },
    {
      "cell_type": "code",
      "execution_count": null,
      "metadata": {
        "id": "TgDXRmSg4JfX"
      },
      "outputs": [],
      "source": [
        "%%wavedrom\n",
        "`include \"disp7seg.v\"\n",
        "\n",
        "module tb_disp7seg;\n",
        "  reg [3:0] dig;\n",
        "  wire a,b,c,d,e,f,g;\n",
        "  integer i;\n",
        "\n",
        "  disp7seg dut(dig, {a,b,c,d,e,f,g});\n",
        "\n",
        "  initial\n",
        "  begin\n",
        "    $dumpvars(0);\n",
        "    for (i=0; i<16; i=i+1)\n",
        "    begin\n",
        "      dig = i; #5;\n",
        "    end\n",
        "  end\n",
        "endmodule"
      ]
    },
    {
      "cell_type": "markdown",
      "metadata": {
        "id": "_XjjNInxZ2vY"
      },
      "source": [
        "O código abaixo executa o decodificador em Verilog e mostra uma animação com caracteres ASCII em Verilog que emula a saída do display de 7 segmentos. Ela só foi emplementada até o dígito 9, algumas células atrás, mas você pode completar a implementação e executar novamente para ver se funciona."
      ]
    },
    {
      "cell_type": "code",
      "execution_count": null,
      "metadata": {
        "cellView": "form",
        "id": "IMBNbkcR_ayP"
      },
      "outputs": [],
      "source": [
        "#@title\n",
        "head = \"\"\"`include \"disp7seg.v\"\n",
        "\n",
        "module logic_testbench();\n",
        "reg [3:0] A;\n",
        "wire [6:0] D;\n",
        "integer k;\n",
        "\tdisp7seg M(A,D);\n",
        "\tinitial begin\n",
        "\t\t$display(\"A3A2A1A0 | abcdefg\");\n",
        "\t\t$monitor(\"%b %b %b %b  | %7b\", A[3],A[2],A[1],A[0], D);\n",
        "\"\"\"\n",
        "\n",
        "\n",
        "tail =\"\"\"\n",
        "    #1;\n",
        "    if (D[6]== 1'b1) $display(\" _ \");\n",
        "    if (D[1]== 1'b1 && D[5]== 1'b1 && D[0]== 1'b1) $display(\"|_|\");\n",
        "    else if (D[1]== 1'b1 && D[5]== 1'b1) $display(\"| |\");\n",
        "    else if (D[1]== 1'b1 && D[0]== 1'b1) $display(\"|_\");\n",
        "    else if (D[5]== 1'b1 && D[0]== 1'b1) $display(\" _|\");\n",
        "    else if (D[5]== 1'b1 ) $display(\"  |\");\n",
        "    else if (D[1]== 1'b1 ) $display(\"|\");\n",
        "    else if (D[0]== 1'b1 ) $display(\" _ \");\n",
        "    if (D[2]== 1'b1 && D[4]== 1'b1 && D[3]== 1'b1) $display(\"|_|\");\n",
        "    else if (D[2]== 1'b1 && D[4]== 1'b1) $display(\"| |\");\n",
        "    else if (D[2]== 1'b1 && D[3]== 1'b1) $display(\"|_\");\n",
        "    else if (D[4]== 1'b1 && D[3]== 1'b1) $display(\" _|\");\n",
        "    else if (D[4]== 1'b1 ) $display(\"  |\");\n",
        "    else if (D[2]== 1'b1 ) $display(\"|\");\n",
        "    else if (D[3]== 1'b1 ) $display(\" _ \");\n",
        "\n",
        "\t\t$finish;\n",
        "\tend\n",
        "\n",
        "endmodule\n",
        "\"\"\"\n",
        "import ipywidgets as widgets\n",
        "from IPython.display import display, clear_output\n",
        "from ipywidgets import interact\n",
        "import subprocess\n",
        "\n",
        "def geraverilog(A):\n",
        "    # Função que recebe os valores dos sliders e faz algo com eles\n",
        "    clear_output()  # Limpa a saída anterior\n",
        "    # Adicione aqui a lógica para gerar o Verilog\n",
        "    h=hex(A)[2]\n",
        "    print('Hexadecimal:', h)\n",
        "    f = open(\"test_comp.v\",\"w\")\n",
        "    f.write(head)\n",
        "    s = \"A = \"+str(A)+\"; \\n\"\n",
        "    f.write(s)\n",
        "    f.write(tail)\n",
        "    f.close()\n",
        "    command = f\"iverilog test_comp.v\"\n",
        "    output = subprocess.check_output(command, shell=True)\n",
        "    command = f\"./a.out\"\n",
        "    output = subprocess.check_output(command, shell=True)\n",
        "    output_lines = output.decode('utf-8').split('\\n')\n",
        "    for line in output_lines:\n",
        "      print(line)\n",
        "    e = elm.SevenSegment(segcolor='green', digit=h, tilt=0)\n",
        "    display(e)\n",
        "\n",
        "# Criação dos sliders\n",
        "slider_A = widgets.IntSlider(min=0, max=15, description='A')\n",
        "\n",
        "# Vincula a função geraverilog ao interact\n",
        "dummy = interact(geraverilog, A=slider_A)\n",
        "\n",
        "\n"
      ]
    },
    {
      "cell_type": "markdown",
      "metadata": {
        "id": "aYQNSnNK8-Gv"
      },
      "source": [
        "\n",
        "\n",
        "## Comparadores\n",
        "\n",
        "Iremos fazer a especificação do módulo básico com tabela verdade, minimizar com mapas de Karnaugh e Don't Care.\n",
        "\n",
        "* Comparador de n bits Esquerda para Direita\n",
        "* Comparador de n bits Direita para Esquerda\n",
        "* Comparador de n bits em Àrvore\n",
        "\n",
        "\n",
        "\n",
        "## [De]multiplexadores"
      ]
    },
    {
      "cell_type": "code",
      "execution_count": null,
      "metadata": {
        "id": "lFym83xtWslz"
      },
      "outputs": [],
      "source": [
        "%%print_verilog\n",
        "\n",
        "module comparador(\n",
        "    input [3:0] a, b,\n",
        "    output AeqB, AltB, AgtB);\n",
        "\n",
        "    assign AeqB = a == b;\n",
        "    assign AgtB = a > b;\n",
        "    assign AltB = AeqB ~| AgtB; // a < b;\n",
        "endmodule"
      ]
    },
    {
      "cell_type": "markdown",
      "metadata": {
        "id": "bOaTqDI_al1I"
      },
      "source": [
        "## Unidade Lógica e Aritmética\n",
        "\n",
        "Para termos uma noção de como a linguagem Verilog pode ser produtiva na especificação de hardware, vamos projetar uma Unidade Lógica e Aritmética (ULA) compatível com o circuito 74F381, bastante conhecido. Ela tem entradas e saída de 4 bits e 3 operações, de acordo com a tabela a seguir:\n",
        "\n",
        "Operação|Op[2:0]|Saída\n",
        ":-----|:---:|:---:\n",
        "Clear | 000|0000\n",
        "B-A   | 001|B - A\n",
        "A-B   | 010|A - B\n",
        "ADD   | 011|A + B\n",
        "XOR   | 100|A ^ B\n",
        "OR    | 101|A \\| B\n",
        "AND   | 110|A & B\n",
        "Preset| 111|1111"
      ]
    },
    {
      "cell_type": "code",
      "execution_count": null,
      "metadata": {
        "id": "3w-fCD3uapp2"
      },
      "outputs": [],
      "source": [
        "%%verilog -n alu.v\n",
        "// 74F381 ALU\n",
        "module alu (\n",
        "  input [2:0] op,\n",
        "  input [3:0] A, B,\n",
        "  output reg [3:0] S);\n",
        "\n",
        "  always @(op or A or B)\n",
        "    case (op)\n",
        "      0: S = 4'b0000;\n",
        "      1: S = B - A;\n",
        "      2: S = A - B;\n",
        "      3: S = A + B;\n",
        "      4: S = A ^ B;\n",
        "      5: S = A | B;\n",
        "      6: S = A & B;\n",
        "      7: S = 4'b1111;\n",
        "  endcase\n",
        "endmodule"
      ]
    },
    {
      "cell_type": "markdown",
      "source": [
        "Vamos usar novamente um arquivo de vetor de testes, mas agora em hexadecimal. Nele temos um único caso de teste para cada operação da nossa ULA e a ordem das variáveis no arquivo é a seguinte: `A_op_B_S`:"
      ],
      "metadata": {
        "id": "8AXBAPw1w8NW"
      }
    },
    {
      "cell_type": "code",
      "source": [
        "%%writefile values.tv\n",
        "x_0_x_0\n",
        "2_1_7_5\n",
        "5_2_2_3\n",
        "2_3_3_5\n",
        "f_4_a_5\n",
        "4_5_1_5\n",
        "a_6_7_2\n",
        "x_7_x_f"
      ],
      "metadata": {
        "id": "U2a-Ae34kf_2"
      },
      "execution_count": null,
      "outputs": []
    },
    {
      "cell_type": "markdown",
      "metadata": {
        "id": "xDKq5t6DJvay"
      },
      "source": [
        "Vejamos algumas particularidades deste novo estilo de ***test bench***:\n",
        "  1. Nosso arranjo de vetores foi declarado com mais linhas do que o arquivo (linha 9);\n",
        "  1. Apesar de se tratar de um circuito combinacional, temos um relógio (`clk`) para sequenciar os testes, que gera uma onda quadrada (linha 22);\n",
        "  1. A cada subida deste `clk` alimentamos as entradas do circuito e a saída esperada;\n",
        "  1. Na descida do `clk` verificamos se a saída obtida confere com a esperada (linha 35);\n",
        "  1. Incrementamos a variável de iteração `i` dos testes, verificamos se chegamos ao fim, ou seja, se lemos um valor indefinido (`x`) e finalizamos o teste (linhas 37-39).\n",
        "\n",
        "Observe sua simulação realizando todas as operações. Você é capaz de interpretar os valores informados e obtidos?"
      ]
    },
    {
      "cell_type": "code",
      "execution_count": null,
      "metadata": {
        "id": "pWLn8TbM6-qJ"
      },
      "outputs": [],
      "source": [
        "#@title\n",
        "%%wavedrom\n",
        "`include \"alu.v\"\n",
        "\n",
        "module tb_alu;\n",
        "  reg [2:0] op;\n",
        "  reg [3:0] A, B, E;\n",
        "  wire [3:0] S;\n",
        "  reg [15:0] values [0:69];\n",
        "  reg clk;\n",
        "  integer i;\n",
        "\n",
        "  alu dut(op, A, B, S);\n",
        "\n",
        "  initial\n",
        "  begin\n",
        "    $monitor(\"%h_%3b_%h_%h\", A, op, B, S);\n",
        "    $dumpvars(1);\n",
        "    $readmemh(\"values.tv\", values);\n",
        "    i = 0;\n",
        "    clk = 1'b0;\n",
        "    forever #5 clk = ~clk;\n",
        "  end\n",
        "\n",
        "  always@(posedge clk)\n",
        "  begin\n",
        "     A = values[i][15:12];\n",
        "    op = values[i][10: 8];\n",
        "     B = values[i][ 7: 4];\n",
        "     E = values[i][ 3: 0];\n",
        "  end\n",
        "\n",
        "  always@(negedge clk)\n",
        "  begin\n",
        "    if (E !== S)\n",
        "      $display(\"Erro no vetor %0d, operação %3b, esperado %b, obtido %b!\", i, op, S, E);\n",
        "    i = i + 1;\n",
        "    if (values[i][0]===1'bx)\n",
        "      $finish;\n",
        "  end\n",
        "endmodule"
      ]
    },
    {
      "cell_type": "markdown",
      "source": [
        "Experimente colocar novos casos de teste no arquivo, salve-o e execute novamente a simulação para ver se compreendeu."
      ],
      "metadata": {
        "id": "CTBuEc9k28td"
      }
    },
    {
      "cell_type": "markdown",
      "metadata": {
        "id": "BYKqhlL8mvGx"
      },
      "source": [
        "# Elementos de memória\n",
        "\n",
        "Até agora, todos os circuitos que abordamos podem ser chamados de combinacionais. Isso porque suas saídas só dependem da combinação das entradas. Para dizer de outra forma, sempre que apresentamos a eles uma mesma entrada, ele irá resultar nas mesmas saídas.\n",
        "\n",
        "A partir de agora vamos introduzir elementos de memória capazes de armazenar um estado interno no circuito. Isso faz com que ele não dependa apenas das entradas, mas também da ordem em que foram modificadas ao longo do tempo. Isso é fundamental para os circuitos digitais, já que há cálculos complexos que precisam ser divididos em partes para serem realizados.\n",
        "\n",
        "Os circuitos que contém estes elementos são chamados **circuitos sequenciais**, pois suas saídas dependem da sequência das entradas. As simulações interativas costumam ajudar muito na compreensão destes, então recomendamos o uso de simuladores como o [DigitalJS](https://github.com/tilk/digitaljs) que está [disponível online](https://digitaljs.tilk.eu) e também como uma [extensão do VS Code](https://marketplace.visualstudio.com/items?itemName=yuyichao.digitaljs). Alguns exemplos interessantes de serem simulados podem ajudar na compreensão e estão disponíveis [neste link](https://github.dev/menotti/ld/digitaljs/).\n",
        "\n"
      ]
    },
    {
      "cell_type": "markdown",
      "metadata": {
        "id": "sVmnBw7bEpif"
      },
      "source": [
        "## Latch\n",
        "\n",
        "O elemento de memória mais básico de ser contruído é o _latch_. Observe a tabela a seguir e o circuito que a implementa:\n",
        "\n",
        "$S$|$R$|$Q$|$\\overline{Q}$\n",
        "-|-|:-:|:-:\n",
        "0|0|$Q$(t-1)|$\\overline{Q}$(t-1)\n",
        "0|1|0|1\n",
        "1|0|1|0\n",
        "1|1|0|0\n",
        "\n"
      ]
    },
    {
      "cell_type": "code",
      "execution_count": null,
      "metadata": {
        "cellView": "form",
        "id": "LG_hhukOBE57"
      },
      "outputs": [],
      "source": [
        "#@title\n",
        "import schemdraw\n",
        "from schemdraw import logic\n",
        "\n",
        "with schemdraw.Drawing() as d:\n",
        "    d += (g1 := logic.Nor())\n",
        "    d.move_from(g1.in1, dy=-2.5)\n",
        "    d += (g2 := logic.Nor().anchor('in1'))\n",
        "    d += (g1out := logic.Line().right(.25).at(g1.out))\n",
        "    d += logic.Wire('N', k=.5).at(g2.in1).to(g1out.end).dot()\n",
        "    d += (g2out := logic.Line().right(.25).at(g2.out))\n",
        "    d += logic.Wire('N', k=.5).at(g1.in2).to(g2out.end).dot()\n",
        "    d += logic.Line().at(g1.in1).left(.5).label('R', 'left')\n",
        "    d += logic.Line().at(g2.in2).left(.5).label('S', 'left')\n",
        "    d += logic.Line().at(g1.out).right(.75).label('Q', 'right')\n",
        "    d += logic.Line().at(g2.out).right(.75).label('$\\overline{Q}$', 'right')\n"
      ]
    },
    {
      "cell_type": "markdown",
      "metadata": {
        "id": "uE3IMIBDEtXN"
      },
      "source": [
        "Neste circuito, usamos a entrada $S$ para armazenar 1 (*set*) e a entrada $R$ para armazenar 0 (*reset*), conforme as linhas centrais da tabela. A porta $Q$ apresenta o valor armazenado e a porta $\\overline{Q}$ o seu inverso. Quando nenhuma das entradas é acionada, os valores de $Q$ e $\\overline{Q}$ são mantidos. Quando as duas entradas são acionadas ao mesmo tempo, temos um estado inconsistente e as saídas se tornam ambas zero. Se as removemos ao mesmo tempo, temos uma condição de corrida que vai resultar em apenas uma das saídas zero. Observe na animação abaixo que quando $S$ e $R$ não estão ativados $Q$ guarda o último deles que foi acionado.\n",
        "\n",
        "![](https://github.com/menotti/ld/blob/main/figs/latch.gif?raw=true)"
      ]
    },
    {
      "cell_type": "markdown",
      "metadata": {
        "id": "kE9UClTq-E42"
      },
      "source": [
        "Apesar de ser capaz de armazenar um bit, o *latch* acima não é muito útil. Vamos adicionar nele uma porta chamada ***enable***, para que possamos proteger ele de alterações quando esta porta não estiver ativa. Para isso, basta fazer um AND lógico desta entrada com as outras duas, conforme o circuito a seguir.  "
      ]
    },
    {
      "cell_type": "code",
      "execution_count": null,
      "metadata": {
        "id": "a_467oBKuloY"
      },
      "outputs": [],
      "source": [
        "%%print_verilog -n latchSR.v\n",
        "\n",
        "module latchSR(input enable, S, R, output Q, nQ);\n",
        "  and (cS, S, enable);\n",
        "  and (cR, R, enable);\n",
        "  nor (Q, cR, nQ);\n",
        "  nor (nQ, cS, Q);\n",
        "endmodule"
      ]
    },
    {
      "cell_type": "markdown",
      "metadata": {
        "id": "q2nuLTQpCvkZ"
      },
      "source": [
        "Observe na simulação a seguir que $S$ e $R$ só têm efeito quando o sinal ***enable*** está ativo:"
      ]
    },
    {
      "cell_type": "code",
      "execution_count": null,
      "metadata": {
        "cellView": "form",
        "id": "N6ZA3095A0cG"
      },
      "outputs": [],
      "source": [
        "#@title\n",
        "%%wavedrom\n",
        "`include \"latchSR.v\"\n",
        "\n",
        "module tb_latchSR;\n",
        "\n",
        "  reg S, R, enable;\n",
        "  wire Q, nQ;\n",
        "\n",
        "  latchSR dut(S, R, enable, Q, nQ);\n",
        "\n",
        "  initial\n",
        "  begin\n",
        "    $dumpvars(1);\n",
        "    enable = 1;\n",
        "    #5 S = 0; R = 0;\n",
        "    #5 S = 1; R = 0;\n",
        "    #5 S = 0; R = 0;\n",
        "    #5 S = 0; R = 1;\n",
        "    #5 S = 0; R = 0;\n",
        "    enable = 0;\n",
        "    #5 S = 1; R = 0;\n",
        "    #5 S = 0; R = 0;\n",
        "    #5 S = 0; R = 1;\n",
        "    #5 S = 0; R = 0;\n",
        "    enable = 1;\n",
        "    #5 S = 1; R = 1;\n",
        "    #5;\n",
        "    enable = 0;\n",
        "  end\n",
        "endmodule"
      ]
    },
    {
      "cell_type": "markdown",
      "metadata": {
        "id": "nwzFQ1tMDhge"
      },
      "source": [
        "Isso não impede de fazermos $S$ e $R$ ativos ao mesmo tempo, levando a um estado inconsistente em que $Q$ = $\\overline{Q}$ = $0$. Veja esta condição no final da simulação, o estado seguinte não pode ser previsto, pois acontece uma condição de corrida quando o ***enable*** é desligado.\n",
        "\n",
        "Vamos aprimorar um pouco mais o nosso *latch*, incluindo uma porta $D$, fazendo ela acionar $S$ e sua negação acionar $R$. Assim, elas sempre terão valores contrários, mas estaremos sempre fazendo ***set*** ou ***reset***. Isso não será um problema, já que podemos bloquear as ações desabilitando o ***enable***."
      ]
    },
    {
      "cell_type": "code",
      "execution_count": null,
      "metadata": {
        "id": "8iR0f6_zFifs"
      },
      "outputs": [],
      "source": [
        "%%print_verilog\n",
        "\n",
        "module latchD(input enable, D, output Q, nQ);\n",
        "  and (cS, D, enable);\n",
        "  and (cR, ~D, enable);\n",
        "  nor (Q, cR, nQ);\n",
        "  nor (nQ, cS, Q);\n",
        "endmodule"
      ]
    },
    {
      "cell_type": "markdown",
      "metadata": {
        "id": "c1BEZ-ScIouM"
      },
      "source": [
        "Podemos também especificar um *latch* simples usando Verilog comportamental. O símbolo usado no bloco gerado pela ferramenta indica que a entrada $D$ é sensível ao nível de ***enable***."
      ]
    },
    {
      "cell_type": "code",
      "execution_count": null,
      "metadata": {
        "id": "clto76oEHd2Q"
      },
      "outputs": [],
      "source": [
        "%%print_verilog -n latchD.v\n",
        "\n",
        "module latchD(input enable, D, output reg Q);\n",
        "  always @(D or enable)\n",
        "    if (enable)\n",
        "      Q = D;\n",
        "endmodule"
      ]
    },
    {
      "cell_type": "markdown",
      "metadata": {
        "id": "ucOFlIxnJeJC"
      },
      "source": [
        "Observe sua simulação a seguir:"
      ]
    },
    {
      "cell_type": "code",
      "execution_count": null,
      "metadata": {
        "id": "W_YDIrKpGYFd"
      },
      "outputs": [],
      "source": [
        "#@title\n",
        "%%wavedrom\n",
        "`include \"latchD.v\"\n",
        "\n",
        "module tb_latchD;\n",
        "\n",
        "  reg D, enable;\n",
        "  wire Q;\n",
        "\n",
        "  latchD dut(enable, D, Q);\n",
        "\n",
        "  initial\n",
        "  begin\n",
        "    $dumpvars(1);\n",
        "    enable = 1;\n",
        "    #5 D = 0;\n",
        "    #5 D = 1;\n",
        "    #5 D = 0;\n",
        "    #5 D = 1;\n",
        "    #5;\n",
        "    enable = 0;\n",
        "    #5 D = 0;\n",
        "    #5 D = 1;\n",
        "    enable = 1;\n",
        "    #5 D = 0;\n",
        "    #5 D = 1;\n",
        "  end\n",
        "endmodule"
      ]
    },
    {
      "cell_type": "markdown",
      "metadata": {
        "id": "69DkR4rkBDHu"
      },
      "source": [
        "\n",
        "## Flip-flop\n",
        "\n",
        "Apesar dos *latches* serem capazes de armazenar valores em um circuito, eles podem causar condições de corrida indesejadas. Nos circuitos sequenciais, em geral, são usados *flip-flops*, circuitos sensíveis à borda ao invés do nível. Eles podem ser obtidos por dois *latches* em série, com os sinais ***enable*** invertidos. Eles são chamados mestre-escravo, pois quando o primeiro *latch* está habilitado (mestre) o segundo está desabilitado (escravo) e vice-versa. A combinação da figura a seguir torna o circuito sensível à borda de descida, pois neste exato momento o valor do mestre é transferido para o escravo."
      ]
    },
    {
      "cell_type": "code",
      "execution_count": null,
      "metadata": {
        "id": "wb8MQw2NLyaT"
      },
      "outputs": [],
      "source": [
        "%%print_verilog\n",
        "`include \"latchD.v\"\n",
        "\n",
        "module FFD(input D, clk, output Q);\n",
        "  latchD master(clk, D, iQ);\n",
        "  latchD slave(~clk, iQ, Q);\n",
        "endmodule"
      ]
    },
    {
      "cell_type": "markdown",
      "metadata": {
        "id": "Ajm9KLx-PaQU"
      },
      "source": [
        "A forma mais comum de especificar circuitos sequenciais em Verilog comportamental é fazendo as atribuições de valores dentro de blocos `always@(posedge clk)`. Note que a entrada $D$ não aparece na lista sensitiva do comando e que um símbolo > foi adicionado à porta ***clk***, indicando que o circuito é sensível à borda de subida (posedge) ou descida (negedge).  "
      ]
    },
    {
      "cell_type": "code",
      "execution_count": null,
      "metadata": {
        "id": "KkSZOXGFOOXP"
      },
      "outputs": [],
      "source": [
        "%%print_verilog -n FFD.v\n",
        "\n",
        "module FFD(input clk, D, output reg Q);\n",
        "  always@(posedge clk)\n",
        "    Q = D;\n",
        "endmodule"
      ]
    },
    {
      "cell_type": "markdown",
      "source": [
        "Veja sua simulação a seguir. Nós mudamos as entradas propositalmente nas bordas de descida, para que fique claro que ela só propaga para a saída na borda de subida. Mudar a entrada junto com a borda de subida pode tornar a simulação ambígua, mas é esperado que a entrada considerada seja a anterior."
      ],
      "metadata": {
        "id": "9qvvhSIwUlgT"
      }
    },
    {
      "cell_type": "code",
      "execution_count": null,
      "metadata": {
        "id": "ylHW135HMktK"
      },
      "outputs": [],
      "source": [
        "%%wavedrom\n",
        "`include \"FFD.v\"\n",
        "\n",
        "module tb_FFD;\n",
        "\n",
        "  reg D, clk;\n",
        "  wire Q;\n",
        "\n",
        "  FFD dut(clk, D, Q);\n",
        "\n",
        "  always\n",
        "  begin\n",
        "     clk = 0; #5 clk = 1; #5;\n",
        "  end\n",
        "\n",
        "  initial\n",
        "  begin\n",
        "    $dumpvars(1);\n",
        "    #10 D = 0;\n",
        "    #10 D = 1;\n",
        "    #10 D = 0;\n",
        "    #10 D = 1;\n",
        "    #10 D = 0;\n",
        "    #10 D = 1;\n",
        "    #10 D = 0;\n",
        "    #10 D = 1;\n",
        "    $finish;\n",
        "  end\n",
        "endmodule\n",
        "\n"
      ]
    },
    {
      "cell_type": "markdown",
      "metadata": {
        "id": "Ac0_17zjnF-V"
      },
      "source": [
        "# Circuitos sequênciais típicos\n",
        "\n",
        "Os flip-flops são a base de construção dos circuitos sequenciais e, em geral, uma especificação Verilog que gera *latches* é indesejada. Vejamos agora alguns circuitos sequências típicos e suas aplicações.\n",
        "\n"
      ]
    },
    {
      "cell_type": "markdown",
      "source": [
        "## Registradores\n",
        "\n",
        "Se um flip-flop pode armazenar um bit, um conjunto deles pode armazenar um byte, palavras, etc. Vejamos um implementação genérica, que pode ser instanciada com vários bits. Nesta especificação usamos um reset assincrono (`rst`), mas você pode torná-lo síncrono removendo ele da linha 8 e deixando apenas `posedge clk` (observe a diferença no circuito).\n"
      ],
      "metadata": {
        "id": "r_wAVKqVoTsV"
      }
    },
    {
      "cell_type": "code",
      "source": [
        "%%print_verilog -n regn.v\n",
        "\n",
        "module regn #(parameter width = 8) (\n",
        "  input clk, rst, en,\n",
        "  input [width-1:0] data_in,\n",
        "  output reg [width-1:0] data_out);\n",
        "\n",
        "  always@(posedge clk or posedge rst)\n",
        "    if (rst)\n",
        "      data_out = 0;\n",
        "    else\n",
        "      if (en)\n",
        "        data_out = data_in;\n",
        "endmodule"
      ],
      "metadata": {
        "id": "XjRyG_qsotSY"
      },
      "execution_count": null,
      "outputs": []
    },
    {
      "cell_type": "markdown",
      "source": [
        "Em sua simulação notamos que ele tem um valor indefinido inicialmente, depois é resetado na borda de subida e finalmente carregado com um valor de entrada apenas quando o sinal `en` está ativo no momento da subida do relógio. Experimente a simulação com o `rst` assíncrono e depois síncrono."
      ],
      "metadata": {
        "id": "YdizdSJVwp-_"
      }
    },
    {
      "cell_type": "code",
      "source": [
        "%%wavedrom\n",
        "`include \"regn.v\"\n",
        "\n",
        "module tb_regn;\n",
        "  reg clk, rst, en;\n",
        "  reg [15:0] data_in;\n",
        "  wire [15:0] data_out;\n",
        "\n",
        "  regn #(16) r16(clk, rst, en, data_in, data_out);\n",
        "\n",
        "  always\n",
        "    #5 clk = ~clk;\n",
        "\n",
        "  initial\n",
        "  begin\n",
        "    $dumpvars(1);\n",
        "    clk = 0; en = 0; rst = 0; data_in = 16'hcafe;\n",
        "    #10 rst = 1;\n",
        "    #10 rst = 0; en = 1;\n",
        "    #10 en = 0; data_in = 16'hbabe;\n",
        "    #10 $finish;\n",
        "  end\n",
        "\n",
        "endmodule"
      ],
      "metadata": {
        "id": "T6qsbNR0q2j1"
      },
      "execution_count": null,
      "outputs": []
    },
    {
      "cell_type": "markdown",
      "source": [
        "Sem dúvidas nosso registrador com largura variável, reset síncrono ou assíncrono e sinal de habilita é muito útil, mas a linguagem Verilog tem uma forma de declarar exatamente isso com uma palavra chave `reg` e seu contexto adequado.\n",
        "\n",
        "O módulo a seguir é capaz de gerar a sequência de Fibonacci com apenas dois registradores (`a` e `b`). Na maioria das linguagens de programação nós precisariamos de três variáveis para fazer isso, já que as instruções são executadas sequencialmente. Em Verilog, usando o operador de atribuição `<=` nas linhas 16 e 17, dizemos que os dois registradores são atualizados exatamente no mesmo instante, ou seja, na borda de subida do `clk`.\n",
        "\n",
        "O operador de atribuição `=>` é chamado não-bloqueante por tornar as atribuições totalmente independentes entre si e, portanto, podem estar em qualquer ordem no código. O operador `=` é a versão bloqueante, ou seja, ela faz com que as atribuições posteriores dependam das anteriores quando usam a mesma variável. No nosso exemplo abaixo, a linha 17 usaria a nova versão de `a` que foi atribuida na linha anterior, ou seja, o próprio `b`, tornando o código ineficaz."
      ],
      "metadata": {
        "id": "VsoSwOdTxH5G"
      }
    },
    {
      "cell_type": "code",
      "source": [
        "%%print_verilog -n fibo.v\n",
        "module fibo(\n",
        "  input clk, rst,\n",
        "  output [7:0] seq);\n",
        "\n",
        "  reg [7:0] a, b;\n",
        "\n",
        "  always@(posedge clk)\n",
        "    if (rst)\n",
        "    begin\n",
        "      a <= 0;\n",
        "      b <= 1;\n",
        "    end\n",
        "    else\n",
        "    begin\n",
        "      a <= b; // experimente trocar por =\n",
        "      b <= a + b; // experimente trocar por =\n",
        "    end\n",
        "  assign seq = a;\n",
        "endmodule"
      ],
      "metadata": {
        "id": "grTslIEHtwG1"
      },
      "execution_count": null,
      "outputs": []
    },
    {
      "cell_type": "markdown",
      "source": [
        "Experimente alternar entre atribuições bloqueantes (`<=`) e não-bloqueantes (`=`), repita a geração do circuito acima e sua simulação abaixo para ver o seu resultado. Mude o parâmetro da função `$dumpvars(0)` para mostrar os valores internos de `a` e `b`.\n",
        "\n",
        "<h2>Exercício</h2>\n",
        "\n",
        "Tente implementar o mesmo circuito instanciando dois registradores do modelo [fornecido anteriormente](https://colab.research.google.com/drive/19Hx2VVszGURzVRCw6IQqC9SXse4hBxse?authuser=1#scrollTo=r_wAVKqVoTsV). Use o mesmo teste a seguir para comprovar o seu funcionamento."
      ],
      "metadata": {
        "id": "JtWyWTHl0EnH"
      }
    },
    {
      "cell_type": "code",
      "source": [
        "%%wavedrom\n",
        "`include \"fibo.v\"\n",
        "\n",
        "module tb_fibo;\n",
        "  reg clk, rst;\n",
        "  wire [7:0] seq;\n",
        "\n",
        "  fibo uut(clk, rst, seq);\n",
        "\n",
        "  always\n",
        "    #5 clk = ~clk;\n",
        "\n",
        "  initial\n",
        "  begin\n",
        "    $dumpvars(1);\n",
        "    $monitor(\"%d\", seq);\n",
        "    clk = 0; rst = 1;\n",
        "    #10 rst = 0;\n",
        "    #130 $finish;\n",
        "  end\n",
        "endmodule"
      ],
      "metadata": {
        "id": "uYgGDJkZviH5"
      },
      "execution_count": null,
      "outputs": []
    },
    {
      "cell_type": "markdown",
      "source": [
        "Se você teve dificuldades em entender o exemplo anterior, vamos usar um mais simples primeiro. O módulo abaixo possui uma entrada `i`, um registrador intermediário `m` e um registrador na saída `o`. Tendo em conta que os registadores são atualizados sempre no mesmo instante, na subida do `clk`, experimente as mudanças a seguir no código, primeiro individualmente e depois combinações delas:\n",
        "  * Troque `<=` por `=`;\n",
        "  * Remova o `m` da saída;\n",
        "  * Remova o `+1` da atribuição;\n",
        "  * Troque a ordem das atribuições;"
      ],
      "metadata": {
        "id": "e4XW1h2l11lI"
      }
    },
    {
      "cell_type": "code",
      "source": [
        "%%print_verilog\n",
        "module nao_bloqueante(\n",
        "  input clk,\n",
        "  input [7:0] i,\n",
        "  output [7:0] m,\n",
        "  output reg[7:0] o);\n",
        "  reg [7:0] m;\n",
        "  always@(posedge clk)\n",
        "  begin\n",
        "    m <= i;\n",
        "    o <= m+1;\n",
        "  end\n",
        "endmodule"
      ],
      "metadata": {
        "id": "xo5zm0A51-Wc"
      },
      "execution_count": null,
      "outputs": []
    },
    {
      "cell_type": "markdown",
      "source": [
        "## Contadores\n",
        "\n",
        "Contadores são bastante úteis nos circuitos digitais para contabilizar eventos e controlar temporizações. Eles podem ser gerados a partir de flip-flops, mas para facilitar vamos especificá-los diretamente na forma comportamental."
      ],
      "metadata": {
        "id": "5E64tKxroicq"
      }
    },
    {
      "cell_type": "code",
      "source": [
        "%%print_verilog -n counter.v\n",
        "module counter(\n",
        "    input clk, rst,\n",
        "    output reg [7:0] count);\n",
        "\n",
        "    always@(posedge clk)\n",
        "      if (rst)\n",
        "        count = 'b0;\n",
        "      else\n",
        "        count = count + 1;\n",
        "endmodule"
      ],
      "metadata": {
        "id": "FBrSGtIDNlrC"
      },
      "execution_count": null,
      "outputs": []
    },
    {
      "cell_type": "code",
      "source": [
        "%%wavedrom\n",
        "`include \"counter.v\"\n",
        "\n",
        "module tb_counter;\n",
        "  reg clk, rst;\n",
        "  wire [7:0] count;\n",
        "\n",
        "  counter dut(clk, rst, count);\n",
        "\n",
        "  always\n",
        "    #5 clk = ~clk;\n",
        "\n",
        "  initial\n",
        "  begin\n",
        "    $dumpvars(1);\n",
        "    clk = 0; rst = 1;\n",
        "    #10 rst = 0;\n",
        "    #160 $finish;\n",
        "  end\n",
        "endmodule"
      ],
      "metadata": {
        "id": "lTUhFhhLOJ_5"
      },
      "execution_count": null,
      "outputs": []
    },
    {
      "cell_type": "markdown",
      "source": [
        "Agora vamos construir um contador mais sofisticado, de largura parametrizável, capaz de carregar um valor inicial informado e que possa incrementar e decrementar. A porta de reset se chama `arst_n`, o prefixo **a** indica que é assíncrona e o sufixo **n** que é *active low*. Além da contagem, ele também possuiu uma saída que indica quando o limite da contagem foi atingido e o contador dará a volta (`wraparound`)."
      ],
      "metadata": {
        "id": "gc5p5SLeTr7w"
      }
    },
    {
      "cell_type": "code",
      "source": [
        "%%print_verilog -n updown_load_counter.v\n",
        "module updown_load_counter\n",
        "  #(parameter N = 4)(\n",
        "  input clk, arst_n,\n",
        "  input [N-1:0] data,\n",
        "  input load, down,\n",
        "  output reg [N-1:0] count,\n",
        "  output wraparound);\n",
        "\n",
        "  always @(posedge clk or negedge arst_n)\n",
        "    if (!arst_n)\n",
        "      count <= 'b0;\n",
        "    else\n",
        "      if (load)\n",
        "        count <= data;\n",
        "      else\n",
        "        count <= count + (down ? -1 : +1);\n",
        "\n",
        "  assign wraparound = down ? ~|count : &count;\n",
        "endmodule"
      ],
      "metadata": {
        "id": "VqWpoixeQe6H"
      },
      "execution_count": null,
      "outputs": []
    },
    {
      "cell_type": "markdown",
      "source": [
        "## Deslocadores\n",
        "\n",
        "Fazer o deslocamento de bits é uma operação muito comum em circuitos digitais. Existem vários protocolos de comunicação que transmitem dados serialmente e, portanto, estes precisam ser enfileirados bit a bit. Já quando representamos números, deslocar o valor um bit para a esquerda significa multiplicá-lo por dois. Da mesma forma, deslocar o valor um bit para a direita significa dividi-lo por dois.\n",
        "\n",
        "Vejamos a seguir um módulo que recebe os bits de um _nibble_ serialmente e permite sua leitura tanto serialmente quanto em paralelo ao final. Note que ele é carregado a partir do MSB e lido (serialmente) a partir do LSB.\n",
        "\n"
      ],
      "metadata": {
        "id": "pcEvSWPwoYLN"
      }
    },
    {
      "cell_type": "code",
      "source": [
        "%%print_verilog -n shift_nibble.v\n",
        "`include \"FFD.v\"\n",
        "\n",
        "module shift_nibble(\n",
        "    input clk, si,    // entrada serial\n",
        "    output so,        // saída serial\n",
        "    output [3:0] po); // saída paralela\n",
        "\n",
        "    FFD b3(clk,    si, po[3]);\n",
        "    FFD b2(clk, po[3], po[2]);\n",
        "    FFD b1(clk, po[2], po[1]);\n",
        "    FFD b0(clk, po[1], po[0]);\n",
        "\n",
        "    assign so = po[0];\n",
        "endmodule"
      ],
      "metadata": {
        "id": "7QiKkZlI0aip"
      },
      "execution_count": null,
      "outputs": []
    },
    {
      "cell_type": "markdown",
      "source": [
        "Observe sua simulação:"
      ],
      "metadata": {
        "id": "_1iRhYi62FRf"
      }
    },
    {
      "cell_type": "code",
      "source": [
        "%%wavedrom\n",
        "`include \"shift_nibble.v\"\n",
        "\n",
        "module tb_serial_nibble;\n",
        "  reg clk, si;\n",
        "  wire so;\n",
        "  wire [3:0] po;\n",
        "\n",
        "  shift_nibble dut(clk, si, so, po);\n",
        "\n",
        "  always\n",
        "    #5 clk = ~clk;\n",
        "\n",
        "  initial\n",
        "  begin\n",
        "    $dumpvars(1);\n",
        "    $display(\"s      s\");\n",
        "    $display(\"i  po  o\");\n",
        "    $monitor(\"%0b %4b %0b\", si, po, so);\n",
        "    clk = 0; si = 1;\n",
        "    #40 si = 0;\n",
        "    #40 $finish;\n",
        "  end\n",
        "endmodule"
      ],
      "metadata": {
        "id": "HxrFVdrN2ILk"
      },
      "execution_count": null,
      "outputs": []
    },
    {
      "cell_type": "markdown",
      "source": [
        "Vamos agora usar Verilog comportamental para especificar um deslocador mais versátil. Ele permite a carga de um valor arbitrário a partir da porta `i_data` e o sinal de controle `load`, o que pode substituir a necessidade de um reset. O circuito possui uma entrada serial `si` e é capaz de deslocar para a direita e para a esquerda."
      ],
      "metadata": {
        "id": "p37IDC8a56kB"
      }
    },
    {
      "cell_type": "code",
      "source": [
        "%%print_verilog -n shifter.v\n",
        "module shifter #(parameter N = 8)(\n",
        "    input clk, load, shl, shr,\n",
        "    input si, input [N-1:0] i_data,\n",
        "    output reg [N-1:0] o_data);\n",
        "\n",
        "    always@(posedge clk)\n",
        "      if (load)\n",
        "        o_data <= i_data;\n",
        "      else\n",
        "        if (shr)\n",
        "          o_data <= {si, o_data[N-1:1]};\n",
        "        else\n",
        "          if (shl)\n",
        "            o_data <= {o_data, si};\n",
        "endmodule"
      ],
      "metadata": {
        "id": "ldm5VKE96BfQ"
      },
      "execution_count": null,
      "outputs": []
    },
    {
      "cell_type": "code",
      "source": [
        "%%wavedrom\n",
        "`include \"shifter.v\"\n",
        "\n",
        "module tb_shifter;\n",
        "    reg clk, load, shl, shr, si;\n",
        "    reg [15:0] i_data;\n",
        "    wire [15:0] o_data;\n",
        "\n",
        "    shifter #(16) dut(clk, load, shl, shr, si, i_data, o_data);\n",
        "\n",
        "  always\n",
        "    #5 clk = ~clk;\n",
        "\n",
        "  initial\n",
        "  begin\n",
        "    $dumpvars(1);\n",
        "    $monitor(\"%8b\", o_data);\n",
        "    clk = 0; si = 1; shl = 0; shr = 0; i_data = 16'hCAFE;\n",
        "    #10 load = 1;\n",
        "    $display(\"load...\");\n",
        "    #10 load = 0; shr = 1;\n",
        "    $display(\">>\");\n",
        "    #40  shl = 1; shr = 0;\n",
        "    $display(\"<<\");\n",
        "    #30 si = 0;\n",
        "    #10 $finish;\n",
        "  end\n",
        "endmodule"
      ],
      "metadata": {
        "id": "lAC5_IMeARPz"
      },
      "execution_count": null,
      "outputs": []
    },
    {
      "cell_type": "markdown",
      "source": [
        "## Problemas\n",
        "\n",
        "Antes de introduzirmos as máquinas de estados finitos, usadas para modelar cicuitos mais complexos, vejamos dois últimos exemplos de circuitos sequenciais com problemas reais.\n",
        "\n",
        "O cicuito especificado a seguir calcula o **mínimo múltiplo comum** entre dois números por um método simples que consiste em acumular o menor deles interativamente até que os dois sejam iguais. Na tabela a seguir demostramos sua execução, destacando o menor em negrito a cada passo:\n",
        "\n",
        "a|b\n",
        "-:|-:\n",
        "**3**|4\n",
        "6|**4**\n",
        "**6**|8\n",
        "9|**8**\n",
        "**9**|12\n",
        "12|12\n",
        "\n",
        "Sua implementação foi descrita em Verilog comportamental:"
      ],
      "metadata": {
        "id": "mCnzteXZJoEk"
      }
    },
    {
      "cell_type": "code",
      "source": [
        "%%print_verilog -n mmc.v\n",
        "\n",
        "module mmc_b( //comportamental\n",
        "  input clk, ld,\n",
        "  input [31:0] i_a, i_b,\n",
        "  output [31:0] res, //resultado\n",
        "  output done); //pronto\n",
        "\n",
        "  reg [31:0] a, b;\n",
        "\n",
        "  always @(posedge clk)\n",
        "    if (ld) begin // carrega\n",
        "      a <= i_a;   // valores\n",
        "      b <= i_b;   // iniciais\n",
        "    end\n",
        "    else // acumula o menor\n",
        "      if (b < a)\n",
        "        b <= b + i_b;\n",
        "      else\n",
        "        if (a < b)\n",
        "          a <= a + i_a;\n",
        "  // ao final, os dois serao iguais\n",
        "  assign res = a;\n",
        "  assign done = (a == b);\n",
        "endmodule"
      ],
      "metadata": {
        "id": "t-w2S3YwMrOR"
      },
      "execution_count": null,
      "outputs": []
    },
    {
      "cell_type": "markdown",
      "source": [
        "Note que o circuito obtido possui apenas os dois registradores declarados, multiplexadores, comparadores e somadores. Em seu teste abaixo, usando os mesmos valores já demonstrados, vamos uma um novo recurso, a clausulá `wait`. Como o número de ciclos depende dos valores computados, fazemos a carga inicial dos valores e aguardamos o sinal `done` que indica o término da computação (linha 21)."
      ],
      "metadata": {
        "id": "GqzZqicJaqn2"
      }
    },
    {
      "cell_type": "code",
      "source": [
        "%%wavedrom\n",
        "`include \"mmc.v\"\n",
        "\n",
        "module tb_mmc;\n",
        "  reg clk, ld;\n",
        "  reg [31:0] a, b;\n",
        "  wire [31:0] res;\n",
        "  wire done;\n",
        "\n",
        "  mmc_b dut(clk, ld, a, b, res, done);\n",
        "\n",
        "  always\n",
        "    #5 clk = ~clk;\n",
        "\n",
        "  initial\n",
        "  begin\n",
        "    $dumpvars(0);\n",
        "    clk = 0; ld = 1;\n",
        "    a = 3; b = 4; // experimente com outros valores\n",
        "    #10 ld = 0;\n",
        "    wait (done==1);\n",
        "    #5 $finish;\n",
        "  end\n",
        "endmodule\n"
      ],
      "metadata": {
        "id": "4aNcHNFJPTQR"
      },
      "execution_count": null,
      "outputs": []
    },
    {
      "cell_type": "markdown",
      "source": [
        "O próximo circuito, apresentado a seguir, calcula o **máximo divisor comum** entre dois números. O algoritmo usado é bastante parecido com o anterior, mas desta vez vamos subtrair o menor do maior até que um deles seja zero, o restante será o resultado. Veja a tabela a seguir, destacando o menor a cada passo:\n",
        "\n",
        "a|b\n",
        "-:|-:\n",
        "**18**|60\n",
        "**18**|42\n",
        "**18**|24\n",
        "18|**6**\n",
        "12|**6**\n",
        "**6**|6\n",
        "0|6\n",
        "\n",
        "Desta vez, vamos usar Verilog estrutural e funcional para construir o circuito a partir de registradores e de atribuições contínuas. Note que sua descrição fica bastante diferente da anterior, apesar da semelhança entre os circuitos gerados."
      ],
      "metadata": {
        "id": "mgU0FHH9XYVg"
      }
    },
    {
      "cell_type": "code",
      "source": [
        "%%print_verilog -n mdc.v\n",
        "module mdc_s( //estrutural\n",
        "  input clk, ld,\n",
        "  input [31:0] i_a, i_b,\n",
        "  output [31:0] res, //resultado\n",
        "  output done); //pronto\n",
        "\n",
        "  wire [31:0] a, b, a_i_b, b_i_a;\n",
        "  wire en;\n",
        "  // subtrai o menor do maior\n",
        "  assign a_i_b = a - b;\n",
        "  assign b_i_a = b - a;\n",
        "  assign en = b <= a;\n",
        "\n",
        "  reg32 ra(ld, clk, en, i_a, a_i_b, a);\n",
        "  reg32 rb(ld, clk, !en, i_b, b_i_a, b);\n",
        "  // ao final, um deles sera zero\n",
        "  assign res  = a + b;\n",
        "  assign done = !(a && b);\n",
        "endmodule\n",
        "\n",
        "module reg32(\n",
        "  input ld, clk, en,\n",
        "  input [31:0] data_l, data_i,\n",
        "  output reg [31:0] data_o);\n",
        "  always @(posedge clk)\n",
        "    if (ld) data_o  = data_l;\n",
        "    else if (en) data_o = data_i;\n",
        "endmodule"
      ],
      "metadata": {
        "id": "sMXmMrw5V_ai"
      },
      "execution_count": null,
      "outputs": []
    },
    {
      "cell_type": "markdown",
      "source": [
        "Usamos praticamente o mesmo teste para este novo problema, mas note que é possível incluir no `$monitor` valores que estão no módulo instanciado (linha 18):\n",
        "\n"
      ],
      "metadata": {
        "id": "Ldy85mbpZU_B"
      }
    },
    {
      "cell_type": "code",
      "source": [
        "%%wavedrom\n",
        "`include \"mdc.v\"\n",
        "\n",
        "module tb_mdc;\n",
        "  reg clk, ld;\n",
        "  reg [31:0] a, b;\n",
        "  wire [31:0] res;\n",
        "  wire done;\n",
        "\n",
        "  mdc_s dut(clk, ld, a, b, res, done);\n",
        "\n",
        "  always\n",
        "    #5 clk = ~clk;\n",
        "\n",
        "  initial\n",
        "  begin\n",
        "    $dumpvars(1);\n",
        "    $monitor(dut.a, dut.b);\n",
        "    clk = 0; ld = 1;\n",
        "    a = 18; b = 60;\n",
        "    #10 ld = 0;\n",
        "    wait (done==1);\n",
        "    #5 $finish;\n",
        "  end\n",
        "endmodule"
      ],
      "metadata": {
        "id": "3ikSgJE5ZbKk"
      },
      "execution_count": null,
      "outputs": []
    },
    {
      "cell_type": "markdown",
      "source": [
        "<h3>Exercício</h3>\n",
        "\n",
        "Tente implementar os dois algoritmos da outra forma, ou seja, o MMC na forma estrutural e o MDC na forma comportamental. Teste para ver se eles são equivalentes às implementações fornecidas."
      ],
      "metadata": {
        "id": "EY-zgxO1cCkt"
      }
    },
    {
      "cell_type": "markdown",
      "metadata": {
        "id": "DsxMTHnxnYEf"
      },
      "source": [
        "# Máquinas de estados finitos (FSM)\n",
        "\n",
        "Vimos até agora alguns circuitos sequenciais simples, que possuem alguns poucos registradores e sinais de controle. Quando é necessário sincronizar muitas operações e sinais de controle, precisamos de uma metodologia que permita desenvolver o circuito de maneira mais organizada e sistemática. As máquinas de estados finitos permitem implementar adequadamente circuitos mais complexos. A seguir veremos como elas funcionam e como desenvolver circuitos baseados nelas. Na figura a seguir está uma representação de como as FSM funcionam. A partir do estado atual e das entradas, um novo estado é calculado. A saída depende apenas do estado atual no modelo de Moore mas também das entradas no modelo de Mealy (linha azul). Em ambos modelos, temos  um único estado ativo por vez.\n",
        "\n"
      ]
    },
    {
      "cell_type": "code",
      "source": [
        "# @title\n",
        "# import matplotlib.pyplot as plt\n",
        "# plt.xkcd()\n",
        "# plt.rcdefaults()\n",
        "d = schemdraw.Drawing()\n",
        "d.add(inicio := flow.Terminal().label('Entradas').drop('E'))\n",
        "d += elm.Line(arrow='->').right(d.unit/2)\n",
        "d.add(estado := flow.RoundBox(label='Estado'))\n",
        "d += elm.Line(arrow='->').right(d.unit/2)\n",
        "d.add(fim := flow.Connect().label('Saídas'))\n",
        "#feedback\n",
        "#d.add(flow.Arrow().at(estado.E).right(d.unit/4))\n",
        "#d.add(flow.Line(arrow='->').up(d.unit/2))\n",
        "#d.add(flow.Wire('c', k=-4.5, arrow='->').to(estado.W))\n",
        "d += elm.Line(arrow='-').at(estado.ENE).right(d.unit/5)\n",
        "d += elm.Line(arrow='-').up(d.unit/3)\n",
        "d += elm.Line(arrow='-').left(d.unit*1.4)\n",
        "d += elm.Line(arrow='-').down(d.unit/3)\n",
        "d += elm.Line(arrow='->').right(d.unit/5)\n",
        "#forward\n",
        "d += elm.Arc2(arrow='->', color='gray', k=-0.35, ls='--').at(inicio.SE).to(fim.WSW).label('Mealy')\n",
        "d.draw()"
      ],
      "metadata": {
        "id": "JdCamJPvEZyd",
        "cellView": "form"
      },
      "execution_count": null,
      "outputs": []
    },
    {
      "cell_type": "markdown",
      "source": [
        "## Modelo de Moore\n",
        "\n",
        "Vamos começar com o modelo de **Moore**, no qual as saídas dependem apenas do estado atual. No exemplo a seguir, maquina de estados finitos controla uma luz (L) a partir de um botão (B), como em um controle remoto em que o mesmo botão serve tanto para ligar quanto para desligar um aparelho.\n",
        "\n",
        "No modelo de Moore, as saída são anotadas nos estados, então temos $S_0$ com a luz apagada (L=0) e $S_1$ com a luz acesa (L=1). Já as entradas, estas são anotadas nas arestas, que representam as mudanças de estado. Neste exemplo, quando o botão está pressionado, ocorre a mudança no estado, caso contário, o estado permanece o mesmo. A aresta externa apontando para $S_0$ indica que ele é o estado inicial quando o circuito é inicializado. A FSM obtida a partir do enunciado é a seguinte:\n",
        "\n"
      ],
      "metadata": {
        "id": "yxL1Ny2IEX4L"
      }
    },
    {
      "cell_type": "code",
      "source": [
        "# @title\n",
        "with schemdraw.Drawing() as d:\n",
        "    d += elm.Arrow().length(1)\n",
        "    d += (s1 := flow.State().anchor('W').label('$S_0$\\n$L=0$'))\n",
        "    d += elm.Arc2(arrow='<-').at(s1.NE).label('B=1')\n",
        "    d += (s2 := flow.State().anchor('NW').label('$S_1$\\n$L=1$'))\n",
        "    d += elm.Arc2(arrow='<-').at(s2.SW).to(s1.SE).label('B=1')\n",
        "    d += elm.ArcLoop(arrow='<-').at(s2.NE).to(s2.E).label('B=0')\n",
        "    d += elm.ArcLoop(arrow='<-').at(s1.NW).to(s1.N).label('B=0')"
      ],
      "metadata": {
        "id": "aq8It9rCZoNT",
        "cellView": "form"
      },
      "execution_count": null,
      "outputs": []
    },
    {
      "cell_type": "markdown",
      "source": [
        "Já podemos perceber que um flip-flop do tipo T resolveria nosso problema, mas vamos seguir uma metodologia que poderá ser usada posteriormente em problemas mais complexos.\n",
        "\n",
        "O primeiro passo desta metodologia é  construir uma tabela com as regras de transição e saídas a partir da máquina de estados.\n",
        "\n",
        "<table>\n",
        "<thead>\n",
        "  <tr>\n",
        "    <th rowspan=\"2\">Estado<br>Atual</th>\n",
        "    <th colspan=\"2\">Próximo Estado</th>\n",
        "    <th>Saída</th>\n",
        "  </tr>\n",
        "  <tr>\n",
        "    <th>B=0</th>\n",
        "    <th>B=1</th>\n",
        "    <th>L</th>\n",
        "  </tr>\n",
        "</thead>\n",
        "<tbody>\n",
        "  <tr>\n",
        "    <td>A</td>\n",
        "    <td>A</td>\n",
        "    <td>B</td>\n",
        "    <td>0</td>\n",
        "  </tr>\n",
        "  <tr>\n",
        "    <td>B</td>\n",
        "    <td>B</td>\n",
        "    <td>A</td>\n",
        "    <td>1</td>\n",
        "  </tr>\n",
        "</tbody>\n",
        "</table>\n",
        "\n",
        "Depois, vamos definir quantos flip-flops precisamos para representar os estados e atribuir valores únicos a eles em cada estado. No nosso exemplo, um único flip-flop pode mapear os dois estados possíveis.\n",
        "\n",
        "Vamos chamar sua saída de $E_0$ (maiúsculo) e de $e_0$ (minúsculo) a entrada deste flip-flop, ou seja, qual será o próximo estado. Nossa tabela de atribuição de estados fica assim:\n",
        "\n",
        "<table>\n",
        "<thead>\n",
        "  <tr>\n",
        "    <th rowspan=\"2\">Estado<br>Atual</th>\n",
        "    <th colspan=\"2\">Próximo Estado</th>\n",
        "    <th>Saída</th>\n",
        "  </tr>\n",
        "  <tr>\n",
        "    <th>B=0</th>\n",
        "    <th>B=1</th>\n",
        "    <th>L</th>\n",
        "  </tr>\n",
        "</thead>\n",
        "<tbody>\n",
        "  <tr>\n",
        "    <td>0</td>\n",
        "    <td>0</td>\n",
        "    <td>1</td>\n",
        "    <td>0</td>\n",
        "  </tr>\n",
        "  <tr>\n",
        "    <td>1</td>\n",
        "    <td>1</td>\n",
        "    <td>0</td>\n",
        "    <td>1</td>\n",
        "  </tr>\n",
        "</tbody>\n",
        "</table>\n",
        "\n",
        "Assim temos $L(E_0)=E_0$, ou seja, a saída L é igual ao próprio estado $E_0$. Já a função de transição, que é única, pois só temos um flip-flop fica $e_0(B, E_0)=B.\\overline{ E_0}+\\overline{ B}.E_0 = B \\oplus E_0$. Conforme explicamos anteriormente, neste modelo a saída só depende do estado atual e o próximo estado depende do estado atual e da entrada. Aqui temos uma implementação estrutural a partir de um único flip-flop D capaz de armazenar os dois estados da máquina (linha 7). A função de saída só depende deste estado (linha 8) e finalmente a função de transição depende do estado atual e da entrada (linha 9).\n"
      ],
      "metadata": {
        "id": "C51E-RbTPAn_"
      }
    },
    {
      "cell_type": "code",
      "source": [
        "%%print_verilog\n",
        "`include \"FFD.v\"\n",
        "\n",
        "module fsm(\n",
        "  input clk, B,\n",
        "  output L);\n",
        "  FFD E0(clk, e, E); //estado atual\n",
        "  assign L = E;      //função de saída\n",
        "  xor (e, B, E);     //função de transição\n",
        "endmodule"
      ],
      "metadata": {
        "id": "p0HCKQPNed4L"
      },
      "execution_count": null,
      "outputs": []
    },
    {
      "cell_type": "markdown",
      "source": [
        "Esta implementação é válida, porem o flip-flop D usado não possui reset, então não é possível saber o estado inicial do circuito e consequentemente simulá-lo. A seguir está uma implementação comportamental do mesmo circuito, incluindo um reset assíncrono. Também fizemos a saída `L` ser o próprio registrador de estado."
      ],
      "metadata": {
        "id": "J9hrcHItMSyY"
      }
    },
    {
      "cell_type": "code",
      "source": [
        "%%print_verilog -n BL.v\n",
        "module BL(\n",
        "  input clk, arst, B,\n",
        "  output reg L);\n",
        "\n",
        "  always@(posedge clk or posedge arst)\n",
        "    if (arst)\n",
        "      L = 0;\n",
        "    else\n",
        "      L = B ^ L;\n",
        "endmodule"
      ],
      "metadata": {
        "id": "7MqfNVjef4_c"
      },
      "execution_count": null,
      "outputs": []
    },
    {
      "cell_type": "markdown",
      "source": [
        "Na simulação a seguir, podemos observar que:\n",
        "\n",
        "*   O reset é assíncrono e tem efeito imediatamente;\n",
        "*   O circuito é capaz de acender e depois de apagar a luz (L) a partir do pressionamento do botão (B) durante a subida do relógio;\n",
        "*   Se o botão ficar acionado a lâmpada irá piscar a cada subida do clock.\n",
        "\n",
        "Em termos práticos, este funcionamento é inadequado, já que os circuitos costumam operar em frequências na casa dos MHz e seria praticamente impossível pressionar o botão por uma única subida do relógio como vemos na parte central da simulação."
      ],
      "metadata": {
        "id": "cjfjrbMNOYjP"
      }
    },
    {
      "cell_type": "code",
      "source": [
        "%%wavedrom\n",
        "`include \"BL.v\"\n",
        "\n",
        "module tb_BL;\n",
        "  reg clk, arst, B;\n",
        "  wire L;\n",
        "\n",
        "  BL dut(clk, arst, B, L);\n",
        "\n",
        "  always\n",
        "    #5 clk = ~clk;\n",
        "\n",
        "  initial\n",
        "  begin\n",
        "    $dumpvars(1);\n",
        "    clk = 0; arst = 0; B = 0;\n",
        "    #10 arst = 1;\n",
        "    #5 arst = 0;\n",
        "    #15 B = 1; #10 B = 0;\n",
        "    #20 B = 1; #10 B = 0;\n",
        "    #10 B = 1;\n",
        "    #50 $finish;\n",
        "  end\n",
        "endmodule"
      ],
      "metadata": {
        "id": "WsW1xAhhOX4f"
      },
      "execution_count": null,
      "outputs": []
    },
    {
      "cell_type": "markdown",
      "source": [
        "Para que o circuito funcione adequadamente, mesmo com um relógio em alta frequência, vamos reestruturar nossa FSM conforme o diagrama a seguir. Aqui a linha dupla indica que $S_0$ é o estado inicial, embora esta notação seja usada para indicar também estados finais. Quando o botão é pressionado, passamos ao estado $S_1$ no qual a luz é acesa e ficamos neste estado enquanto o botão permanecer pressionado. Passamos de $S_1$ para $S_2$ quando o botão é solto, mas a luz permanece acesa. Um novo pressionamento do botão nos leva para o estado $S_3$ quando a luz é apagada e voltamos para $S_0$ quando o botão é solto. Desta forma o pressionamento do botão não causa várias mudanças de estado, independentemente de quantos ciclos de relógio ele permanecer pressionado."
      ],
      "metadata": {
        "id": "Yd6TjZL3dBUh"
      }
    },
    {
      "cell_type": "code",
      "source": [
        "# @title\n",
        "with schemdraw.Drawing() as d:\n",
        "    d += (s0 := flow.StateEnd().at((0,3)).label('$S_0$\\n$L=0$'))\n",
        "    d += (s1 := flow.State().at(   (4,3)).label('$S_1$\\n$L=1$'))\n",
        "    d += (s2 := flow.State().at(   (4,0)).label('$S_2$\\n$L=1$'))\n",
        "    d += (s3 := flow.State().at(   (0,0)).label('$S_3$\\n$L=0$'))\n",
        "\n",
        "    d += elm.ArcLoop(arrow='->').at(s0.SW).to(s0.NW).label('B=0', fontsize=11)\n",
        "    d += elm.ArcLoop(arrow='->').at(s1.NE).to(s1.SE).label('B=1', fontsize=11)\n",
        "    d += elm.ArcLoop(arrow='->').at(s2.NE).to(s2.SE).label('B=0', fontsize=11)\n",
        "    d += elm.ArcLoop(arrow='->').at(s3.SW).to(s3.NW).label('B=1', fontsize=11)\n",
        "\n",
        "    d += elm.Arc2(k=.25, arrow='->').at(s0.NE).to(s1.NW).label('B=1', fontsize=11)\n",
        "    d += elm.Arc2(k=.25, arrow='->').at(s1.SSE).to(s2.NNE).label('B=0', fontsize=11)\n",
        "    d += elm.Arc2(k=.25, arrow='->').at(s2.SW).to(s3.SE).label('B=1', fontsize=11)\n",
        "    d += elm.Arc2(k=.25, arrow='->').at(s3.NNW).to(s0.SSW).label('B=0', fontsize=11)"
      ],
      "metadata": {
        "cellView": "form",
        "id": "ON1VaVxWRqr6"
      },
      "execution_count": null,
      "outputs": []
    },
    {
      "cell_type": "markdown",
      "source": [
        "Vamos aplicar novamente a mesma metodologia para desenvolver o circuito. Inicialmente construimos a **tabela de transições de estados** a partir da FSM:\n",
        "\n",
        "<table>\n",
        "<thead>\n",
        "  <tr>\n",
        "    <th rowspan=\"2\">Estado<br>Atual</th>\n",
        "    <th colspan=\"2\">Próximo Estado</th>\n",
        "    <th>Saída</th>\n",
        "  </tr>\n",
        "  <tr>\n",
        "    <th>B=0</th>\n",
        "    <th>B=1</th>\n",
        "    <th>L</th>\n",
        "  </tr>\n",
        "</thead>\n",
        "<tbody>\n",
        "  <tr>\n",
        "    <td>S0</td>\n",
        "    <td>S0</td>\n",
        "    <td>S1</td>\n",
        "    <td>0</td>\n",
        "  </tr>\n",
        "  <tr>\n",
        "    <td>S1</td>\n",
        "    <td>S2</td>\n",
        "    <td>S1</td>\n",
        "    <td>1</td>\n",
        "  </tr>\n",
        "  <tr>\n",
        "    <td>S2</td>\n",
        "    <td>S2</td>\n",
        "    <td>S3</td>\n",
        "    <td>1</td>\n",
        "  </tr>\n",
        "  <tr>\n",
        "    <td>S3</td>\n",
        "    <td>S0</td>\n",
        "    <td>S3</td>\n",
        "    <td>0</td>\n",
        "  </tr>\n",
        "</tbody>\n",
        "</table>\n",
        "\n",
        "Agora construimos a **tabela de atribuição de estados** e, novamente, faremos uma atribuição sequencial dos valores.\n",
        "\n",
        "<table>\n",
        "<thead>\n",
        "  <tr>\n",
        "    <th rowspan=\"2\">Estado<br>Atual</th>\n",
        "    <th colspan=\"2\">Próximo Estado</th>\n",
        "    <th>Saída</th>\n",
        "  </tr>\n",
        "  <tr>\n",
        "    <th>B=0</th>\n",
        "    <th>B=1</th>\n",
        "    <th>L</th>\n",
        "  </tr>\n",
        "</thead>\n",
        "<tbody>\n",
        "  <tr>\n",
        "    <td>00</td>\n",
        "    <td>00</td>\n",
        "    <td>01</td>\n",
        "    <td>0</td>\n",
        "  </tr>\n",
        "  <tr>\n",
        "    <td>01</td>\n",
        "    <td>10</td>\n",
        "    <td>01</td>\n",
        "    <td>1</td>\n",
        "  </tr>\n",
        "  <tr>\n",
        "    <td>10</td>\n",
        "    <td>10</td>\n",
        "    <td>11</td>\n",
        "    <td>1</td>\n",
        "  </tr>\n",
        "  <tr>\n",
        "    <td>11</td>\n",
        "    <td>00</td>\n",
        "    <td>11</td>\n",
        "    <td>0</td>\n",
        "  </tr>\n",
        "</tbody>\n",
        "</table>\n",
        "\n",
        "Para guardar os quatro estados listados na tabela precisamos de exatamente dois flip-flop, que vamos chamar de $E_1$ (MSB) e $E_0$ (LSB). Em FSMs mais complexas podemos fazer um Mapa de Karnaugh para cada expressão, usando *don't care* para as saídas que não representam nenhum estado. Aqui conseguimos inferi-las facilmente, apenas observando a tabela:\n",
        "\n",
        "* $e_1(B, E_1, E_0)  = \\overline{B}.(E_1 \\oplus E_0) + B.E_1$\n",
        "* $e_0(B, E_1, E_0) = B$\n",
        "* $L(E_1, E_0) = E_1 \\oplus E_0$"
      ],
      "metadata": {
        "id": "vZnpzL6jfY8R"
      }
    },
    {
      "cell_type": "markdown",
      "source": [
        "Seguindo as expressões para implementar o Verilog estrutural temos o seguinte:"
      ],
      "metadata": {
        "id": "WCh57d3Xiqcz"
      }
    },
    {
      "cell_type": "code",
      "source": [
        "%%print_verilog -n fsm4.v\n",
        "`include \"FFD.v\"\n",
        "\n",
        "module fsm4(\n",
        "  input clk, B,\n",
        "  output L);\n",
        "  wire [1:0] e, E;\n",
        "  FFD E1(clk, e[1], E[1]); //estado atual\n",
        "  FFD E0(clk, e[0], E[0]); //estado atual\n",
        "  xor (L, E[1], E[0]);     //função de saída\n",
        "  assign e[0] = B;         //funções de transição\n",
        "  assign e[1] = ~B & L | B & E[1];\n",
        "endmodule"
      ],
      "metadata": {
        "id": "XXKBfNu8ezZo"
      },
      "execution_count": null,
      "outputs": []
    },
    {
      "cell_type": "markdown",
      "source": [
        "Novamente, vamos fazer uma implementação com Verilog comportamental e incluir um reset assíncrono para poder simular."
      ],
      "metadata": {
        "id": "fRFsmh7qizWc"
      }
    },
    {
      "cell_type": "code",
      "source": [
        "%%print_verilog -n BL2.v\n",
        "module BL2(\n",
        "  input clk, arst, B,\n",
        "  output L);\n",
        "\n",
        "  reg E1, E0;\n",
        "\n",
        "  always@(posedge clk or posedge arst)\n",
        "    if (arst)\n",
        "    begin\n",
        "      E1 <= 1'b0;\n",
        "      E0 <= 1'b0;\n",
        "    end\n",
        "    else\n",
        "    begin\n",
        "      E1 <= ~B & L | B & E1;\n",
        "      E0 <= B;\n",
        "    end\n",
        "  assign L = E1 ^ E0;\n",
        "endmodule"
      ],
      "metadata": {
        "id": "Hrb4TS31gNbP"
      },
      "execution_count": null,
      "outputs": []
    },
    {
      "cell_type": "markdown",
      "source": [
        "Note que o circuito obtido é exatamente igual ao anterior, exceto pelo reset. Na simulação a seguir podemos observar que o pressionamento do botão por mais de um ciclo só causa uma transição de estado, o que evita que a luz pisque quando ele estiver acionado. Incluimos a entrada, o estado interno e a saída no monitor do console para facilitar a compreensão."
      ],
      "metadata": {
        "id": "menWjQUDjbaj"
      }
    },
    {
      "cell_type": "code",
      "source": [
        "%%wavedrom\n",
        "`include \"BL2.v\"\n",
        "\n",
        "module tb_BL2;\n",
        "  reg clk, arst, B;\n",
        "  wire L;\n",
        "  wire [1:0] S;\n",
        "\n",
        "  BL2 dut(clk, arst, B, L);\n",
        "\n",
        "  always\n",
        "    #5 clk = ~clk;\n",
        "\n",
        "  initial\n",
        "  begin\n",
        "    $display(\"B Sn L\");\n",
        "    $monitor(\"%b %b%b %b\", B, dut.E1, dut.E0, L);\n",
        "    $dumpvars(0);\n",
        "    clk = 0; arst = 1; B = 0;\n",
        "    #5 arst = 0;\n",
        "    #15 B = 1; #20 B = 0;\n",
        "    #20 B = 1; #10 B = 0;\n",
        "    #10 B = 1; #10 B = 0;\n",
        "    #50 $finish;\n",
        "  end\n",
        "endmodule"
      ],
      "metadata": {
        "id": "ftNt91kbf4Vt"
      },
      "execution_count": null,
      "outputs": []
    },
    {
      "cell_type": "markdown",
      "source": [
        "A atribuição sequencial que fizemos aos estados não é obrigatória e a escolha deles tem influência direta na complexidade do circuito. Para exemplificar, vamos fazer uma atribuição alternativa aos bits dos estados, trocando apenas $S_2$ para `11` e $S_3$ para `10`. Nossa tabela de atribuição de estados ficaria assim:\n",
        "\n",
        "<table>\n",
        "<thead>\n",
        "  <tr>\n",
        "    <th rowspan=\"2\">Estado<br>Atual</th>\n",
        "    <th colspan=\"2\">Próximo Estado</th>\n",
        "    <th>Saída</th>\n",
        "  </tr>\n",
        "  <tr>\n",
        "    <th>B=0</th>\n",
        "    <th>B=1</th>\n",
        "    <th>L</th>\n",
        "  </tr>\n",
        "</thead>\n",
        "<tbody>\n",
        "  <tr>\n",
        "    <td>00</td>\n",
        "    <td>00</td>\n",
        "    <td>01</td>\n",
        "    <td>0</td>\n",
        "  </tr>\n",
        "  <tr>\n",
        "    <td>01</td>\n",
        "    <td>11</td>\n",
        "    <td>01</td>\n",
        "    <td>1</td>\n",
        "  </tr>\n",
        "  <tr>\n",
        "    <td>11</td>\n",
        "    <td>11</td>\n",
        "    <td>10</td>\n",
        "    <td>1</td>\n",
        "  </tr>\n",
        "  <tr>\n",
        "    <td>10</td>\n",
        "    <td>00</td>\n",
        "    <td>10</td>\n",
        "    <td>0</td>\n",
        "  </tr>\n",
        "</tbody>\n",
        "</table>\n",
        "\n",
        "As novas expressões seriam:\n",
        "\n",
        "* $e_1(B, E_1, E_0) = \\overline{B}.E_0 + B.E_1$\n",
        "* $e_0(B, E_1, E_0)  = \\overline{B}.E_0 + B.\\overline{E_1}$\n",
        "* $L(E_1, E_0) = E_0$"
      ],
      "metadata": {
        "id": "fE9QB6S5lTGa"
      }
    },
    {
      "cell_type": "markdown",
      "source": [
        "Note que o circuito resultante é diferente do anterior, como é de se esperar, mas a simulação funciona exatamente igual. Em alguns casos, certas atribuições de estado podem resultar em circuitos muito mais simples do que outro. Não e possivel encontrar a melhor solução (mais otimizada) sem testar todas as possibilidades, o que torna este um problema NP-completo. As ferramentas de síntese usam heurísticas para resolve-lo e há parametros específicos para favorecer soluções com determinadas características, por exemplo, menor área, maior frequência, etc. Você pode usar o mesmo *test bench* do código anterior, pois estamos salvando a implementação com o mesmo nome."
      ],
      "metadata": {
        "id": "N3kiE0pnuhvD"
      }
    },
    {
      "cell_type": "code",
      "source": [
        "%%print_verilog -n BL2.v\n",
        "module BL2(\n",
        "  input clk, arst, B,\n",
        "  output L);\n",
        "\n",
        "  reg E1, E0;\n",
        "\n",
        "  always@(posedge clk or posedge arst)\n",
        "    if (arst)\n",
        "    begin\n",
        "      E1 <= 1'b0;\n",
        "      E0 <= 1'b0;\n",
        "    end\n",
        "    else\n",
        "    begin\n",
        "      E1 <= ~B & E0 | B & E1;\n",
        "      E0 <= ~B & E0 | B & ~E1;\n",
        "    end\n",
        "  assign L = E0;\n",
        "endmodule"
      ],
      "metadata": {
        "id": "E6hDzpfVlSGV"
      },
      "execution_count": null,
      "outputs": []
    },
    {
      "cell_type": "markdown",
      "source": [
        "A metodologia usada aqui parte da especificação inicial da FSM e chega até as expressões de cada bit usado para guardar os estados. Além de termos que escolher uma codificação para os estados que não sabemos ser a mais adequada, temos que espeficiar manualmente cada expressão do circuito. Alternativamente, podemos construir o Verilog comportamental a partir da FSM, o que elimina a necessidade de descrever as expressões. Além de ser um processo mais simples, algumas ferramentas de síntese são capazes de alterar a codificação da FSM automaticamente para otimizar o circuito. A seguir está uma implementação da mesma FSM usando Verilog comportamental para a FSM (e não para os registradores como fizemos antes):"
      ],
      "metadata": {
        "id": "rlL8tQzSk66o"
      }
    },
    {
      "cell_type": "code",
      "source": [
        "# @title\n",
        "with schemdraw.Drawing() as d:\n",
        "    d += (s0 := flow.StateEnd().at((0,3)).label('$S_0$\\n$L=0$'))\n",
        "    d += (s1 := flow.State().at(   (4,3)).label('$S_1$\\n$L=1$'))\n",
        "    d += (s2 := flow.State().at(   (4,0)).label('$S_2$\\n$L=1$'))\n",
        "    d += (s3 := flow.State().at(   (0,0)).label('$S_3$\\n$L=0$'))\n",
        "\n",
        "    d += elm.ArcLoop(arrow='->').at(s0.SW).to(s0.NW).label('B=0', fontsize=11)\n",
        "    d += elm.ArcLoop(arrow='->').at(s1.NE).to(s1.SE).label('B=1', fontsize=11)\n",
        "    d += elm.ArcLoop(arrow='->').at(s2.NE).to(s2.SE).label('B=0', fontsize=11)\n",
        "    d += elm.ArcLoop(arrow='->').at(s3.SW).to(s3.NW).label('B=1', fontsize=11)\n",
        "\n",
        "    d += elm.Arc2(k=.25, arrow='->').at(s0.NE).to(s1.NW).label('B=1', fontsize=11)\n",
        "    d += elm.Arc2(k=.25, arrow='->').at(s1.SSE).to(s2.NNE).label('B=0', fontsize=11)\n",
        "    d += elm.Arc2(k=.25, arrow='->').at(s2.SW).to(s3.SE).label('B=1', fontsize=11)\n",
        "    d += elm.Arc2(k=.25, arrow='->').at(s3.NNW).to(s0.SSW).label('B=0', fontsize=11)"
      ],
      "metadata": {
        "cellView": "form",
        "id": "OU24AsJYz_Of"
      },
      "execution_count": null,
      "outputs": []
    },
    {
      "cell_type": "markdown",
      "source": [
        "Repetimos a figura da FSM para facilitar a escrita do código. Apesar de ser mais extenso, não precisamos nos preocupar com a codificação dos estados e as expressões decorrentes disso. Podemos definir como será a transição dos estados apenas observando a FSM e depois definir como será a saída. Alguns aspectos importantes do código a seguir:\n",
        "\n",
        "* Cuidar para que os parâmetros definidos para cada estado não se repitam (linhas 7-10);\n",
        "* Certificar-se de que as variáveis de estado (linha 13) têm a mesma largura dos parâmetros (lembre-se de que atribuições para espaços menores são permitidas);\n",
        "* Listar todas as entradas e o estado atual na lista sensitiva do bloco que define o próximo estado (linha 16);\n",
        "* Atribuir o próximo estado para `e` a partir do estado atual e das entradas;\n",
        "* Incluir a opção `default` no `case` para as codifições que não serão usadas;\n",
        "* Atribuir o estado inicial ou o próximo estado no bloco sequencial que funciona no reset ou na subida do relógio (linhas 30-32);\n",
        "* Definir as saídas a partir dos estados desenhados (linha 35).\n",
        "\n",
        "Note que declaramos `e` do tipo `reg` para poder atribuí-lo dentro de um bloco `always`, mas como ele não depende do relógio, não gera flip-flops, diferentemente de `E`."
      ],
      "metadata": {
        "id": "QYBAZUt22WTF"
      }
    },
    {
      "cell_type": "code",
      "source": [
        "%%print_verilog -n BL4.v\n",
        "module BL4(\n",
        "  input clk, arst, B,\n",
        "  output L);\n",
        "\n",
        "  //Codificação dos estados\n",
        "  parameter [1:0] S0 = 2'b00,\n",
        "                  S1 = 2'b01,\n",
        "                  S2 = 2'b10,\n",
        "                  S3 = 2'b11;\n",
        "\n",
        "  //Estado atual e próximo estado\n",
        "  reg [1:0] E, e;\n",
        "\n",
        "  // Bloco combinacional (calcula próximo estado)\n",
        "  always @(B, E)\n",
        "    case (E)\n",
        "      S0: if (B) e = S1;\n",
        "       else      e = S0;\n",
        "      S1: if (B) e = S1;\n",
        "       else      e = S2;\n",
        "      S2: if (B) e = S3;\n",
        "       else      e = S2;\n",
        "      S3: if (B) e = S3;\n",
        "       else      e = S0;\n",
        "      default:   e = 'bx;\n",
        "    endcase\n",
        "\n",
        "  // Bloco sequencial (ativa próximo estado)\n",
        "  always @(posedge arst or posedge clk)\n",
        "    if (arst) E <= S0;\n",
        "    else      E <= e;\n",
        "\n",
        "  // Define a saída a partir dos estados\n",
        "  assign L = (E == S1 | E == S2);\n",
        "endmodule"
      ],
      "metadata": {
        "id": "X5769MzSxu9a"
      },
      "execution_count": null,
      "outputs": []
    },
    {
      "cell_type": "markdown",
      "source": [
        "O teste a seguir possui exatamente os mesmos estímulos do anterior, mas incluimos o estado atual e o próximo estado no monitor na console e na simulação. Note que o próximo estado `e` muda imediatamente com a mudança da entrada `B`, mas a saída `L` só muda efetivamente com a mudança para o próximo estado `E`."
      ],
      "metadata": {
        "id": "8gxSt0x35bAT"
      }
    },
    {
      "cell_type": "code",
      "source": [
        "%%wavedrom\n",
        "`include \"BL4.v\"\n",
        "\n",
        "module tb_BL4;\n",
        "  reg clk, arst, B;\n",
        "  wire L;\n",
        "  wire [1:0] S;\n",
        "\n",
        "  BL4 dut(clk, arst, B, L);\n",
        "\n",
        "  always\n",
        "    #5 clk = ~clk;\n",
        "\n",
        "  initial\n",
        "  begin\n",
        "    $display(\"B  E L\");\n",
        "    $monitor(\"%b %b %b\", B, dut.E, L);\n",
        "    $dumpvars(0);\n",
        "    clk = 0; arst = 1; B = 0;\n",
        "    #5 arst = 0;\n",
        "    #15 B = 1; #20 B = 0;\n",
        "    #20 B = 1; #10 B = 0;\n",
        "    #10 B = 1; #10 B = 0;\n",
        "    #50 $finish;\n",
        "  end\n",
        "endmodule"
      ],
      "metadata": {
        "id": "kWVOMMII07MN"
      },
      "execution_count": null,
      "outputs": []
    },
    {
      "cell_type": "markdown",
      "source": [
        "A seguir está uma implementação mais compacta, em que declaramos apenas o estado atual e fazemos a atribuição direta do próximo estado nesta mesma variável. Note que o circuito resultante é exatamente o mesmo. Você pode testá-lo usando o *test bench* anterior."
      ],
      "metadata": {
        "id": "nVqX_cXV7UqP"
      }
    },
    {
      "cell_type": "code",
      "source": [
        "%%print_verilog -n BL4.v\n",
        "module BL4(\n",
        "  input clk, arst, B,\n",
        "  output L);\n",
        "\n",
        "  parameter [1:0] S0 = 2'b00,\n",
        "                  S1 = 2'b01,\n",
        "                  S2 = 2'b10,\n",
        "                  S3 = 2'b11;\n",
        "  reg [1:0] E;\n",
        "\n",
        "  always @(posedge arst or posedge clk)\n",
        "    if (arst) E <= S0;\n",
        "    else\n",
        "      case (E)\n",
        "        S0: if (B) E = S1;\n",
        "         else      E = S0;\n",
        "        S1: if (B) E = S1;\n",
        "         else      E = S2;\n",
        "        S2: if (B) E = S3;\n",
        "         else      E = S2;\n",
        "        S3: if (B) E = S3;\n",
        "         else      E = S0;\n",
        "        default:   E = 'bx;\n",
        "      endcase\n",
        "\n",
        "  assign L = (E == S1 | E == S2);\n",
        "endmodule"
      ],
      "metadata": {
        "id": "Q2qK9uKQ6HkH"
      },
      "execution_count": null,
      "outputs": []
    },
    {
      "cell_type": "markdown",
      "source": [
        "Antes de seguir para o próximo modelo, vamos implementar ainda mais uma versão do mesmo problema. No exemplo abaixo, estamos usando uma codificação chamada *one-hot*, na qual temos um bit para cada estado e apenas um deles fica acionado em cada estado. Aqui estamos atribuindo cada bit de estado individualmente, como no primeiro método que usamos (com as tabelas), mas note que as expressões ficam muito mais simples usando esta codificação. Este circuito também pode ser testado com o *test bench* anterior."
      ],
      "metadata": {
        "id": "t9EHzwNQ-cL3"
      }
    },
    {
      "cell_type": "code",
      "source": [
        "%%print_verilog -n BL4.v\n",
        "module BL4(\n",
        "  input clk, arst, B,\n",
        "  output L);\n",
        "\n",
        "  reg [3:0] E;\n",
        "\n",
        "  always @(posedge arst or posedge clk)\n",
        "    if (arst) E <= 4'b0001; //S0\n",
        "    else\n",
        "    begin\n",
        "      E[0] <= (E[3] | E[0]) & ~B; //S0 = 0001\n",
        "      E[1] <= (E[0] | E[1]) &  B; //S1 = 0010\n",
        "      E[2] <= (E[1] | E[2]) & ~B; //S2 = 0100\n",
        "      E[3] <= (E[2] | E[3]) &  B; //S3 = 1000\n",
        "    end\n",
        "\n",
        "  assign L = |E[2:1];\n",
        "endmodule"
      ],
      "metadata": {
        "id": "3gOdIYoh-a4b"
      },
      "execution_count": null,
      "outputs": []
    },
    {
      "cell_type": "markdown",
      "source": [
        "## Modelo de Mealy\n",
        "\n",
        "No modelo de Mealy, as saídas de uma FSM dependem do estado atual e das entradas, então anotamos as saídas nas transições e não nos estados. Considerando nosso problema anterior, já corrigido a questão da repetição da entrada do botão, teriamos a seguinte FSM:"
      ],
      "metadata": {
        "id": "UmZtNDmTZlEW"
      }
    },
    {
      "cell_type": "code",
      "source": [
        "# @title\n",
        "with schemdraw.Drawing() as d:\n",
        "    d += (s0 := flow.StateEnd().at((0,3)).label('$S_0$'))\n",
        "    d += (s1 := flow.State().at(   (4,3)).label('$S_1$'))\n",
        "    d += (s2 := flow.State().at(   (4,0)).label('$S_2$'))\n",
        "    d += (s3 := flow.State().at(   (0,0)).label('$S_3$'))\n",
        "\n",
        "    d += elm.ArcLoop(arrow='->').at(s0.SW).to(s0.NW).label('B=0/L=0', fontsize=11)\n",
        "    d += elm.ArcLoop(arrow='->').at(s1.NE).to(s1.SE).label('B=1/L=1', fontsize=11)\n",
        "    d += elm.ArcLoop(arrow='->').at(s2.NE).to(s2.SE).label('B=0/L=1', fontsize=11)\n",
        "    d += elm.ArcLoop(arrow='->').at(s3.SW).to(s3.NW).label('B=1/L=0', fontsize=11)\n",
        "\n",
        "    d += elm.Arc2(k=.25, arrow='->').at( s0.NE).to(s1.NW ).label('B=1/L=1', fontsize=11)\n",
        "    d += elm.Arc2(k=.25, arrow='->').at(s1.SSE).to(s2.NNE).label('B=0/L=1', fontsize=11)\n",
        "    d += elm.Arc2(k=.25, arrow='->').at( s2.SW).to(s3.SE ).label('B=1/L=0', fontsize=11)\n",
        "    d += elm.Arc2(k=.25, arrow='->').at(s3.NNW).to(s0.SSW).label('B=0/L=0', fontsize=11)"
      ],
      "metadata": {
        "cellView": "form",
        "id": "gwrNvklw9Cjz"
      },
      "execution_count": null,
      "outputs": []
    },
    {
      "cell_type": "markdown",
      "source": [
        "Nossa tabela de transições de estados agora tem uma coluna a mais, pois a saída também depende da entrada.\n",
        "\n",
        "<table>\n",
        "<thead>\n",
        "  <tr>\n",
        "    <th rowspan=\"2\">Estado<br>Atual</th>\n",
        "    <th colspan=\"2\">Próximo Estado</th>\n",
        "    <th colspan=\"2\">Saída L</th>\n",
        "  </tr>\n",
        "  <tr>\n",
        "    <th>B=0</th>\n",
        "    <th>B=1</th>\n",
        "    <th>B=0</th>\n",
        "    <th>B=1</th>\n",
        "  </tr>\n",
        "</thead>\n",
        "<tbody>\n",
        "  <tr>\n",
        "    <td>S0</td>\n",
        "    <td>S0</td>\n",
        "    <td>S1</td>\n",
        "    <td>0</td>\n",
        "    <td>1</td>\n",
        "  </tr>\n",
        "  <tr>\n",
        "    <td>S1</td>\n",
        "    <td>S2</td>\n",
        "    <td>S1</td>\n",
        "    <td>1</td>\n",
        "    <td>1</td>\n",
        "  </tr>\n",
        "  <tr>\n",
        "    <td>S2</td>\n",
        "    <td>S2</td>\n",
        "    <td>S3</td>\n",
        "    <td>1</td>\n",
        "    <td>0</td>\n",
        "  </tr>\n",
        "  <tr>\n",
        "    <td>S3</td>\n",
        "    <td>S0</td>\n",
        "    <td>S3</td>\n",
        "    <td>0</td>\n",
        "    <td>0</td>\n",
        "  </tr>\n",
        "</tbody>\n",
        "</table>\n",
        "\n",
        "O mesmo acontece na tabela de atribuição de estados:\n",
        "\n",
        "<table>\n",
        "<thead>\n",
        "  <tr>\n",
        "    <th rowspan=\"2\">Estado<br>Atual</th>\n",
        "    <th colspan=\"2\">Próximo Estado</th>\n",
        "    <th colspan=\"2\">Saída L</th>\n",
        "  </tr>\n",
        "  <tr>\n",
        "    <th>B=0</th>\n",
        "    <th>B=1</th>\n",
        "    <th>B=0</th>\n",
        "    <th>B=1</th>\n",
        "  </tr>\n",
        "</thead>\n",
        "<tbody>\n",
        "  <tr>\n",
        "    <td>00</td>\n",
        "    <td>00</td>\n",
        "    <td>01</td>\n",
        "    <td>0</td>\n",
        "    <td>1</td>\n",
        "  </tr>\n",
        "  <tr>\n",
        "    <td>01</td>\n",
        "    <td>10</td>\n",
        "    <td>01</td>\n",
        "    <td>1</td>\n",
        "    <td>1</td>\n",
        "  </tr>\n",
        "  <tr>\n",
        "    <td>10</td>\n",
        "    <td>10</td>\n",
        "    <td>11</td>\n",
        "    <td>1</td>\n",
        "    <td>0</td>\n",
        "  </tr>\n",
        "  <tr>\n",
        "    <td>11</td>\n",
        "    <td>00</td>\n",
        "    <td>11</td>\n",
        "    <td>0</td>\n",
        "    <td>0</td>\n",
        "  </tr>\n",
        "</tbody>\n",
        "</table>\n",
        "\n",
        "Nossa função de saída $L$ agora também tem $B$ como variável de entrada:\n",
        "\n",
        "* $e_1(B, E_1, E_0)  = \\overline{B}.(E_1 \\oplus E_0) + B.E_1$\n",
        "* $e_0(B, E_1, E_0) = B$\n",
        "* $L(B, E_1, E_0) = \\overline{B}.(E_1 \\oplus E_0) + B.\\overline{E_1}$\n",
        "\n",
        "Se observarmos o circuito gerado a seguir, podemos notar que há um caminho que começa na entrada $B$ e vai até a saída $L$, sem passar pelos elementos de estado:"
      ],
      "metadata": {
        "id": "kis680B1_YWy"
      }
    },
    {
      "cell_type": "code",
      "source": [
        "%%print_verilog -n BL2Mealy.v\n",
        "module BL2Mealy(\n",
        "  input clk, arst, B,\n",
        "  output L);\n",
        "\n",
        "  reg E1, E0;\n",
        "\n",
        "  always@(posedge clk or posedge arst)\n",
        "    if (arst)\n",
        "    begin\n",
        "      E1 <= 1'b0;\n",
        "      E0 <= 1'b0;\n",
        "    end\n",
        "    else\n",
        "    begin\n",
        "      E1 <= ~B & (E1 ^ E0) | B & E1;\n",
        "      E0 <= B;\n",
        "    end\n",
        "  assign L = ~B & (E1 ^ E0) | B & ~E1;\n",
        "endmodule"
      ],
      "metadata": {
        "id": "uVhUA9Zc_YB7"
      },
      "execution_count": null,
      "outputs": []
    },
    {
      "cell_type": "markdown",
      "source": [
        "O efeito disso pode ser notado na simulação. A transição dos estados ocorre exatamente como no modelo de Moore, mas a saída é modificada antes, já no acionamento do botão. Em certos casos, esta possibilidade permite resolver o mesmo problema com um número menor de estados, como veremos a seguir."
      ],
      "metadata": {
        "id": "2Gra-yc9FIBk"
      }
    },
    {
      "cell_type": "code",
      "source": [
        "%%wavedrom\n",
        "`include \"BL2Mealy.v\"\n",
        "\n",
        "module tb_BL2Mealy;\n",
        "  reg clk, arst, B;\n",
        "  wire L;\n",
        "  wire [1:0] S;\n",
        "\n",
        "  BL2Mealy dut(clk, arst, B, L);\n",
        "\n",
        "  always\n",
        "    #5 clk = ~clk;\n",
        "\n",
        "  initial\n",
        "  begin\n",
        "    $display(\"B Sn L\");\n",
        "    $monitor(\"%b %b%b %b\", B, dut.E1, dut.E0, L);\n",
        "    $dumpvars(0);\n",
        "    clk = 0; arst = 1; B = 0;\n",
        "    #5 arst = 0;\n",
        "    #15 B = 1; #20 B = 0;\n",
        "    #20 B = 1; #10 B = 0;\n",
        "    #10 B = 1; #10 B = 0;\n",
        "    #50 $finish;\n",
        "  end\n",
        "endmodule"
      ],
      "metadata": {
        "id": "7_ZQXBGqAZoz"
      },
      "execution_count": null,
      "outputs": []
    },
    {
      "cell_type": "markdown",
      "source": [
        "# Memórias\n",
        "\n",
        "A evolução natural dos registradores que vimos na segunda parte deste livro são as memórias. Elas consistem em um conjunto de registradores acessíveis por determinados endereços. Na descrição a seguir, espeficicamos em Verilog estrutural uma memória com 4 registradores, cada uma deles com 1 byte. Usamos um decodificador para ativar a escrita em um determinado registrador a partir do endereço indicado em `write_address` (linha 12). Para a leitura usamos um multiplexador que escolhe a partir do endereço apontado por `read_address`\n",
        " o valor desejado (linhas 19-20).  \n"
      ],
      "metadata": {
        "id": "dlI_G2--dDCp"
      }
    },
    {
      "cell_type": "code",
      "source": [
        "%%print_verilog -n mem8x4.v\n",
        "\n",
        "module mem8x4(\n",
        "  input clk, write_enable,\n",
        "  input [1:0] read_address, write_address,\n",
        "  input [7:0] data_in,\n",
        "  output [7:0] data_out);\n",
        "\n",
        "  wire [7:0] wire_out00, wire_out01, wire_out10, wire_out11;\n",
        "  wire [3:0] write;\n",
        "\n",
        "  dec2to4enW addr_dec(write_address, write_enable, write);\n",
        "\n",
        "  regn a0(clk, write[0], data_in, wire_out00);\n",
        "  regn a1(clk, write[1], data_in, wire_out01);\n",
        "  regn a2(clk, write[2], data_in, wire_out10);\n",
        "  regn a3(clk, write[3], data_in, wire_out11);\n",
        "\n",
        "  assign data_out = read_address[1] ? (read_address[0] ? wire_out11 : wire_out10)\n",
        "                                    : (read_address[0] ? wire_out01 : wire_out00);\n",
        "endmodule\n",
        "\n",
        "module regn (\n",
        "  input clk, en,\n",
        "  input [7:0] data_in,\n",
        "  output reg [7:0] data_out);\n",
        "\n",
        "  always@(posedge clk)\n",
        "    if (en)\n",
        "      data_out = data_in;\n",
        "endmodule\n",
        "\n",
        "module dec2to4enW (\n",
        "\tinput [1:0] w,\n",
        "  input En,\n",
        "\toutput [3:0] y);\n",
        "\n",
        "  assign y[0] = ~w[1] & ~w[0] & En;\n",
        "  assign y[1] = ~w[1] &  w[0] & En;\n",
        "  assign y[2] =  w[1] & ~w[0] & En;\n",
        "  assign y[3] =  w[1] &  w[0] & En;\n",
        "endmodule"
      ],
      "metadata": {
        "id": "dPA9eN0DjKqP"
      },
      "execution_count": null,
      "outputs": []
    },
    {
      "cell_type": "markdown",
      "source": [
        "No teste a seguir podemos observar uma sequência de escritas e leituras nos endereços subsequentes. A escrita é feita na borda de subida do relógio, mas a leitura é combinacional."
      ],
      "metadata": {
        "id": "ZMIfMwqKnqiJ"
      }
    },
    {
      "cell_type": "code",
      "source": [
        "%%wavedrom\n",
        "`include \"mem8x4.v\"\n",
        "\n",
        "module tb_mem8x4;\n",
        "  reg clk, write_enable;\n",
        "  reg [1:0] read_address, write_address;\n",
        "  reg [7:0] data_in;\n",
        "  wire [7:0] data_out;\n",
        "\n",
        "  mem8x4 dut(clk, write_enable, read_address, write_address, data_in, data_out);\n",
        "\n",
        "  always\n",
        "    #5 clk = ~clk;\n",
        "\n",
        "  initial\n",
        "  begin\n",
        "    $dumpvars(1);\n",
        "    clk = 0; write_enable = 1;\n",
        "        write_address = 0; data_in = 8'hCA;\n",
        "    #10 write_address = 1; data_in = 8'hFE;\n",
        "    #10 write_address = 2; data_in = 8'hBA;\n",
        "    #10 write_address = 3; data_in = 8'hBE;\n",
        "    #10 write_address = 2'bzz; data_in = 8'hzz;\n",
        "       read_address = 0; write_enable = 0;\n",
        "    #5 read_address = 1;\n",
        "    #5 read_address = 2;\n",
        "    #5 read_address = 3;\n",
        "    #5 read_address = 2'bzz;\n",
        "    $finish;\n",
        "  end\n",
        "endmodule"
      ],
      "metadata": {
        "id": "QzzglPbooNBR"
      },
      "execution_count": null,
      "outputs": []
    },
    {
      "cell_type": "markdown",
      "source": [
        "Podemos construir a mesma memória de forma mais simples, usando Verilog comportamental. Observe o código abaixo, note que ele tem uma única porta para o endereço, que serve tanto para a escrita quanto para a leitura. Modifique o *test bench* anterior para testar também esta implementação."
      ],
      "metadata": {
        "id": "s1KbUukzyNRX"
      }
    },
    {
      "cell_type": "code",
      "source": [
        "%%verilog -n mem8x4.v\n",
        "module mem8x4 (\n",
        "  input clk, we,\n",
        "  input [1:0] address,\n",
        "  input [7:0] data_in,\n",
        "  output [7:0] data_out);\n",
        "\n",
        "  reg [7:0] RAM [3:0];\n",
        "\n",
        "  assign data_out = RAM[address];\n",
        "\n",
        "  always @(posedge clk)\n",
        "    if (we)\n",
        "      RAM[address] <= data_in;\n",
        "endmodule"
      ],
      "metadata": {
        "id": "gs87hfahdGmr"
      },
      "execution_count": null,
      "outputs": []
    },
    {
      "cell_type": "markdown",
      "metadata": {
        "id": "_2Rxui2snktf"
      },
      "source": [
        "# Barramentos\n",
        "\n",
        "Até agora, nossos circuitos possuiam fios dedicados para conectar a saída de um componente até uma ou mais entradas de outros componentes. Em alguns casos, ter ligações dedicadas pode ser muito custoso e precisamos usar barramentos compartilhados. Para isso, precisamos usar *buffers* que permitem deixar saídas com **alta impedância** como se estivessem desconectadas. Em Verilog, as primitivas básicas para construir estes barramentos, chamados *tristate*, são as seguintes:"
      ]
    },
    {
      "cell_type": "code",
      "source": [
        "# @title\n",
        "%reload_ext autoreload\n",
        "%autoreload 2\n",
        "\n",
        "import schemdraw\n",
        "from schemdraw import logic\n",
        "\n",
        "with schemdraw.Drawing() as d:\n",
        "    d += logic.Tristate(outputnot = True, controlnot = False).label('notif1')\n",
        "    d += elm.Gap().length(1)\n",
        "    d += logic.Tristate(outputnot = True, controlnot = True).label('notif0')\n",
        "    d += elm.Gap().length(1)\n",
        "    d += logic.Tristate(outputnot = False, controlnot = False).label('bufif1')\n",
        "    d += elm.Gap().length(1)\n",
        "    d += logic.Tristate(outputnot = False, controlnot = True).label('bufif0')\n"
      ],
      "metadata": {
        "id": "OrGp-XBeIGAv",
        "cellView": "form"
      },
      "execution_count": null,
      "outputs": []
    },
    {
      "cell_type": "markdown",
      "source": [
        "Ao invés de instanciar estas primitivas básicas, podemos simplesmente atribuir um valor `z` a um fio ou barramento para colocá-lo no estado de alta impedância, por exemplo:\n",
        "```verilog\n",
        "parameter N = 8;\n",
        "wire [N-1:0] notif1bus, notif0bus, bufif1bus, bufif0bus, in;\n",
        "assign notif1bus =  control ? ~in : 'bz;\n",
        "assign notif0bus = ~control ? ~in : 'bz;\n",
        "assign bufif1bus =  control ?  in : 'bz;\n",
        "assign bufif0bus = ~control ?  in : 'bz;\n",
        "```"
      ],
      "metadata": {
        "id": "6dHd5wLzW1WT"
      }
    },
    {
      "cell_type": "markdown",
      "source": [
        "A seguir construimos um circuito em duas partes, ligadas por um barramento bidirecional compartilhado, para gerar a seguência de Fibonacci. As partes são idênticas e possuem as seguintes características:\n",
        "\n",
        "* Um parâmetro `resetval` para o valor de reset (linha 3);\n",
        "* Uma porta bidirecional de 32 bits declarada como *tristate* (linha 5);\n",
        "* Um único registrador inteiro de 32 bits (linha 6);\n",
        "* Um somador de 32 bits inferido pelo operador aritmético `+` (linha 12);\n",
        "\n",
        "Cada parte tem o seguinte comportamento:\n",
        "\n",
        "* Se `enable`,\n",
        "  - então o registrador interno `value` acumula seu valor com o valor que chega do barramento externo `bus`, usando-o como entrada;\n",
        "* Senão,\n",
        "  - ele propaga o valor do registrador interno `value` para o barramento externo `bus`, usando-o como saída;\n",
        "\n",
        "Unimos as duas partes no próprio teste, a única diferença é que elas possuem valores iniciais diferentes e o controle `en` invertido.\n",
        "\n",
        "Na simulação a seguir, podemos notar que a sequência de Fibonacci aparece apenas no barramento, pois seus valores são calculados alternadamente nas partes do circuito."
      ],
      "metadata": {
        "id": "nTCFOBdT2TV8"
      }
    },
    {
      "cell_type": "code",
      "source": [
        "%%wavedrom\n",
        "\n",
        "module fibo #(parameter resetval = 0)(\n",
        "  input clk, rst, enable,\n",
        "  inout tri [31:0] bus);\n",
        "  integer value;\n",
        "  always @(posedge clk)\n",
        "    if (rst)\n",
        "      value = resetval;\n",
        "    else\n",
        "      if (enable)\n",
        "        value = value + bus;\n",
        "  assign bus = enable ? 'bz : value;\n",
        "endmodule\n",
        "\n",
        "module t_fibo;\n",
        "  wire [31:0] bus;\n",
        "  reg clk, rst, ec;\n",
        "\n",
        "  fibo #(0) a(clk, rst,  ec, bus);\n",
        "  fibo #(1) b(clk, rst, ~ec, bus);\n",
        "\n",
        "  initial begin\n",
        "    $dumpfile(\"dump.vcd\");\n",
        "    $dumpvars(1);\n",
        "    $display(\"  a  bus  b\");\n",
        "    $monitor(\"%3d %3d %3d\", a.value, bus, b.value);\n",
        "    rst = 1; ec = 0;\n",
        "    #10 rst = 0;\n",
        "    #120 $finish;\n",
        "  end\n",
        "\n",
        "  always begin\n",
        "    clk = 0; #5; clk = 1; #5;\n",
        "  end\n",
        "\n",
        "  always @(negedge clk)\n",
        "    ec = ~ec;\n",
        "endmodule"
      ],
      "metadata": {
        "id": "_LAI0Q8HLFDB"
      },
      "execution_count": null,
      "outputs": []
    },
    {
      "cell_type": "markdown",
      "source": [
        "# Um processador simples\n",
        "\n",
        "Vamos concluir nosso livro introdutório de Lógica Digital com um processador simples, chamado [$\\mu P^1$](https://github.com/menotti/up1), que possui pouco mais de 50 linhas de código Verilog com as seguintes características:\n",
        "\n",
        "* É um processador multiciclo de 3 estados: busca (`FETCH`), decodifica (`DECODE`) e executa (`EXECUTE`).\n",
        "* Possui os seguintes registradores:\n",
        "  - `pc`: contador de programa;\n",
        "  - `acc`: acumulador;\n",
        "  - `ir`: instrução;\n",
        "  - `mbr`: *buffer* de memória;\n",
        "  - `mar`: endereço de memória;\n",
        "* Possui apenas 4 instruções:\n",
        "\n",
        "  - `LOAD`: carrega um dado da memória para o acumulador;\n",
        "  - `STORE`: grava o acumulador na memória;\n",
        "  - `ADD`: acumula o valor atual do acumulador com o de uma posição na memória;\n",
        "  - `JUMP`: salta para uma posição de memória.\n",
        "\n",
        "\n"
      ],
      "metadata": {
        "id": "LX_gLVerwnxi"
      }
    },
    {
      "cell_type": "code",
      "source": [
        "%%verilog -n up1.v\n",
        "module uP(\n",
        "  input clock, reset,\n",
        "  inout [7:0] mbr,\n",
        "  output logic we,\n",
        "  output logic [7:0] mar, pc, ir);\n",
        "\n",
        "  parameter FETCH = 0, DECODE = 1, EXECUTE = 2;\n",
        "  reg [1:0] state, nextstate;\n",
        "  reg [7:0] acc;\n",
        "\n",
        "  always @(posedge clock or posedge reset)\n",
        "  begin\n",
        "    if (reset) begin\n",
        "      pc = 'b0;\n",
        "      state <= FETCH;\n",
        "    end\n",
        "    else begin\n",
        "      case(state)\n",
        "      FETCH: begin\n",
        "        we <= 0;\n",
        "        pc <= pc + 1;\n",
        "        mar <= pc;\n",
        "      end\n",
        "      DECODE: begin\n",
        "        ir = mbr;\n",
        "        mar <= {4'b1111, ir[3:0]};\n",
        "      end\n",
        "      EXECUTE: begin\n",
        "        if (ir[7] == 1'b1)           // jump\n",
        "          pc <= {1'b0, ir[6:0]};\n",
        "        else if (ir[7:4] == 4'b0100) // indirect load\n",
        "          acc <= mbr;\n",
        "        else if (ir[7:4] == 4'b0101) // add acc + data\n",
        "          acc <= acc + mbr;\n",
        "        else if (ir[7:4] == 4'b0011) // store\n",
        "          we <= 1'b1;\n",
        "      end\n",
        "      endcase\n",
        "      state <= nextstate;\n",
        "    end\n",
        "  end\n",
        "\n",
        "  always @(*)\n",
        "    case(state)\n",
        "      FETCH:   nextstate = DECODE;\n",
        "      DECODE:  nextstate = EXECUTE;\n",
        "      EXECUTE: nextstate = FETCH;\n",
        "      default: nextstate = FETCH;\n",
        "    endcase\n",
        "\n",
        "  assign mbr = we ? acc : 'bz;\n",
        "endmodule"
      ],
      "metadata": {
        "id": "RE_xPNDZ6FrF"
      },
      "execution_count": null,
      "outputs": []
    },
    {
      "cell_type": "markdown",
      "source": [
        "<h2>Organização de memória</h2>\n",
        "\n",
        "A memória do $\\mu P^1$ é organizada da seguinte maneira:\n",
        "\n",
        "  - `[0x0_0000000:0x0_1111111]` **Código**: os endereços que começam por `0x0` ($2^7=128=$ metade da memória) são reservados para instruções;\n",
        "  - `[0x1_000_0000:0x1_110_1111]` **Não alocada**: os endereços seguintes, quase até o final da memória ($2^7-2^4=112$) não são utilizados;\n",
        "  - `[0x1111_0000:0x1111_1111]` **Dados**: os endereços que começam por `0x1111` ($2^4=16$) são reservados para dados.\n",
        "\n",
        "<h2>Conjunto de instruções</h2>\n",
        "\n",
        "O processador $\\mu P^1$ possui então **dois tipos** de instruções:\n",
        "\n",
        "  - `[0x0_nnn_aaaa]` **Formato M**: instruções que acessam a memória começam por `0x0`, possuem mais 3 bits no campo `opcode (nnn)` e um campo de `endereço (aaaa)` de 4 bits, relativo à seção de dados;\n",
        "  - `[0x1_aaaaaaa]` **Formato J**: uma única instrução de salto começada por `0x1` e um campo de `endereço (aaaaaaa)` de 7 bits, relativo à seção de código;\n",
        "\n",
        "As instruções implementadas inicialmente são as seguintes:\n",
        "\n",
        "|código|instrução|\n",
        "|:-:|:--|\n",
        "|`0x0011dddd`|STORE|\n",
        "|`0x0100dddd`|LOAD |\n",
        "|`0x0101dddd`|ADD  |\n",
        "|`0x1ccccccc`|JUMP |\n",
        "\n",
        "Podemos notar no código do processador que para acessar a memória de dados fixamos `0x1111` no início do endereço e completamos com os demais 4 bits da instrução `dddd` (linha 27). Analogamente, para acessar a memória de instruções fixamos `0x0` no início do endereço e completamos com os demais 7 bits da instrução `ccccccc` (linha 31).\n",
        "\n",
        "<h2>John von Neumann</h2>\n",
        "\n",
        "A seguir temos o código da memória usada no $\\mu P^1$, seguindo o modelo de processador idealizado por John von Neumann, que possui instruções e dados na mesma memória.  Vemos que a porta de dados é bi-direcional (linha 5) e que utiliza um barramento *tristate* (linha 25). Ela possui largura de um único byte e 256 de profundidade (linha 7). O programa é carregado diretamente na memória em binário (linhas 12-19), assim como as variáveis (linhas 21-22). Você consegue decifrá-lo?"
      ],
      "metadata": {
        "id": "cDEzaDr_jsSt"
      }
    },
    {
      "cell_type": "code",
      "source": [
        "%%verilog -n jvn.v\n",
        "module mem (\n",
        "  input clock, we,\n",
        "  input [7:0] address,\n",
        "  inout [7:0] data);\n",
        "\n",
        "  reg [7:0] RAM[0:255];\n",
        "\n",
        "  initial\n",
        "  begin\n",
        "    // code section\n",
        "    RAM[0] = 8'b0100_0000;\n",
        "    RAM[1] = 8'b0101_0001;\n",
        "    RAM[2] = 8'b0011_0010;\n",
        "    RAM[3] = 8'b0100_0001;\n",
        "    RAM[4] = 8'b0011_0000;\n",
        "    RAM[5] = 8'b0100_0010;\n",
        "    RAM[6] = 8'b0011_0001;\n",
        "    RAM[7] = 8'b1_0000000;\n",
        "    // data section\n",
        "    RAM[240] = 8'b00000000;\n",
        "    RAM[241] = 8'b00000001;\n",
        "  end\n",
        "\n",
        "  assign data = we ? 'bz : RAM[address];\n",
        "\n",
        "  always @(posedge clock)\n",
        "    if (we) RAM[address] <= data;\n",
        "endmodule"
      ],
      "metadata": {
        "id": "tz-8hM4OCA58"
      },
      "execution_count": null,
      "outputs": []
    },
    {
      "cell_type": "markdown",
      "source": [
        "A seguir instanciamos o processador e a memória (já com o conteúdo) para testar sua execução. Colocamos os principais sinais em um `$monitor`, note que alguns estão em decimal e outros em hexadecimal. Também geramos um diagrama de forma de ondas. Você consegue identificar a sequência de Fibonacci em ambos?"
      ],
      "metadata": {
        "id": "1KTysA2_s6VD"
      }
    },
    {
      "cell_type": "code",
      "source": [
        "%%wavedrom\n",
        "`include \"up1.v\"\n",
        "`include \"jvn.v\"\n",
        "module up_tb;\n",
        "  reg clock, reset;\n",
        "  wire we;\n",
        "  wire [7:0] address, ir, pc, data;\n",
        "\n",
        "  uP proc(clock, reset, data, we, address, pc, ir);\n",
        "  mem ram(clock, we, address, data);\n",
        "\n",
        "  initial\n",
        "  begin\n",
        "    $display(\"time  pc  ir mar mbr we\");\n",
        "    $display(\"  ns   d   h   h   d  b\");\n",
        "    $monitor(\"%4d %3d %3h %3h %3d %b\", $time, pc, ir, address, data, we);\n",
        "    $dumpfile(\"dump.vcd\"); $dumpvars(1);\n",
        "    reset <= 1; #10; reset <= 0;\n",
        "    #2725; $finish;\n",
        "  end\n",
        "\n",
        "  always\n",
        "  begin\n",
        "    clock <= 0; #5; clock <= 1; #5;\n",
        "  end\n",
        "endmodule"
      ],
      "metadata": {
        "id": "WKoKox35CtYb"
      },
      "execution_count": null,
      "outputs": []
    },
    {
      "cell_type": "markdown",
      "source": [
        "Com isso, concluimos nossa jornada de introdução à Lógica Digital. A partir daqui, podemos aprofundar em dois caminhos distintos e complementares:\n",
        "\n",
        "  - Hardware de propósito geral (projeto de processadores, e. g. [RISC-V](https://github.com/menotti/lightriscv));\n",
        "  - Hardware de propósito específico (projetos [dedicados](https://opencores.org/projects) para solucionar ou acelerar a execução de um problema computacional)."
      ],
      "metadata": {
        "id": "xRUcadoQtu7T"
      }
    }
  ],
  "metadata": {
    "colab": {
      "provenance": [],
      "include_colab_link": true
    },
    "kernelspec": {
      "display_name": "Python 3",
      "name": "python3"
    },
    "language_info": {
      "name": "python"
    }
  },
  "nbformat": 4,
  "nbformat_minor": 0
}